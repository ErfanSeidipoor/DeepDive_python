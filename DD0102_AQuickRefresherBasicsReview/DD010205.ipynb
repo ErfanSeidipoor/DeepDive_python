{
 "cells": [
  {
   "cell_type": "code",
   "execution_count": 1,
   "metadata": {},
   "outputs": [
    {
     "name": "stdout",
     "output_type": "stream",
     "text": [
      "a < 10\n"
     ]
    }
   ],
   "source": [
    "a = 6\n",
    "if a < 10:\n",
    "    print(\"a < 10\")\n",
    "else:\n",
    "    print(\"a > 10\")"
   ]
  },
  {
   "cell_type": "code",
   "execution_count": 4,
   "metadata": {},
   "outputs": [
    {
     "output_type": "stream",
     "name": "stdout",
     "text": [
      "a >= 10\n"
     ]
    }
   ],
   "source": [
    "a = 6\n",
    "if a<5:\n",
    "    print(\"a<5\")\n",
    "else:\n",
    "    if a > 10:\n",
    "        print(\"a>6\")\n",
    "    else:\n",
    "        print(\"a >= 10\")"
   ]
  },
  {
   "cell_type": "code",
   "execution_count": 5,
   "metadata": {},
   "outputs": [
    {
     "output_type": "stream",
     "name": "stdout",
     "text": [
      "a < 10\n"
     ]
    }
   ],
   "source": [
    "if a < 5:\n",
    "    print(\"a < 5\")\n",
    "elif a < 10:\n",
    "    print(\"a < 10\")\n",
    "elif a < 15:\n",
    "    print(\"a < 15\")\n",
    "elif a < 20:\n",
    "    print(\"a < 20\")\n",
    "else: pritn(\"a > 20\")"
   ]
  },
  {
   "cell_type": "code",
   "execution_count": 7,
   "metadata": {},
   "outputs": [
    {
     "output_type": "stream",
     "name": "stdout",
     "text": [
      "a>=5\n"
     ]
    }
   ],
   "source": [
    "b = 'a<5' if a < 5 else 'a>=5'\n",
    "print(b)"
   ]
  },
  {
   "cell_type": "code",
   "execution_count": null,
   "metadata": {},
   "outputs": [],
   "source": []
  }
 ],
 "metadata": {
  "kernelspec": {
   "display_name": "Python 3",
   "language": "python",
   "name": "python3"
  },
  "language_info": {
   "codemirror_mode": {
    "name": "ipython",
    "version": 3
   },
   "file_extension": ".py",
   "mimetype": "text/x-python",
   "name": "python",
   "nbconvert_exporter": "python",
   "pygments_lexer": "ipython3",
   "version": "3.8.5-final"
  }
 },
 "nbformat": 4,
 "nbformat_minor": 2
}