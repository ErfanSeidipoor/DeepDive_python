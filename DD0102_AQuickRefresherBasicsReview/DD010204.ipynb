{
 "cells": [
  {
   "cell_type": "markdown",
   "metadata": {},
   "source": [
    "<p>packages: short, all-lowercase names, Preferably no underscores.             ex: utilities</p>\n",
    "<p>Modules: short, all_lowercase names. can have underscores.                   ex: db_utils dbutils</p>\n",
    "<p>classes: CapWords (upper camel case) convention                              ex: BankAccount</p>\n",
    "<p>Functions: lowercase, words separated by underscores (snake_case)            ex: open_account</p> \n",
    "<p>Variables: lowercase, words separated by underscores (snake_case)            ex: account_id</p>\n",
    "<p>Constants: all_uppercase, words seperateed bu underscores                    ex: MIN_APr</p>"
   ]
  },
  {
   "cell_type": "code",
   "execution_count": null,
   "metadata": {},
   "outputs": [],
   "source": []
  }
 ],
 "metadata": {
  "kernelspec": {
   "display_name": "Python 3",
   "language": "python",
   "name": "python3"
  },
  "language_info": {
   "codemirror_mode": {
    "name": "ipython",
    "version": 3
   },
   "file_extension": ".py",
   "mimetype": "text/x-python",
   "name": "python",
   "nbconvert_exporter": "python",
   "pygments_lexer": "ipython3",
   "version": "3.8.5"
  }
 },
 "nbformat": 4,
 "nbformat_minor": 2
}