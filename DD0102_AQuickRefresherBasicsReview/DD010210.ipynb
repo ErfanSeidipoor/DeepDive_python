{
 "metadata": {
  "language_info": {
   "codemirror_mode": {
    "name": "ipython",
    "version": 3
   },
   "file_extension": ".py",
   "mimetype": "text/x-python",
   "name": "python",
   "nbconvert_exporter": "python",
   "pygments_lexer": "ipython3",
   "version": "3.8.5-final"
  },
  "orig_nbformat": 2,
  "kernelspec": {
   "name": "python3",
   "display_name": "Python 3",
   "language": "python"
  }
 },
 "nbformat": 4,
 "nbformat_minor": 2,
 "cells": [
  {
   "source": [
    "<h1>Class</h1>"
   ],
   "cell_type": "markdown",
   "metadata": {}
  },
  {
   "cell_type": "code",
   "execution_count": 12,
   "metadata": {},
   "outputs": [
    {
     "output_type": "stream",
     "name": "stdout",
     "text": [
      "10\n20\n100\n"
     ]
    }
   ],
   "source": [
    "class Rectangle:\n",
    "    def __init__(self, width, height):\n",
    "        self.width = width\n",
    "        self.height = height\n",
    "\n",
    "rect1 = Rectangle(10, 20)\n",
    "\n",
    "print(rect1.width)\n",
    "print(rect1.height)\n",
    "\n",
    "rect1.width = 100\n",
    "print(rect1.width)\n"
   ]
  },
  {
   "cell_type": "code",
   "execution_count": 16,
   "metadata": {},
   "outputs": [
    {
     "output_type": "stream",
     "name": "stdout",
     "text": [
      "350\n90\n"
     ]
    }
   ],
   "source": [
    "class Rectangle2:\n",
    "    def __init__(self, width, height):\n",
    "        self.width = width\n",
    "        self.height = height\n",
    "    def area(self):\n",
    "        return self.width * self.height\n",
    "    def perimeter(self):\n",
    "        return 2* ( self.width + self.height)\n",
    "\n",
    "rect2 = Rectangle2(10, 35)\n",
    "print(rect2.area())\n",
    "print(rect2.perimeter())\n"
   ]
  },
  {
   "cell_type": "code",
   "execution_count": 20,
   "metadata": {},
   "outputs": [
    {
     "output_type": "stream",
     "name": "stdout",
     "text": [
      "<__main__.Rectangle2 object at 0x7f187af24a30>\n"
     ]
    }
   ],
   "source": [
    "print(str(rect2))"
   ]
  },
  {
   "cell_type": "code",
   "execution_count": 22,
   "metadata": {},
   "outputs": [
    {
     "output_type": "execute_result",
     "data": {
      "text/plain": [
       "139743118641712"
      ]
     },
     "metadata": {},
     "execution_count": 22
    }
   ],
   "source": [
    "id(rect2) #memory address"
   ]
  },
  {
   "cell_type": "code",
   "execution_count": 21,
   "metadata": {},
   "outputs": [
    {
     "output_type": "execute_result",
     "data": {
      "text/plain": [
       "'0x7f187af24a30'"
      ]
     },
     "metadata": {},
     "execution_count": 21
    }
   ],
   "source": [
    "hex(id(rect2)) "
   ]
  },
  {
   "cell_type": "code",
   "execution_count": 23,
   "metadata": {},
   "outputs": [
    {
     "output_type": "execute_result",
     "data": {
      "text/plain": [
       "'<__main__.Rectangle object at 0x7f187bbcd460>'"
      ]
     },
     "metadata": {},
     "execution_count": 23
    }
   ],
   "source": [
    "str(rect1)"
   ]
  },
  {
   "cell_type": "code",
   "execution_count": 25,
   "metadata": {},
   "outputs": [
    {
     "output_type": "stream",
     "name": "stdout",
     "text": [
      "<__main__.Rectangle3 object at 0x7f187b5050d0>\nRectangle: width=10 height=20\n"
     ]
    }
   ],
   "source": [
    "class Rectangle3:\n",
    "    def __init__(self, width, height):\n",
    "        self.width = width\n",
    "        self.height = height\n",
    "\n",
    "class Rectangle4:\n",
    "    def __init__(self, width, height):\n",
    "        self.width = width\n",
    "        self.height = height\n",
    "    def __str__(self):\n",
    "        return \"Rectangle: width={0} height={1}\".format(self.width, self.height)\n",
    "\n",
    "rect3 = Rectangle3(10, 20)\n",
    "rect4 = Rectangle4(10, 20)\n",
    "\n",
    "print(str(rect3))\n",
    "print(str(rect4))\n"
   ]
  },
  {
   "cell_type": "code",
   "execution_count": 34,
   "metadata": {},
   "outputs": [
    {
     "output_type": "stream",
     "name": "stdout",
     "text": [
      "<__main__.Rectangle5 object at 0x7f187b7e8f40>\nRectangle5(10, 34)\n"
     ]
    }
   ],
   "source": [
    "class Rectangle5:\n",
    "    def __init__(self, width, height):\n",
    "        self.width = width\n",
    "        self.height = height\n",
    "\n",
    "class Rectangle6:\n",
    "    def __init__(self, width, height):\n",
    "        self.width = width\n",
    "        self.height = height\n",
    "\n",
    "    def __repr__(self): #How We can build object like same\n",
    "        return \"Rectangle5({0}, {1})\".format(self.width, self.height)\n",
    "\n",
    "rect5 = Rectangle5(10, 34)     \n",
    "print(rect5)  \n",
    "\n",
    "rect6 = Rectangle6(10, 34)     \n",
    "print(rect6)  \n"
   ]
  },
  {
   "cell_type": "code",
   "execution_count": 45,
   "metadata": {},
   "outputs": [
    {
     "output_type": "stream",
     "name": "stdout",
     "text": [
      "False\nFalse\nTrue\nTrue\nFalse\n"
     ]
    }
   ],
   "source": [
    "rect6_ = Rectangle6(1, 2) \n",
    "rect6__ = Rectangle6(1, 2) \n",
    "\n",
    "print(rect6_ is rect6__)\n",
    "print(rect6_ == rect6__)\n",
    "\n",
    "rect6__ = rect6_\n",
    "print(rect6_ is rect6__)\n",
    "print(rect6_ == rect6__)\n",
    "print(rect6_ is not rect6__)"
   ]
  },
  {
   "cell_type": "code",
   "execution_count": 54,
   "metadata": {},
   "outputs": [
    {
     "output_type": "stream",
     "name": "stdout",
     "text": [
      "False\nTrue\nTrue\nTrue\nFalse\n"
     ]
    }
   ],
   "source": [
    "class Rectangle8:\n",
    "    def __init__(self, width, height):\n",
    "        self.width = width\n",
    "        self.height = height\n",
    "\n",
    "    def __eq__(self, other):\n",
    "        # return self.width==other.width and self.height==other.height\n",
    "        return (self.width, self.height)==(other.width, other.height)\n",
    "        \n",
    "rect8_ = Rectangle8(1, 2) \n",
    "rect8__ = Rectangle8(1, 2) \n",
    "\n",
    "print(rect8_ is rect8__)\n",
    "print(rect8_ == rect8__)\n",
    "\n",
    "rect8__ = rect8_\n",
    "print(rect8_ is rect8__)\n",
    "print(rect8_ == rect8__)\n",
    "print(rect8_ is not rect8__)\n"
   ]
  },
  {
   "cell_type": "code",
   "execution_count": 53,
   "metadata": {},
   "outputs": [
    {
     "output_type": "error",
     "ename": "AttributeError",
     "evalue": "'int' object has no attribute 'width'",
     "traceback": [
      "\u001b[0;31m---------------------------------------------------------------------------\u001b[0m",
      "\u001b[0;31mAttributeError\u001b[0m                            Traceback (most recent call last)",
      "\u001b[0;32m<ipython-input-53-1ca803c64e45>\u001b[0m in \u001b[0;36m<module>\u001b[0;34m\u001b[0m\n\u001b[0;32m----> 1\u001b[0;31m \u001b[0mrect8_\u001b[0m \u001b[0;34m==\u001b[0m \u001b[0;36m10\u001b[0m\u001b[0;34m\u001b[0m\u001b[0;34m\u001b[0m\u001b[0m\n\u001b[0m",
      "\u001b[0;32m<ipython-input-52-170773542eb1>\u001b[0m in \u001b[0;36m__eq__\u001b[0;34m(self, other)\u001b[0m\n\u001b[1;32m      5\u001b[0m \u001b[0;34m\u001b[0m\u001b[0m\n\u001b[1;32m      6\u001b[0m     \u001b[0;32mdef\u001b[0m \u001b[0m__eq__\u001b[0m\u001b[0;34m(\u001b[0m\u001b[0mself\u001b[0m\u001b[0;34m,\u001b[0m \u001b[0mother\u001b[0m\u001b[0;34m)\u001b[0m\u001b[0;34m:\u001b[0m\u001b[0;34m\u001b[0m\u001b[0;34m\u001b[0m\u001b[0m\n\u001b[0;32m----> 7\u001b[0;31m         \u001b[0;32mreturn\u001b[0m \u001b[0mself\u001b[0m\u001b[0;34m.\u001b[0m\u001b[0mwidth\u001b[0m\u001b[0;34m==\u001b[0m\u001b[0mother\u001b[0m\u001b[0;34m.\u001b[0m\u001b[0mwidth\u001b[0m \u001b[0;32mand\u001b[0m \u001b[0mself\u001b[0m\u001b[0;34m.\u001b[0m\u001b[0mheight\u001b[0m\u001b[0;34m==\u001b[0m\u001b[0mother\u001b[0m\u001b[0;34m.\u001b[0m\u001b[0mheight\u001b[0m\u001b[0;34m\u001b[0m\u001b[0;34m\u001b[0m\u001b[0m\n\u001b[0m\u001b[1;32m      8\u001b[0m \u001b[0;34m\u001b[0m\u001b[0m\n\u001b[1;32m      9\u001b[0m \u001b[0mrect8_\u001b[0m \u001b[0;34m=\u001b[0m \u001b[0mRectangle8\u001b[0m\u001b[0;34m(\u001b[0m\u001b[0;36m1\u001b[0m\u001b[0;34m,\u001b[0m \u001b[0;36m2\u001b[0m\u001b[0;34m)\u001b[0m\u001b[0;34m\u001b[0m\u001b[0;34m\u001b[0m\u001b[0m\n",
      "\u001b[0;31mAttributeError\u001b[0m: 'int' object has no attribute 'width'"
     ]
    }
   ],
   "source": [
    "rect8_ == 10"
   ]
  },
  {
   "cell_type": "code",
   "execution_count": 56,
   "metadata": {},
   "outputs": [
    {
     "output_type": "stream",
     "name": "stdout",
     "text": [
      "True\n"
     ]
    },
    {
     "output_type": "execute_result",
     "data": {
      "text/plain": [
       "False"
      ]
     },
     "metadata": {},
     "execution_count": 56
    }
   ],
   "source": [
    "class Rectangle9:\n",
    "    def __init__(self, width, height):\n",
    "        self.width = width\n",
    "        self.height = height\n",
    "\n",
    "    def __eq__(self, other):\n",
    "        if not isinstance(other, Rectangle9):\n",
    "            return False\n",
    "        return self.width==other.width and self.height==other.height\n",
    "        \n",
    "rect8_ = Rectangle9(1, 2) \n",
    "rect8__ = Rectangle9(1, 2) \n",
    "\n",
    "print(rect8_ == rect8__)\n",
    "rect8_ == 10\n"
   ]
  },
  {
   "cell_type": "code",
   "execution_count": 70,
   "metadata": {},
   "outputs": [
    {
     "output_type": "stream",
     "name": "stdout",
     "text": [
      "True\nFalse\n"
     ]
    },
    {
     "output_type": "error",
     "ename": "TypeError",
     "evalue": "'<' not supported between instances of 'Rectangle10' and 'int'",
     "traceback": [
      "\u001b[0;31m---------------------------------------------------------------------------\u001b[0m",
      "\u001b[0;31mTypeError\u001b[0m                                 Traceback (most recent call last)",
      "\u001b[0;32m<ipython-input-70-09d545982954>\u001b[0m in \u001b[0;36m<module>\u001b[0;34m\u001b[0m\n\u001b[1;32m     22\u001b[0m \u001b[0mprint\u001b[0m\u001b[0;34m(\u001b[0m\u001b[0mrect10\u001b[0m \u001b[0;34m<\u001b[0m \u001b[0mrect10_\u001b[0m\u001b[0;34m)\u001b[0m\u001b[0;34m\u001b[0m\u001b[0;34m\u001b[0m\u001b[0m\n\u001b[1;32m     23\u001b[0m \u001b[0mprint\u001b[0m\u001b[0;34m(\u001b[0m\u001b[0mrect10\u001b[0m \u001b[0;34m>\u001b[0m \u001b[0mrect10_\u001b[0m\u001b[0;34m)\u001b[0m\u001b[0;34m\u001b[0m\u001b[0;34m\u001b[0m\u001b[0m\n\u001b[0;32m---> 24\u001b[0;31m \u001b[0mprint\u001b[0m\u001b[0;34m(\u001b[0m\u001b[0mrect10\u001b[0m \u001b[0;34m<\u001b[0m \u001b[0;36m10\u001b[0m\u001b[0;34m)\u001b[0m\u001b[0;34m\u001b[0m\u001b[0;34m\u001b[0m\u001b[0m\n\u001b[0m",
      "\u001b[0;31mTypeError\u001b[0m: '<' not supported between instances of 'Rectangle10' and 'int'"
     ]
    }
   ],
   "source": [
    "class Rectangle10:\n",
    "    def __init__(self, width, height):\n",
    "        self.width = width\n",
    "        self.height = height\n",
    "\n",
    "    def area(self):\n",
    "        return self.width * self.height\n",
    "\n",
    "    def __lt__(self, other):\n",
    "        if not isinstance(other, Rectangle10):\n",
    "            return NotImplemented\n",
    "        return self.area() < other.area()\n",
    "\n",
    "    def __gr__(self, other):\n",
    "        if not isinstance(other, Rectangle10):\n",
    "            return NotImplemented\n",
    "        return self.area() > other.area()\n",
    "\n",
    "rect10 = Rectangle10(10, 20)\n",
    "rect10_ = Rectangle10(10, 21)\n",
    "\n",
    "print(rect10 < rect10_)\n",
    "print(rect10 > rect10_)\n",
    "print(rect10 < 10)\n"
   ]
  },
  {
   "cell_type": "code",
   "execution_count": 77,
   "metadata": {},
   "outputs": [
    {
     "output_type": "stream",
     "name": "stdout",
     "text": [
      "13\n10\n"
     ]
    }
   ],
   "source": [
    "class Rectangle11:\n",
    "    def __init__(self):\n",
    "        self._width = 0\n",
    "        self._height = 0\n",
    "\n",
    "    def set_width(self, width):\n",
    "        if width <= 0:\n",
    "            raise ValueError(\"Width must be positive\") \n",
    "        self._width = width\n",
    "\n",
    "    def get_width(self):\n",
    "        return self._width\n",
    "\n",
    "    def set_height(self, height):\n",
    "        if height <= 0:\n",
    "            raise ValueError(\"height must be positive\") \n",
    "        self._height = height\n",
    "\n",
    "    def get_height(self):\n",
    "        return self._height\n",
    "\n",
    "        \n",
    "rect11 = Rectangle11()\n",
    "rect11.set_width(10)\n",
    "rect11.set_height(13)\n",
    "\n",
    "print(rect11.get_height())\n",
    "print(rect11.get_width())\n"
   ]
  },
  {
   "cell_type": "code",
   "execution_count": 80,
   "metadata": {},
   "outputs": [
    {
     "output_type": "stream",
     "name": "stdout",
     "text": [
      "34\n12\n"
     ]
    }
   ],
   "source": [
    "class Rectangle12:\n",
    "    def __init__(self, width, height):\n",
    "        self.set_height(height)\n",
    "        self.set_width(width)\n",
    "\n",
    "    def set_width(self, width):\n",
    "        if width <= 0:\n",
    "            raise ValueError(\"Width must be positive\") \n",
    "        self._width = width\n",
    "\n",
    "    def get_width(self):\n",
    "        return self._width\n",
    "\n",
    "    def set_height(self, height):\n",
    "        if height <= 0:\n",
    "            raise ValueError(\"height must be positive\") \n",
    "        self._height = height\n",
    "\n",
    "    def get_height(self):\n",
    "        return self._height\n",
    "\n",
    "        \n",
    "rect12 = Rectangle12(12,34)\n",
    "print(rect12.get_height())\n",
    "print(rect12.get_width())"
   ]
  },
  {
   "cell_type": "code",
   "execution_count": 88,
   "metadata": {},
   "outputs": [
    {
     "output_type": "stream",
     "name": "stdout",
     "text": [
      "34\n13\n"
     ]
    }
   ],
   "source": [
    "class Rectangle13:\n",
    "    def __init__(self, width, height):\n",
    "        self.set_height(height)\n",
    "        self.set_width(width)\n",
    "    \n",
    "    @property\n",
    "    def width(self):\n",
    "        return self._width\n",
    "\n",
    "    @property\n",
    "    def height(self):\n",
    "        return self._height\n",
    "\n",
    "\n",
    "\n",
    "    def set_width(self, width):\n",
    "        if width <= 0:\n",
    "            raise ValueError(\"Width must be positive\") \n",
    "        self._width = width\n",
    "\n",
    "    def set_height(self, height):\n",
    "        if height <= 0:\n",
    "            raise ValueError(\"height must be positive\") \n",
    "        self._height = height\n",
    "\n",
    "        \n",
    "rect13 = Rectangle13(13,34)\n",
    "print(rect13.height)\n",
    "print(rect13.width)"
   ]
  },
  {
   "cell_type": "code",
   "execution_count": 89,
   "metadata": {},
   "outputs": [
    {
     "output_type": "error",
     "ename": "AttributeError",
     "evalue": "can't set attribute",
     "traceback": [
      "\u001b[0;31m---------------------------------------------------------------------------\u001b[0m",
      "\u001b[0;31mAttributeError\u001b[0m                            Traceback (most recent call last)",
      "\u001b[0;32m<ipython-input-89-086c211dbb73>\u001b[0m in \u001b[0;36m<module>\u001b[0;34m\u001b[0m\n\u001b[0;32m----> 1\u001b[0;31m \u001b[0mrect13\u001b[0m\u001b[0;34m.\u001b[0m\u001b[0mwidth\u001b[0m \u001b[0;34m=\u001b[0m \u001b[0;34m-\u001b[0m\u001b[0;36m123\u001b[0m\u001b[0;34m\u001b[0m\u001b[0;34m\u001b[0m\u001b[0m\n\u001b[0m",
      "\u001b[0;31mAttributeError\u001b[0m: can't set attribute"
     ]
    }
   ],
   "source": [
    "rect13.width = -123"
   ]
  },
  {
   "cell_type": "code",
   "execution_count": 97,
   "metadata": {},
   "outputs": [
    {
     "output_type": "stream",
     "name": "stdout",
     "text": [
      "34\n13\n99\n99\n"
     ]
    }
   ],
   "source": [
    "class Rectangle14:\n",
    "    def __init__(self, width, height):\n",
    "        self.height = height\n",
    "        self.width = width\n",
    "    \n",
    "    @property\n",
    "    def width(self):\n",
    "        return self._width\n",
    "\n",
    "    @width.setter\n",
    "    def width(self, width):\n",
    "        if width <= 0:\n",
    "            raise ValueError(\"Width must be positive\") \n",
    "        self._width = width\n",
    "\n",
    "    @property\n",
    "    def height(self):\n",
    "        return self._height\n",
    "\n",
    "    @height.setter\n",
    "    def height(self, height):\n",
    "        if height <= 0:\n",
    "            raise ValueError(\"height must be positive\") \n",
    "        self._height = height\n",
    "\n",
    "        \n",
    "rect14 = Rectangle14(13,34)\n",
    "print(rect14.height)\n",
    "print(rect14.width)\n",
    "\n",
    "rect14.width = 99\n",
    "\n",
    "print(rect14.width)\n",
    "print(rect14._width)\n",
    "\n"
   ]
  },
  {
   "cell_type": "code",
   "execution_count": null,
   "metadata": {},
   "outputs": [],
   "source": []
  }
 ]
}