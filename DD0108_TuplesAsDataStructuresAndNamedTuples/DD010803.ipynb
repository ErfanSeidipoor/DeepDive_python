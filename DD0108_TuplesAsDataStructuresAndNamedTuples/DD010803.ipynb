{
 "metadata": {
  "language_info": {
   "codemirror_mode": {
    "name": "ipython",
    "version": 3
   },
   "file_extension": ".py",
   "mimetype": "text/x-python",
   "name": "python",
   "nbconvert_exporter": "python",
   "pygments_lexer": "ipython3",
   "version": "3.8.5"
  },
  "orig_nbformat": 2,
  "kernelspec": {
   "name": "python38564bitvenv685895132c6e409a9666b1e6214abe6f",
   "display_name": "Python 3.8.5  ('venv': venv)"
  },
  "metadata": {
   "interpreter": {
    "hash": "bd9e2356de5723eb9e28d1113cf7b613119c82820e6397e099add6f7254c9c43"
   }
  }
 },
 "nbformat": 4,
 "nbformat_minor": 2,
 "cells": [
  {
   "cell_type": "code",
   "execution_count": 1,
   "metadata": {},
   "outputs": [
    {
     "output_type": "execute_result",
     "data": {
      "text/plain": [
       "(tuple, tuple)"
      ]
     },
     "metadata": {},
     "execution_count": 1
    }
   ],
   "source": [
    "a = (1, 2, 3)\n",
    "b = 1, 2, 3\n",
    "type(a), type(b)"
   ]
  },
  {
   "cell_type": "code",
   "execution_count": 2,
   "metadata": {},
   "outputs": [
    {
     "output_type": "stream",
     "name": "stdout",
     "text": [
      "1\n2\n3\n4\n5\n"
     ]
    }
   ],
   "source": [
    "def print_tp(t):\n",
    "    for e in t:\n",
    "        print(e)\n",
    "print_tp( (1,2,3,4,5,) )"
   ]
  },
  {
   "cell_type": "code",
   "execution_count": 3,
   "metadata": {},
   "outputs": [
    {
     "output_type": "execute_result",
     "data": {
      "text/plain": [
       "(tuple, (2, 3, 4, 5, 6))"
      ]
     },
     "metadata": {},
     "execution_count": 3
    }
   ],
   "source": [
    "a = 1, 2, 3, 4, 5, 6, 7, 8\n",
    "type(a), a[1:6]"
   ]
  },
  {
   "cell_type": "code",
   "execution_count": 4,
   "metadata": {},
   "outputs": [
    {
     "output_type": "stream",
     "name": "stdout",
     "text": [
      "a\n10\n20\n"
     ]
    }
   ],
   "source": [
    "x, y, z = 'a', 10, 20\n",
    "\n",
    "print(x)\n",
    "print(y)\n",
    "print(z)"
   ]
  },
  {
   "cell_type": "code",
   "execution_count": 5,
   "metadata": {},
   "outputs": [],
   "source": [
    "x, *other, y, z = 1, 2, 3, 4, 5, 6, 7"
   ]
  },
  {
   "cell_type": "code",
   "execution_count": 6,
   "metadata": {},
   "outputs": [
    {
     "output_type": "execute_result",
     "data": {
      "text/plain": [
       "([2, 3, 4, 5], list, 1, 6, 7)"
      ]
     },
     "metadata": {},
     "execution_count": 6
    }
   ],
   "source": [
    "other, type(other),x,y,z"
   ]
  },
  {
   "cell_type": "code",
   "execution_count": 7,
   "metadata": {},
   "outputs": [],
   "source": [
    "x, *_, y, z = 1, 2, 3, 4, 5, 6, 7"
   ]
  },
  {
   "cell_type": "code",
   "execution_count": 8,
   "metadata": {},
   "outputs": [
    {
     "output_type": "execute_result",
     "data": {
      "text/plain": [
       "([2, 3, 4, 5], list, 1, 6, 7)"
      ]
     },
     "metadata": {},
     "execution_count": 8
    }
   ],
   "source": [
    "_, type(_),x,y,z"
   ]
  },
  {
   "cell_type": "code",
   "execution_count": 22,
   "metadata": {},
   "outputs": [
    {
     "output_type": "execute_result",
     "data": {
      "text/plain": [
       "(1, 2, 3)"
      ]
     },
     "metadata": {},
     "execution_count": 22
    }
   ],
   "source": [
    "a = 1,2,3,4,5\n",
    "a[0], a[1], a[2]"
   ]
  },
  {
   "cell_type": "code",
   "execution_count": 23,
   "metadata": {},
   "outputs": [
    {
     "output_type": "error",
     "ename": "TypeError",
     "evalue": "'tuple' object does not support item assignment",
     "traceback": [
      "\u001b[0;31m---------------------------------------------------------------------------\u001b[0m",
      "\u001b[0;31mTypeError\u001b[0m                                 Traceback (most recent call last)",
      "\u001b[0;32m<ipython-input-23-9b07cab448d6>\u001b[0m in \u001b[0;36m<module>\u001b[0;34m\u001b[0m\n\u001b[1;32m      1\u001b[0m \u001b[0ma\u001b[0m \u001b[0;34m=\u001b[0m \u001b[0;36m1\u001b[0m\u001b[0;34m,\u001b[0m\u001b[0;36m2\u001b[0m\u001b[0;34m,\u001b[0m\u001b[0;36m3\u001b[0m\u001b[0;34m,\u001b[0m\u001b[0;36m4\u001b[0m\u001b[0;34m,\u001b[0m\u001b[0;36m5\u001b[0m\u001b[0;34m\u001b[0m\u001b[0;34m\u001b[0m\u001b[0m\n\u001b[0;32m----> 2\u001b[0;31m \u001b[0ma\u001b[0m\u001b[0;34m[\u001b[0m\u001b[0;36m0\u001b[0m\u001b[0;34m]\u001b[0m \u001b[0;34m=\u001b[0m \u001b[0;36m100\u001b[0m\u001b[0;34m\u001b[0m\u001b[0;34m\u001b[0m\u001b[0m\n\u001b[0m",
      "\u001b[0;31mTypeError\u001b[0m: 'tuple' object does not support item assignment"
     ]
    }
   ],
   "source": [
    "a = 1,2,3,4,5\n",
    "a[0] = 100"
   ]
  },
  {
   "cell_type": "code",
   "execution_count": 20,
   "metadata": {},
   "outputs": [
    {
     "output_type": "stream",
     "name": "stdout",
     "text": [
      "x >  1\nother >  [2, 3, 4, 5, 6]\ny >  7\nz >  8\n"
     ]
    }
   ],
   "source": [
    "a = 1, 2, 3, 4, 5, 6, 7, 8\n",
    "x, *other, y, z = a\n",
    "\n",
    "print('x > ', x)\n",
    "print('other > ', other)\n",
    "print('y > ', y)\n",
    "print('z > ', z)"
   ]
  },
  {
   "cell_type": "code",
   "execution_count": 16,
   "metadata": {},
   "outputs": [
    {
     "output_type": "execute_result",
     "data": {
      "text/plain": [
       "Point2D (x=1, y=2)"
      ]
     },
     "metadata": {},
     "execution_count": 16
    }
   ],
   "source": [
    "class Point2D:\n",
    "    def __init__(self, x, y):\n",
    "        self.x = x\n",
    "        self.y = y\n",
    "    \n",
    "    def __repr__(self):\n",
    "        return f'{self.__class__.__name__} (x={self.x}, y={self.y})'\n",
    "\n",
    "\n",
    "pt = Point2D(1,2)\n",
    "pt"
   ]
  },
  {
   "cell_type": "code",
   "execution_count": 29,
   "metadata": {},
   "outputs": [
    {
     "output_type": "execute_result",
     "data": {
      "text/plain": [
       "150"
      ]
     },
     "metadata": {},
     "execution_count": 29
    }
   ],
   "source": [
    "a = Point2D(100, 200), Point2D(300, 400)\n",
    "a[0].x = 150\n",
    "a[0].x"
   ]
  },
  {
   "cell_type": "code",
   "execution_count": 28,
   "metadata": {},
   "outputs": [],
   "source": [
    "a[0].x = 150"
   ]
  },
  {
   "cell_type": "code",
   "execution_count": 32,
   "metadata": {},
   "outputs": [
    {
     "output_type": "execute_result",
     "data": {
      "text/plain": [
       "(1, 2, 3, 4, 5, 6)"
      ]
     },
     "metadata": {},
     "execution_count": 32
    }
   ],
   "source": [
    "a = 1, 2, 3\n",
    "a += 4, 5, 6\n",
    "a"
   ]
  },
  {
   "cell_type": "code",
   "execution_count": 33,
   "metadata": {},
   "outputs": [],
   "source": [
    "london = 'London', 'UK', 2_700_000\n",
    "new_york = 'New York', 'USA', 8_500_000\n",
    "beijin = 'Beiging', 'China', 21_000_000\n",
    "\n",
    "cities = [london, new_york, beijin]"
   ]
  },
  {
   "cell_type": "code",
   "execution_count": 34,
   "metadata": {},
   "outputs": [
    {
     "output_type": "execute_result",
     "data": {
      "text/plain": [
       "32200000"
      ]
     },
     "metadata": {},
     "execution_count": 34
    }
   ],
   "source": [
    "total = 0\n",
    "\n",
    "for city in cities:\n",
    "    total += city[2]\n",
    "\n",
    "total "
   ]
  },
  {
   "cell_type": "code",
   "execution_count": 36,
   "metadata": {},
   "outputs": [
    {
     "output_type": "execute_result",
     "data": {
      "text/plain": [
       "32200000"
      ]
     },
     "metadata": {},
     "execution_count": 36
    }
   ],
   "source": [
    "sum([city[2] for city in cities])"
   ]
  },
  {
   "cell_type": "code",
   "execution_count": 43,
   "metadata": {},
   "outputs": [
    {
     "output_type": "stream",
     "name": "stdout",
     "text": [
      "London UK 2700000\nNew York USA 8500000\nBeiging China 21000000\n"
     ]
    }
   ],
   "source": [
    "for name, country, population in cities:\n",
    "    print(name, country, population)"
   ]
  },
  {
   "cell_type": "code",
   "execution_count": 47,
   "metadata": {},
   "outputs": [
    {
     "output_type": "stream",
     "name": "stdout",
     "text": [
      "(0, ('London', 'UK', 2700000))\n(1, ('New York', 'USA', 8500000))\n(2, ('Beiging', 'China', 21000000))\n"
     ]
    }
   ],
   "source": [
    "for city in enumerate(cities):\n",
    "    print(city)"
   ]
  },
  {
   "cell_type": "code",
   "execution_count": 51,
   "metadata": {},
   "outputs": [
    {
     "output_type": "stream",
     "name": "stdout",
     "text": [
      "0 ('London', 'UK', 2700000)\n1 ('New York', 'USA', 8500000)\n2 ('Beiging', 'China', 21000000)\n"
     ]
    }
   ],
   "source": [
    "for index,city in enumerate(cities):\n",
    "    print(index, city)"
   ]
  },
  {
   "cell_type": "code",
   "execution_count": 39,
   "metadata": {},
   "outputs": [
    {
     "output_type": "execute_result",
     "data": {
      "text/plain": [
       "('DJIA', 26072)"
      ]
     },
     "metadata": {},
     "execution_count": 39
    }
   ],
   "source": [
    "record = 'DJIA', 2018, 1, 19, 25_987, 26_072, 25_942, 26_072\n",
    "symbol, year, month, day, low, high, open_, close = record \n",
    "symbol, close"
   ]
  },
  {
   "cell_type": "code",
   "execution_count": 41,
   "metadata": {},
   "outputs": [
    {
     "output_type": "execute_result",
     "data": {
      "text/plain": [
       "('DJIA', 26072)"
      ]
     },
     "metadata": {},
     "execution_count": 41
    }
   ],
   "source": [
    "record = 'DJIA', 2018, 1, 19, 25_987, 26_072, 25_942, 26_072\n",
    "symbol, *_, close = record \n",
    "symbol, close"
   ]
  },
  {
   "cell_type": "code",
   "execution_count": 75,
   "metadata": {
    "tags": []
   },
   "outputs": [
    {
     "output_type": "stream",
     "name": "stdout",
     "text": [
      "Pi is approximately: 3.140264\n"
     ]
    }
   ],
   "source": [
    "from random import uniform\n",
    "from math import sqrt\n",
    "\n",
    "def random_shot(radius):\n",
    "    random_x = uniform(-radius, radius)\n",
    "    random_y = uniform(-radius, radius)\n",
    "\n",
    "    if (sqrt(random_x**2 + random_y**2))< radius:\n",
    "        is_in_circle = True\n",
    "    else:\n",
    "        is_in_circle = False\n",
    "    \n",
    "    return random_x, random_y, is_in_circle\n",
    "\n",
    "\n",
    "num_attemps = 1_000_000\n",
    "count_inside = 0\n",
    "\n",
    "for i in range(num_attemps):\n",
    "    *_, is_in_circle = random_shot(10)\n",
    "\n",
    "    if is_in_circle:\n",
    "        count_inside+=1\n",
    "\n",
    "\n",
    "print(f'Pi is approximately: {4*count_inside/num_attemps }')"
   ]
  }
 ]
}