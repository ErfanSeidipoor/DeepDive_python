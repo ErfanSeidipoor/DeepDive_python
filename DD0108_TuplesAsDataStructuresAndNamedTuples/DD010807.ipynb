{
 "metadata": {
  "language_info": {
   "codemirror_mode": {
    "name": "ipython",
    "version": 3
   },
   "file_extension": ".py",
   "mimetype": "text/x-python",
   "name": "python",
   "nbconvert_exporter": "python",
   "pygments_lexer": "ipython3",
   "version": "3.8.5"
  },
  "orig_nbformat": 2,
  "kernelspec": {
   "name": "python385jvsc74a57bd0bd9e2356de5723eb9e28d1113cf7b613119c82820e6397e099add6f7254c9c43",
   "display_name": "Python 3.8.5  ('venv': venv)"
  },
  "metadata": {
   "interpreter": {
    "hash": "bd9e2356de5723eb9e28d1113cf7b613119c82820e6397e099add6f7254c9c43"
   }
  }
 },
 "nbformat": 4,
 "nbformat_minor": 2,
 "cells": [
  {
   "cell_type": "code",
   "execution_count": 4,
   "metadata": {},
   "outputs": [],
   "source": [
    "from collections import namedtuple"
   ]
  },
  {
   "cell_type": "code",
   "execution_count": 6,
   "metadata": {},
   "outputs": [
    {
     "output_type": "execute_result",
     "data": {
      "text/plain": [
       "Point2D(x=10, y=20)"
      ]
     },
     "metadata": {},
     "execution_count": 6
    }
   ],
   "source": [
    "Point2D = namedtuple('Point2D', 'x y')\n",
    "pt = Point2D(10, 20)\n",
    "pt"
   ]
  },
  {
   "cell_type": "code",
   "execution_count": 7,
   "metadata": {},
   "outputs": [
    {
     "output_type": "error",
     "ename": "AttributeError",
     "evalue": "can't set attribute",
     "traceback": [
      "\u001b[0;31m---------------------------------------------------------------------------\u001b[0m",
      "\u001b[0;31mAttributeError\u001b[0m                            Traceback (most recent call last)",
      "\u001b[0;32m<ipython-input-7-f597262db83f>\u001b[0m in \u001b[0;36m<module>\u001b[0;34m\u001b[0m\n\u001b[0;32m----> 1\u001b[0;31m \u001b[0mpt\u001b[0m\u001b[0;34m.\u001b[0m\u001b[0mx\u001b[0m \u001b[0;34m=\u001b[0m \u001b[0;36m100\u001b[0m\u001b[0;34m\u001b[0m\u001b[0;34m\u001b[0m\u001b[0m\n\u001b[0m",
      "\u001b[0;31mAttributeError\u001b[0m: can't set attribute"
     ]
    }
   ],
   "source": [
    "pt.x = 100"
   ]
  },
  {
   "cell_type": "code",
   "execution_count": 8,
   "metadata": {},
   "outputs": [
    {
     "output_type": "error",
     "ename": "TypeError",
     "evalue": "'Point2D' object does not support item assignment",
     "traceback": [
      "\u001b[0;31m---------------------------------------------------------------------------\u001b[0m",
      "\u001b[0;31mTypeError\u001b[0m                                 Traceback (most recent call last)",
      "\u001b[0;32m<ipython-input-8-a98cc9e42b31>\u001b[0m in \u001b[0;36m<module>\u001b[0;34m\u001b[0m\n\u001b[0;32m----> 1\u001b[0;31m \u001b[0mpt\u001b[0m\u001b[0;34m[\u001b[0m\u001b[0;36m0\u001b[0m\u001b[0;34m]\u001b[0m \u001b[0;34m=\u001b[0m \u001b[0;36m100\u001b[0m\u001b[0;34m\u001b[0m\u001b[0;34m\u001b[0m\u001b[0m\n\u001b[0m",
      "\u001b[0;31mTypeError\u001b[0m: 'Point2D' object does not support item assignment"
     ]
    }
   ],
   "source": [
    "pt[0] = 100"
   ]
  },
  {
   "cell_type": "code",
   "execution_count": 15,
   "metadata": {},
   "outputs": [
    {
     "output_type": "stream",
     "name": "stdout",
     "text": [
      "140340500482816\n"
     ]
    },
    {
     "output_type": "execute_result",
     "data": {
      "text/plain": [
       "(Point2D(x=100, y=20), 140340498398784)"
      ]
     },
     "metadata": {},
     "execution_count": 15
    }
   ],
   "source": [
    "print(id(pt))\n",
    "\n",
    "pt = Point2D(100, pt.y)\n",
    "\n",
    "pt, id(pt)"
   ]
  },
  {
   "cell_type": "code",
   "execution_count": 21,
   "metadata": {},
   "outputs": [
    {
     "output_type": "stream",
     "name": "stdout",
     "text": [
      "[1, 2, 3] 140340794624960\n[1, 2, 3, 5, 6, 7] 140340794624960\n"
     ]
    }
   ],
   "source": [
    "a = [1, 2, 3]\n",
    "print(a , id(a))\n",
    "\n",
    "a.extend([5, 6, 7])\n",
    "print(a , id(a))"
   ]
  },
  {
   "cell_type": "code",
   "execution_count": 30,
   "metadata": {},
   "outputs": [
    {
     "output_type": "execute_result",
     "data": {
      "text/plain": [
       "(Stock(symbol='DJIA', year=2018, month=1, day=25, open=26000, high=27000, low=25000, close=26500),\n",
       " 140340495022336)"
      ]
     },
     "metadata": {},
     "execution_count": 30
    }
   ],
   "source": [
    "Stock = namedtuple('Stock', '''\n",
    "    symbol\n",
    "    year\n",
    "    month\n",
    "    day\n",
    "    open\n",
    "    high\n",
    "    low\n",
    "    close\n",
    "''')\n",
    "\n",
    "djia = Stock('DJIA', 2018, 1, 25, 26_000, 27_000, 25_000, 26_500)\n",
    "\n",
    "djia, id(djia)"
   ]
  },
  {
   "cell_type": "code",
   "execution_count": 31,
   "metadata": {},
   "outputs": [
    {
     "output_type": "execute_result",
     "data": {
      "text/plain": [
       "(Stock(symbol='DJIA', year=2010, month=1, day=25, open=26100, high=27000, low=25000, close=26500),\n",
       " 140340495023344)"
      ]
     },
     "metadata": {},
     "execution_count": 31
    }
   ],
   "source": [
    "djia = djia._replace(year=2010, open=26_100)\n",
    "djia, id(djia)"
   ]
  },
  {
   "cell_type": "code",
   "execution_count": 34,
   "metadata": {},
   "outputs": [
    {
     "output_type": "execute_result",
     "data": {
      "text/plain": [
       "Stock(symbol='DJIA', year=2018, month=1, day=25, open=26000, high=27000, low=25000, close=26500)"
      ]
     },
     "metadata": {},
     "execution_count": 34
    }
   ],
   "source": [
    "*values, = djia\n",
    "djia._make(['DJIA', 2018, 1, 25, 26_000, 27_000, 25_000, 26_500])"
   ]
  },
  {
   "cell_type": "code",
   "execution_count": 48,
   "metadata": {},
   "outputs": [
    {
     "output_type": "stream",
     "name": "stdout",
     "text": [
      "Point2D(x=10, y=20)\n"
     ]
    },
    {
     "output_type": "execute_result",
     "data": {
      "text/plain": [
       "('x', 'y', 'z')"
      ]
     },
     "metadata": {},
     "execution_count": 48
    }
   ],
   "source": [
    "Point2D = namedtuple('Point2D', ['x', 'y'])\n",
    "\n",
    "pt2 = Point2D(10, 20)\n",
    "\n",
    "Point2D._fields + ('z',)"
   ]
  },
  {
   "cell_type": "code",
   "execution_count": 50,
   "metadata": {},
   "outputs": [
    {
     "output_type": "execute_result",
     "data": {
      "text/plain": [
       "('x', 'y', 'z')"
      ]
     },
     "metadata": {},
     "execution_count": 50
    }
   ],
   "source": [
    "Point3D = namedtuple('Point3D', Point2D._fields + ('z',))\n",
    "\n",
    "pt3 = Point3D(*pt2, 30)\n",
    "point3D._fields"
   ]
  },
  {
   "cell_type": "code",
   "execution_count": 40,
   "metadata": {},
   "outputs": [
    {
     "output_type": "execute_result",
     "data": {
      "text/plain": [
       "('x', 'y', 'z')"
      ]
     },
     "metadata": {},
     "execution_count": 40
    }
   ],
   "source": []
  },
  {
   "cell_type": "code",
   "execution_count": null,
   "metadata": {},
   "outputs": [],
   "source": []
  }
 ]
}