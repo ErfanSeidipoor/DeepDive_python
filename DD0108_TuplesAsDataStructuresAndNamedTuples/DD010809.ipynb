{
 "metadata": {
  "language_info": {
   "codemirror_mode": {
    "name": "ipython",
    "version": 3
   },
   "file_extension": ".py",
   "mimetype": "text/x-python",
   "name": "python",
   "nbconvert_exporter": "python",
   "pygments_lexer": "ipython3",
   "version": "3.8.5"
  },
  "orig_nbformat": 2,
  "kernelspec": {
   "name": "python385jvsc74a57bd0916dbcbb3f70747c44a77c7bcd40155683ae19c65e1c03b4aa3499c5328201f1",
   "display_name": "Python 3.8.5 64-bit"
  },
  "metadata": {
   "interpreter": {
    "hash": "916dbcbb3f70747c44a77c7bcd40155683ae19c65e1c03b4aa3499c5328201f1"
   }
  }
 },
 "nbformat": 4,
 "nbformat_minor": 2,
 "cells": [
  {
   "cell_type": "code",
   "execution_count": 1,
   "metadata": {},
   "outputs": [],
   "source": [
    "from collections import namedtuple"
   ]
  },
  {
   "cell_type": "code",
   "execution_count": 2,
   "metadata": {},
   "outputs": [
    {
     "output_type": "stream",
     "name": "stdout",
     "text": [
      "Point2D(x, y)\nAlias for field number 0\nAlias for field number 1\n"
     ]
    }
   ],
   "source": [
    "Point2D = namedtuple('Point2D', 'x y')\n",
    "\n",
    "print(Point2D.__doc__)\n",
    "print(Point2D.x.__doc__ )\n",
    "print(Point2D.y.__doc__ )"
   ]
  },
  {
   "cell_type": "code",
   "execution_count": 3,
   "metadata": {},
   "outputs": [
    {
     "output_type": "stream",
     "name": "stdout",
     "text": [
      "Help on class Point2D in module __main__:\n\nclass Point2D(builtins.tuple)\n |  Point2D(x, y)\n |  \n |  Point2D(x, y)\n |  \n |  Method resolution order:\n |      Point2D\n |      builtins.tuple\n |      builtins.object\n |  \n |  Methods defined here:\n |  \n |  __getnewargs__(self)\n |      Return self as a plain tuple.  Used by copy and pickle.\n |  \n |  __repr__(self)\n |      Return a nicely formatted representation string\n |  \n |  _asdict(self)\n |      Return a new dict which maps field names to their values.\n |  \n |  _replace(self, /, **kwds)\n |      Return a new Point2D object replacing specified fields with new values\n |  \n |  ----------------------------------------------------------------------\n |  Class methods defined here:\n |  \n |  _make(iterable) from builtins.type\n |      Make a new Point2D object from a sequence or iterable\n |  \n |  ----------------------------------------------------------------------\n |  Static methods defined here:\n |  \n |  __new__(_cls, x, y)\n |      Create new instance of Point2D(x, y)\n |  \n |  ----------------------------------------------------------------------\n |  Data descriptors defined here:\n |  \n |  x\n |      Alias for field number 0\n |  \n |  y\n |      Alias for field number 1\n |  \n |  ----------------------------------------------------------------------\n |  Data and other attributes defined here:\n |  \n |  _field_defaults = {}\n |  \n |  _fields = ('x', 'y')\n |  \n |  _fields_defaults = {}\n |  \n |  ----------------------------------------------------------------------\n |  Methods inherited from builtins.tuple:\n |  \n |  __add__(self, value, /)\n |      Return self+value.\n |  \n |  __contains__(self, key, /)\n |      Return key in self.\n |  \n |  __eq__(self, value, /)\n |      Return self==value.\n |  \n |  __ge__(self, value, /)\n |      Return self>=value.\n |  \n |  __getattribute__(self, name, /)\n |      Return getattr(self, name).\n |  \n |  __getitem__(self, key, /)\n |      Return self[key].\n |  \n |  __gt__(self, value, /)\n |      Return self>value.\n |  \n |  __hash__(self, /)\n |      Return hash(self).\n |  \n |  __iter__(self, /)\n |      Implement iter(self).\n |  \n |  __le__(self, value, /)\n |      Return self<=value.\n |  \n |  __len__(self, /)\n |      Return len(self).\n |  \n |  __lt__(self, value, /)\n |      Return self<value.\n |  \n |  __mul__(self, value, /)\n |      Return self*value.\n |  \n |  __ne__(self, value, /)\n |      Return self!=value.\n |  \n |  __rmul__(self, value, /)\n |      Return value*self.\n |  \n |  count(self, value, /)\n |      Return number of occurrences of value.\n |  \n |  index(self, value, start=0, stop=9223372036854775807, /)\n |      Return first index of value.\n |      \n |      Raises ValueError if the value is not present.\n\n"
     ]
    }
   ],
   "source": [
    "help(Point2D)"
   ]
  },
  {
   "cell_type": "code",
   "execution_count": 4,
   "metadata": {},
   "outputs": [],
   "source": [
    "Point2D.__doc__ = 'Representation 2D Cartesian coordinate.'\n",
    "Point2D.x.__doc__ = 'x coordinate.'\n",
    "Point2D.y.__doc__ = 'y coordinate.'"
   ]
  },
  {
   "cell_type": "code",
   "execution_count": 5,
   "metadata": {},
   "outputs": [
    {
     "output_type": "stream",
     "name": "stdout",
     "text": [
      "Representation 2D Cartesian coordinate.\n"
     ]
    }
   ],
   "source": [
    "print(Point2D.__doc__)"
   ]
  },
  {
   "source": [
    "<h3>Prototype</h3>"
   ],
   "cell_type": "markdown",
   "metadata": {}
  },
  {
   "cell_type": "code",
   "execution_count": 7,
   "metadata": {},
   "outputs": [
    {
     "output_type": "execute_result",
     "data": {
      "text/plain": [
       "('x1', 'y1', 'x2', 'y2', 'origin_x', 'origin_y')"
      ]
     },
     "metadata": {},
     "execution_count": 7
    }
   ],
   "source": [
    "Vector2D = namedtuple('Vector2D', 'x1 y1 x2 y2 origin_x origin_y')\n",
    "Vector2D._fields"
   ]
  },
  {
   "cell_type": "code",
   "execution_count": 9,
   "metadata": {},
   "outputs": [
    {
     "output_type": "execute_result",
     "data": {
      "text/plain": [
       "Vector2D(x1=0, y1=0, x2=10, y2=10, origin_x=0, origin_y=0)"
      ]
     },
     "metadata": {},
     "execution_count": 9
    }
   ],
   "source": [
    "v1 = Vector2D(0, 0, 10, 10, 0, 0)\n",
    "v1"
   ]
  },
  {
   "cell_type": "code",
   "execution_count": 14,
   "metadata": {},
   "outputs": [
    {
     "output_type": "execute_result",
     "data": {
      "text/plain": [
       "Vector2D(x1=0, y1=0, x2=0, y2=0, origin_x=0, origin_y=0)"
      ]
     },
     "metadata": {},
     "execution_count": 14
    }
   ],
   "source": [
    "vector_zero = Vector2D(0, 0, 0, 0, 0, 0)\n",
    "vector_zero"
   ]
  },
  {
   "cell_type": "code",
   "execution_count": 16,
   "metadata": {},
   "outputs": [
    {
     "output_type": "execute_result",
     "data": {
      "text/plain": [
       "Vector2D(x1=10, y1=20, x2=20, y2=20, origin_x=0, origin_y=0)"
      ]
     },
     "metadata": {},
     "execution_count": 16
    }
   ],
   "source": [
    "v2 = vector_zero._replace(x1=10, y1=20, x2=20, y2=20)\n",
    "v2"
   ]
  },
  {
   "cell_type": "code",
   "execution_count": 23,
   "metadata": {},
   "outputs": [
    {
     "output_type": "stream",
     "name": "stdout",
     "text": [
      "1 10 20\n(10, 20)\n100 200 300\n(100, 200, 300)\n"
     ]
    }
   ],
   "source": [
    "def func(a, b=10, c=20):\n",
    "    print(a, b, c)\n",
    "\n",
    "func(1)\n",
    "print( func.__defaults__ )\n",
    "\n",
    "func.__defaults__ = 100, 200, 300\n",
    "func()\n",
    "print( func.__defaults__ )"
   ]
  },
  {
   "cell_type": "code",
   "execution_count": 31,
   "metadata": {},
   "outputs": [
    {
     "output_type": "execute_result",
     "data": {
      "text/plain": [
       "Vector2D(x1=10, y1=10, x2=40, y2=40, origin_x=-1, origin_y=-1)"
      ]
     },
     "metadata": {},
     "execution_count": 31
    }
   ],
   "source": [
    "Vector2D.__new__.__defaults__ = (-1, -1)\n",
    "Vector2D(10, 10, 40, 40)"
   ]
  },
  {
   "cell_type": "code",
   "execution_count": null,
   "metadata": {},
   "outputs": [],
   "source": []
  }
 ]
}