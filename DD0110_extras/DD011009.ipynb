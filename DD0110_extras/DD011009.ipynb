{
 "metadata": {
  "language_info": {
   "codemirror_mode": {
    "name": "ipython",
    "version": 3
   },
   "file_extension": ".py",
   "mimetype": "text/x-python",
   "name": "python",
   "nbconvert_exporter": "python",
   "pygments_lexer": "ipython3",
   "version": "3.8.5"
  },
  "orig_nbformat": 2,
  "kernelspec": {
   "name": "python38564bitvenv685895132c6e409a9666b1e6214abe6f",
   "display_name": "Python 3.8.5  ('venv': venv)"
  },
  "metadata": {
   "interpreter": {
    "hash": "bd9e2356de5723eb9e28d1113cf7b613119c82820e6397e099add6f7254c9c43"
   }
  }
 },
 "nbformat": 4,
 "nbformat_minor": 2,
 "cells": [
  {
   "cell_type": "code",
   "execution_count": 1,
   "metadata": {},
   "outputs": [],
   "source": [
    "import random"
   ]
  },
  {
   "cell_type": "code",
   "execution_count": 12,
   "metadata": {},
   "outputs": [
    {
     "output_type": "execute_result",
     "data": {
      "text/plain": [
       "2"
      ]
     },
     "metadata": {},
     "execution_count": 12
    }
   ],
   "source": [
    "l = [1, 2, 3, 4, 5, 6, 7]\n",
    "random_index = random.randrange(len(l))\n",
    "\n",
    "l[random_index]"
   ]
  },
  {
   "cell_type": "code",
   "execution_count": 15,
   "metadata": {},
   "outputs": [
    {
     "output_type": "execute_result",
     "data": {
      "text/plain": [
       "(6, 3, 4)"
      ]
     },
     "metadata": {},
     "execution_count": 15
    }
   ],
   "source": [
    "random.choice(l), random.choice(l), random.choice(l), "
   ]
  },
  {
   "cell_type": "code",
   "execution_count": 17,
   "metadata": {},
   "outputs": [
    {
     "output_type": "execute_result",
     "data": {
      "text/plain": [
       "[6, 4, 1, 5]"
      ]
     },
     "metadata": {},
     "execution_count": 17
    }
   ],
   "source": [
    "randoms = [random.choice(l) for _ in range(4)]\n",
    "randoms"
   ]
  },
  {
   "cell_type": "code",
   "execution_count": 21,
   "metadata": {},
   "outputs": [
    {
     "output_type": "execute_result",
     "data": {
      "text/plain": [
       "[7, 5, 5, 3]"
      ]
     },
     "metadata": {},
     "execution_count": 21
    }
   ],
   "source": [
    "random.choices(l, k=4)"
   ]
  },
  {
   "cell_type": "code",
   "execution_count": 22,
   "metadata": {},
   "outputs": [
    {
     "output_type": "stream",
     "name": "stdout",
     "text": [
      "['b', 'b', 'a', 'a', 'b']\n['b', 'b', 'c', 'b', 'a']\n['a', 'a', 'c', 'a', 'b']\n['a', 'a', 'a', 'a', 'c']\n['b', 'c', 'c', 'a', 'a']\n['a', 'a', 'c', 'b', 'c']\n['b', 'b', 'b', 'a', 'b']\n['c', 'b', 'c', 'b', 'a']\n['b', 'a', 'b', 'a', 'c']\n['a', 'b', 'a', 'a', 'c']\n"
     ]
    }
   ],
   "source": [
    "l = ['a', 'b', 'c']\n",
    "\n",
    "for _ in range(10):\n",
    "    print(random.choices(l, k=5))"
   ]
  },
  {
   "cell_type": "code",
   "execution_count": 25,
   "metadata": {},
   "outputs": [
    {
     "output_type": "stream",
     "name": "stdout",
     "text": [
      "['a', 'a', 'a', 'a', 'b']\n['a', 'a', 'a', 'c', 'c']\n['a', 'c', 'a', 'a', 'a']\n['a', 'b', 'a', 'a', 'a']\n['a', 'a', 'b', 'a', 'a']\n['a', 'a', 'a', 'a', 'a']\n['a', 'a', 'a', 'a', 'a']\n['a', 'a', 'a', 'a', 'a']\n['b', 'a', 'a', 'c', 'a']\n['a', 'a', 'a', 'a', 'a']\n"
     ]
    }
   ],
   "source": [
    "l = ['a', 'b', 'c']\n",
    "weights = [10, 1, 1]\n",
    "\n",
    "for _ in range(10):\n",
    "    print(random.choices(l, k=5, weights=weights))"
   ]
  },
  {
   "cell_type": "code",
   "execution_count": null,
   "metadata": {},
   "outputs": [],
   "source": []
  }
 ]
}