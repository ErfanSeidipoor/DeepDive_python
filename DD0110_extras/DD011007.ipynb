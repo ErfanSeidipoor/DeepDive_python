{
 "metadata": {
  "language_info": {
   "codemirror_mode": {
    "name": "ipython",
    "version": 3
   },
   "file_extension": ".py",
   "mimetype": "text/x-python",
   "name": "python",
   "nbconvert_exporter": "python",
   "pygments_lexer": "ipython3",
   "version": "3.8.5"
  },
  "orig_nbformat": 2,
  "kernelspec": {
   "name": "python38564bitvenv685895132c6e409a9666b1e6214abe6f",
   "display_name": "Python 3.8.5  ('venv': venv)"
  },
  "metadata": {
   "interpreter": {
    "hash": "bd9e2356de5723eb9e28d1113cf7b613119c82820e6397e099add6f7254c9c43"
   }
  }
 },
 "nbformat": 4,
 "nbformat_minor": 2,
 "cells": [
  {
   "cell_type": "code",
   "execution_count": 2,
   "metadata": {},
   "outputs": [
    {
     "output_type": "execute_result",
     "data": {
      "text/plain": [
       "'10 % 3 = 1'"
      ]
     },
     "metadata": {},
     "execution_count": 2
    }
   ],
   "source": [
    "'{} % {} = {}'.format(10, 3, 10%3)"
   ]
  },
  {
   "cell_type": "code",
   "execution_count": 3,
   "metadata": {},
   "outputs": [
    {
     "output_type": "execute_result",
     "data": {
      "text/plain": [
       "'10 % 3 = 1'"
      ]
     },
     "metadata": {},
     "execution_count": 3
    }
   ],
   "source": [
    "'{2} % {1} = {0}'.format(10%3, 3, 10)"
   ]
  },
  {
   "cell_type": "code",
   "execution_count": 4,
   "metadata": {},
   "outputs": [
    {
     "output_type": "execute_result",
     "data": {
      "text/plain": [
       "'10 % 3 = 1'"
      ]
     },
     "metadata": {},
     "execution_count": 4
    }
   ],
   "source": [
    "'{a} % {b} = {mod}'.format(a=10, b=3, mod=10%3)"
   ]
  },
  {
   "cell_type": "code",
   "execution_count": 5,
   "metadata": {},
   "outputs": [
    {
     "output_type": "execute_result",
     "data": {
      "text/plain": [
       "'10 % 3 = 1'"
      ]
     },
     "metadata": {},
     "execution_count": 5
    }
   ],
   "source": [
    "a = 10\n",
    "b = 3\n",
    "f'{a} % {b} = {a%b}'"
   ]
  },
  {
   "cell_type": "code",
   "execution_count": 11,
   "metadata": {},
   "outputs": [
    {
     "output_type": "stream",
     "name": "stdout",
     "text": [
      "333.3333333333333\n"
     ]
    },
    {
     "output_type": "execute_result",
     "data": {
      "text/plain": [
       "'333.33333'"
      ]
     },
     "metadata": {},
     "execution_count": 11
    }
   ],
   "source": [
    " a = 1000/3\n",
    "print(a)\n",
    "\n",
    "\n",
    "f'{a:0.5f}'"
   ]
  },
  {
   "cell_type": "code",
   "execution_count": 12,
   "metadata": {},
   "outputs": [
    {
     "output_type": "execute_result",
     "data": {
      "text/plain": [
       "'3.33333'"
      ]
     },
     "metadata": {},
     "execution_count": 12
    }
   ],
   "source": [
    "f'{10/3:0.5f}'"
   ]
  },
  {
   "cell_type": "code",
   "execution_count": 17,
   "metadata": {},
   "outputs": [
    {
     "output_type": "execute_result",
     "data": {
      "text/plain": [
       "'100'"
      ]
     },
     "metadata": {},
     "execution_count": 17
    }
   ],
   "source": [
    "sq = lambda x:x**2\n",
    "a = 10\n",
    "\n",
    "b = 1\n",
    "f'{sq(10) if b<10 else b}'"
   ]
  },
  {
   "cell_type": "code",
   "execution_count": 16,
   "metadata": {},
   "outputs": [
    {
     "output_type": "execute_result",
     "data": {
      "text/plain": [
       "'11'"
      ]
     },
     "metadata": {},
     "execution_count": 16
    }
   ],
   "source": [
    "b = 11\n",
    "f'{sq(10) if b<10 else b}'"
   ]
  },
  {
   "cell_type": "code",
   "execution_count": 21,
   "metadata": {},
   "outputs": [
    {
     "output_type": "execute_result",
     "data": {
      "text/plain": [
       "'27'"
      ]
     },
     "metadata": {},
     "execution_count": 21
    }
   ],
   "source": [
    "f'{(lambda x:x**3)(3) if 10 > 5 else 5}'"
   ]
  }
 ]
}