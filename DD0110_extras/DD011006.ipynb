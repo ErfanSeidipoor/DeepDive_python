{
 "metadata": {
  "language_info": {
   "codemirror_mode": {
    "name": "ipython",
    "version": 3
   },
   "file_extension": ".py",
   "mimetype": "text/x-python",
   "name": "python",
   "nbconvert_exporter": "python",
   "pygments_lexer": "ipython3",
   "version": "3.8.5"
  },
  "orig_nbformat": 2,
  "kernelspec": {
   "name": "python38564bitvenv685895132c6e409a9666b1e6214abe6f",
   "display_name": "Python 3.8.5  ('venv': venv)"
  },
  "metadata": {
   "interpreter": {
    "hash": "bd9e2356de5723eb9e28d1113cf7b613119c82820e6397e099add6f7254c9c43"
   }
  }
 },
 "nbformat": 4,
 "nbformat_minor": 2,
 "cells": [
  {
   "cell_type": "code",
   "execution_count": 1,
   "metadata": {},
   "outputs": [
    {
     "output_type": "execute_result",
     "data": {
      "text/plain": [
       "1000000"
      ]
     },
     "metadata": {},
     "execution_count": 1
    }
   ],
   "source": [
    "1000000"
   ]
  },
  {
   "cell_type": "code",
   "execution_count": 2,
   "metadata": {},
   "outputs": [
    {
     "output_type": "execute_result",
     "data": {
      "text/plain": [
       "1000000"
      ]
     },
     "metadata": {},
     "execution_count": 2
    }
   ],
   "source": [
    "1_000_000"
   ]
  },
  {
   "cell_type": "code",
   "execution_count": 12,
   "metadata": {},
   "outputs": [
    {
     "output_type": "execute_result",
     "data": {
      "text/plain": [
       "(255, 255)"
      ]
     },
     "metadata": {},
     "execution_count": 12
    }
   ],
   "source": [
    "0x_F_F, 0x_FF"
   ]
  },
  {
   "cell_type": "code",
   "execution_count": 9,
   "metadata": {},
   "outputs": [
    {
     "output_type": "execute_result",
     "data": {
      "text/plain": [
       "10000"
      ]
     },
     "metadata": {},
     "execution_count": 9
    }
   ],
   "source": [
    "1_00_00"
   ]
  },
  {
   "cell_type": "code",
   "execution_count": 13,
   "metadata": {},
   "outputs": [
    {
     "output_type": "execute_result",
     "data": {
      "text/plain": [
       "1000.4333"
      ]
     },
     "metadata": {},
     "execution_count": 13
    }
   ],
   "source": [
    "1_0_0_0.4_3_3_3"
   ]
  },
  {
   "cell_type": "code",
   "execution_count": 14,
   "metadata": {},
   "outputs": [
    {
     "output_type": "execute_result",
     "data": {
      "text/plain": [
       "'1_000_000'"
      ]
     },
     "metadata": {},
     "execution_count": 14
    }
   ],
   "source": [
    "'{:_}'.format(1000000)"
   ]
  },
  {
   "cell_type": "code",
   "execution_count": 21,
   "metadata": {},
   "outputs": [
    {
     "output_type": "execute_result",
     "data": {
      "text/plain": [
       "'3b_6c80_61df'"
      ]
     },
     "metadata": {},
     "execution_count": 21
    }
   ],
   "source": [
    "'{:_x}'.format(255223423455)"
   ]
  },
  {
   "cell_type": "code",
   "execution_count": 23,
   "metadata": {},
   "outputs": [
    {
     "output_type": "execute_result",
     "data": {
      "text/plain": [
       "(255, 270)"
      ]
     },
     "metadata": {},
     "execution_count": 23
    }
   ],
   "source": [
    "int('FF', 16), int('FF', 17)"
   ]
  },
  {
   "cell_type": "code",
   "execution_count": 26,
   "metadata": {},
   "outputs": [
    {
     "output_type": "execute_result",
     "data": {
      "text/plain": [
       "(76458, 3)"
      ]
     },
     "metadata": {},
     "execution_count": 26
    }
   ],
   "source": [
    "int('10010101010101010', 2), int('0b_11', 2)"
   ]
  },
  {
   "cell_type": "code",
   "execution_count": null,
   "metadata": {},
   "outputs": [],
   "source": []
  }
 ]
}