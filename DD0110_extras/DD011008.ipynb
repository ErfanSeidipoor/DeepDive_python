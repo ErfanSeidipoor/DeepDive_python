{
 "metadata": {
  "language_info": {
   "codemirror_mode": {
    "name": "ipython",
    "version": 3
   },
   "file_extension": ".py",
   "mimetype": "text/x-python",
   "name": "python",
   "nbconvert_exporter": "python",
   "pygments_lexer": "ipython3",
   "version": "3.8.5"
  },
  "orig_nbformat": 2,
  "kernelspec": {
   "name": "python38564bitvenv685895132c6e409a9666b1e6214abe6f",
   "display_name": "Python 3.8.5  ('venv': venv)"
  },
  "metadata": {
   "interpreter": {
    "hash": "bd9e2356de5723eb9e28d1113cf7b613119c82820e6397e099add6f7254c9c43"
   }
  }
 },
 "nbformat": 4,
 "nbformat_minor": 2,
 "cells": [
  {
   "cell_type": "code",
   "execution_count": 1,
   "metadata": {},
   "outputs": [],
   "source": [
    "import random"
   ]
  },
  {
   "cell_type": "code",
   "execution_count": 2,
   "metadata": {},
   "outputs": [
    {
     "output_type": "stream",
     "name": "stdout",
     "text": [
      "16 0.7579544029403025\n16 0.04048437818077755\n18 0.48592769656281265\n"
     ]
    }
   ],
   "source": [
    "def seed_0_random(count):\n",
    "    random.seed(0)\n",
    "    for item in range(count):\n",
    "        print( random.randint(10, 20), random.random())\n",
    "\n",
    "seed_0_random(3)"
   ]
  },
  {
   "cell_type": "code",
   "execution_count": 3,
   "metadata": {},
   "outputs": [
    {
     "output_type": "stream",
     "name": "stdout",
     "text": [
      "16 0.7579544029403025\n16 0.04048437818077755\n18 0.48592769656281265\n14 0.9677999949201714\n"
     ]
    }
   ],
   "source": [
    "seed_0_random(4)"
   ]
  },
  {
   "cell_type": "code",
   "execution_count": 4,
   "metadata": {},
   "outputs": [
    {
     "output_type": "stream",
     "name": "stdout",
     "text": [
      "16 0.7579544029403025\n16 0.04048437818077755\n18 0.48592769656281265\n14 0.9677999949201714\n15 0.5833820394550312\n"
     ]
    }
   ],
   "source": [
    "seed_0_random(5)"
   ]
  },
  {
   "cell_type": "code",
   "execution_count": 9,
   "metadata": {},
   "outputs": [
    {
     "output_type": "execute_result",
     "data": {
      "text/plain": [
       "['c', 'a', 'b']"
      ]
     },
     "metadata": {},
     "execution_count": 9
    }
   ],
   "source": [
    "characters =  list('abc')\n",
    "random.shuffle(characters)\n",
    "characters"
   ]
  },
  {
   "cell_type": "code",
   "execution_count": null,
   "metadata": {},
   "outputs": [],
   "source": []
  }
 ]
}