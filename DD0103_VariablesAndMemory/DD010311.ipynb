{
 "metadata": {
  "language_info": {
   "codemirror_mode": {
    "name": "ipython",
    "version": 3
   },
   "file_extension": ".py",
   "mimetype": "text/x-python",
   "name": "python",
   "nbconvert_exporter": "python",
   "pygments_lexer": "ipython3",
   "version": "3.8.5-final"
  },
  "orig_nbformat": 2,
  "kernelspec": {
   "name": "python38564bitvenvvenv29795fd3ebc6467f927a688fb305efe1",
   "display_name": "Python 3.8.5 64-bit ('venv': venv)",
   "language": "python"
  }
 },
 "nbformat": 4,
 "nbformat_minor": 2,
 "cells": [
  {
   "cell_type": "code",
   "execution_count": 2,
   "metadata": {},
   "outputs": [
    {
     "output_type": "execute_result",
     "data": {
      "text/plain": [
       "125"
      ]
     },
     "metadata": {},
     "execution_count": 2
    }
   ],
   "source": [
    "def process(a):\n",
    "   return a**3;\n",
    "\n",
    "process(5)"
   ]
  },
  {
   "cell_type": "code",
   "execution_count": 4,
   "metadata": {},
   "outputs": [
    {
     "output_type": "stream",
     "name": "stdout",
     "text": [
      "139752344776912\n0x7f1aa0ddf0d0\n"
     ]
    }
   ],
   "source": [
    "print(id(process))\n",
    "print(hex(id(process)))"
   ]
  },
  {
   "cell_type": "code",
   "execution_count": 7,
   "metadata": {},
   "outputs": [
    {
     "output_type": "stream",
     "name": "stdout",
     "text": [
      "139752344776912\n0x7f1aa0ddf0d0\n"
     ]
    }
   ],
   "source": [
    "f = process\n",
    "print(id(f))\n",
    "print(hex(id(f)))"
   ]
  },
  {
   "cell_type": "code",
   "execution_count": 9,
   "metadata": {},
   "outputs": [
    {
     "output_type": "stream",
     "name": "stdout",
     "text": [
      "True\nTrue\n"
     ]
    }
   ],
   "source": [
    "print(f is process)\n",
    "print(f == process)"
   ]
  },
  {
   "cell_type": "code",
   "execution_count": 10,
   "metadata": {},
   "outputs": [
    {
     "output_type": "execute_result",
     "data": {
      "text/plain": [
       "27"
      ]
     },
     "metadata": {},
     "execution_count": 10
    }
   ],
   "source": [
    "f(3)"
   ]
  },
  {
   "cell_type": "code",
   "execution_count": 15,
   "metadata": {},
   "outputs": [
    {
     "output_type": "stream",
     "name": "stdout",
     "text": [
      "27\nTrue\n"
     ]
    }
   ],
   "source": [
    "def squre(a):\n",
    "   return a**3;\n",
    "\n",
    "def cube(x):\n",
    "    return x**3\n",
    "\n",
    "def select_func(func_id):\n",
    "    if func_id==2:\n",
    "        return squre\n",
    "    return cube\n",
    "\n",
    "print(select_func(2)(3))\n",
    "\n",
    "print(select_func(2) is squre)\n"
   ]
  },
  {
   "cell_type": "code",
   "execution_count": 17,
   "metadata": {},
   "outputs": [
    {
     "output_type": "execute_result",
     "data": {
      "text/plain": [
       "64"
      ]
     },
     "metadata": {},
     "execution_count": 17
    }
   ],
   "source": [
    "def squre(a):\n",
    "   return a**2;\n",
    "\n",
    "def exec_function(func, parameter):\n",
    "    return func(parameter)\n",
    "\n",
    "exec_function(squre, 8)"
   ]
  },
  {
   "cell_type": "code",
   "execution_count": null,
   "metadata": {},
   "outputs": [],
   "source": []
  }
 ]
}