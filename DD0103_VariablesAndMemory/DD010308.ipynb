{
 "metadata": {
  "language_info": {
   "codemirror_mode": {
    "name": "ipython",
    "version": 3
   },
   "file_extension": ".py",
   "mimetype": "text/x-python",
   "name": "python",
   "nbconvert_exporter": "python",
   "pygments_lexer": "ipython3",
   "version": "3.8.5-final"
  },
  "orig_nbformat": 2,
  "kernelspec": {
   "name": "python38564bitvenvvenv29795fd3ebc6467f927a688fb305efe1",
   "display_name": "Python 3.8.5 64-bit ('venv': venv)",
   "language": "python"
  }
 },
 "nbformat": 4,
 "nbformat_minor": 2,
 "cells": [
  {
   "cell_type": "code",
   "execution_count": 7,
   "metadata": {},
   "outputs": [
    {
     "output_type": "stream",
     "name": "stdout",
     "text": [
      "my_var> 0x7f49f37265f0\ns1> 0x7f49f37265f0\ns2> 0x7f49f3e11030\nhello world\nhello\n"
     ]
    }
   ],
   "source": [
    "my_var = \"hello\"\n",
    "print(\"my_var>\", hex(id(my_var)))\n",
    "\n",
    "def process(s):\n",
    "    print(\"s1>\", hex(id(s)))\n",
    "    s = s + \" world\"\n",
    "    print(\"s2>\", hex(id(s)))\n",
    "    return s\n",
    "\n",
    "print(process(my_var))\n",
    "\n",
    "print(my_var)\n"
   ]
  },
  {
   "cell_type": "code",
   "execution_count": 10,
   "metadata": {},
   "outputs": [
    {
     "output_type": "stream",
     "name": "stdout",
     "text": [
      "my_var> 0x7f49f37267c0\ns1> 0x7f49f37267c0\ns2> 0x7f49f37267c0\n[1, 2, 3, 4, 5]\n[1, 2, 3, 4, 5]\nmy_var> 0x7f49f37267c0\n"
     ]
    }
   ],
   "source": [
    "my_var = [1,2,3,4]\n",
    "print(\"my_var>\", hex(id(my_var)))\n",
    "\n",
    "def process(s):\n",
    "    print(\"s1>\", hex(id(s)))\n",
    "    s.append(5)\n",
    "    print(\"s2>\", hex(id(s)))\n",
    "    return s\n",
    "\n",
    "print(process(my_var))\n",
    "\n",
    "print(my_var)\n",
    "print(\"my_var>\", hex(id(my_var)))\n"
   ]
  },
  {
   "cell_type": "code",
   "execution_count": 11,
   "metadata": {},
   "outputs": [
    {
     "output_type": "stream",
     "name": "stdout",
     "text": [
      "my_var> 0x7f49f3e9c240\ns1> 0x7f49f3e9c240\ns2> 0x7f49f3e9c240\n([1, 2, 5], [3, 4])\n([1, 2, 5], [3, 4])\nmy_var> 0x7f49f3e9c240\n"
     ]
    }
   ],
   "source": [
    "my_var = ([1,2],[3,4])\n",
    "print(\"my_var>\", hex(id(my_var)))\n",
    "\n",
    "def process(s):\n",
    "    print(\"s1>\", hex(id(s)))\n",
    "    s[0].append(5)\n",
    "    print(\"s2>\", hex(id(s)))\n",
    "    return s\n",
    "\n",
    "print(process(my_var))\n",
    "\n",
    "print(my_var)\n",
    "print(\"my_var>\", hex(id(my_var)))"
   ]
  },
  {
   "cell_type": "code",
   "execution_count": null,
   "metadata": {},
   "outputs": [],
   "source": []
  }
 ]
}