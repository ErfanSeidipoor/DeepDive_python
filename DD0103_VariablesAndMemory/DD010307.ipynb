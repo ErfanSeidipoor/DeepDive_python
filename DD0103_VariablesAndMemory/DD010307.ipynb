{
 "metadata": {
  "language_info": {
   "codemirror_mode": {
    "name": "ipython",
    "version": 3
   },
   "file_extension": ".py",
   "mimetype": "text/x-python",
   "name": "python",
   "nbconvert_exporter": "python",
   "pygments_lexer": "ipython3",
   "version": "3.8.5-final"
  },
  "orig_nbformat": 2,
  "kernelspec": {
   "name": "python38564bitvenvvenv29795fd3ebc6467f927a688fb305efe1",
   "display_name": "Python 3.8.5 64-bit ('venv': venv)",
   "language": "python"
  }
 },
 "nbformat": 4,
 "nbformat_minor": 2,
 "cells": [
  {
   "cell_type": "code",
   "execution_count": 6,
   "metadata": {},
   "outputs": [
    {
     "output_type": "execute_result",
     "data": {
      "text/plain": [
       "'0x7fb619a529c0'"
      ]
     },
     "metadata": {},
     "execution_count": 6
    }
   ],
   "source": [
    "my_list = [1, 2, 3]\n",
    "hex(id(my_list))"
   ]
  },
  {
   "cell_type": "code",
   "execution_count": 7,
   "metadata": {},
   "outputs": [
    {
     "output_type": "execute_result",
     "data": {
      "text/plain": [
       "'0x7fb619a529c0'"
      ]
     },
     "metadata": {},
     "execution_count": 7
    }
   ],
   "source": [
    "my_list.append(5)\n",
    "hex(id(my_list))"
   ]
  },
  {
   "cell_type": "code",
   "execution_count": 9,
   "metadata": {},
   "outputs": [
    {
     "output_type": "execute_result",
     "data": {
      "text/plain": [
       "'0x7fb619bde0c0'"
      ]
     },
     "metadata": {},
     "execution_count": 9
    }
   ],
   "source": [
    "my_list = [1, 2, 3]\n",
    "hex(id(my_list))"
   ]
  },
  {
   "cell_type": "code",
   "execution_count": 10,
   "metadata": {},
   "outputs": [
    {
     "output_type": "execute_result",
     "data": {
      "text/plain": [
       "'0x7fb619914d00'"
      ]
     },
     "metadata": {},
     "execution_count": 10
    }
   ],
   "source": [
    "my_list = my_list + [4] \n",
    "hex(id(my_list))"
   ]
  },
  {
   "cell_type": "code",
   "execution_count": 14,
   "metadata": {},
   "outputs": [
    {
     "output_type": "execute_result",
     "data": {
      "text/plain": [
       "'0x7fb619868c40'"
      ]
     },
     "metadata": {},
     "execution_count": 14
    }
   ],
   "source": [
    "my_dict = dict(key1=1, key2=2)\n",
    "hex(id(my_dict))"
   ]
  },
  {
   "cell_type": "code",
   "execution_count": 16,
   "metadata": {},
   "outputs": [
    {
     "output_type": "execute_result",
     "data": {
      "text/plain": [
       "'0x7fb619868c40'"
      ]
     },
     "metadata": {},
     "execution_count": 16
    }
   ],
   "source": [
    "my_dict[\"key3\"] = 3\n",
    "hex(id(my_dict))"
   ]
  },
  {
   "cell_type": "code",
   "execution_count": 22,
   "metadata": {},
   "outputs": [
    {
     "output_type": "stream",
     "name": "stdout",
     "text": [
      "0x7fb619859080\n0x954e40\n0x954e40\n0x954e80\n"
     ]
    }
   ],
   "source": [
    "my_tuple = (1, 1, 3)\n",
    "\n",
    "print(hex(id(my_tuple)))\n",
    "print(hex(id(my_tuple[0])))\n",
    "print(hex(id(my_tuple[1])))\n",
    "print(hex(id(my_tuple[2])))"
   ]
  },
  {
   "cell_type": "code",
   "execution_count": 24,
   "metadata": {},
   "outputs": [
    {
     "output_type": "stream",
     "name": "stdout",
     "text": [
      "0x7fb6195d76c0\n0x7fb61971f880\n0x7fb61966aac0\n"
     ]
    }
   ],
   "source": [
    "my_tuple2 = ([1,2], [1,2], [4,5])\n",
    "print(hex(id(my_tuple2[0])))\n",
    "print(hex(id(my_tuple2[1])))\n",
    "print(hex(id(my_tuple2[2])))"
   ]
  },
  {
   "cell_type": "code",
   "execution_count": 25,
   "metadata": {},
   "outputs": [
    {
     "output_type": "stream",
     "name": "stdout",
     "text": [
      "0x7fb6195d76c0\n"
     ]
    }
   ],
   "source": [
    "my_tuple2[0].append(2)\n",
    "print(hex(id(my_tuple2[0])))"
   ]
  }
 ]
}