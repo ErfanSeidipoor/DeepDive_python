{
 "metadata": {
  "language_info": {
   "codemirror_mode": {
    "name": "ipython",
    "version": 3
   },
   "file_extension": ".py",
   "mimetype": "text/x-python",
   "name": "python",
   "nbconvert_exporter": "python",
   "pygments_lexer": "ipython3",
   "version": "3.8.5-final"
  },
  "orig_nbformat": 2,
  "kernelspec": {
   "name": "python38564bitvenvvenv29795fd3ebc6467f927a688fb305efe1",
   "display_name": "Python 3.8.5 64-bit ('venv': venv)",
   "language": "python"
  }
 },
 "nbformat": 4,
 "nbformat_minor": 2,
 "cells": [
  {
   "cell_type": "code",
   "execution_count": 46,
   "metadata": {},
   "outputs": [],
   "source": [
    "import gc\n",
    "\n",
    "def object_by_id(object_id):\n",
    "    for (index, obj) in enumerate(gc.get_objects()):\n",
    "        if object_id == id(obj):\n",
    "            return \"object exists\"\n",
    "    else:\n",
    "        return \"object not exists\"\n",
    "             "
   ]
  },
  {
   "cell_type": "code",
   "execution_count": 45,
   "metadata": {},
   "outputs": [],
   "source": [
    "import ctypes\n",
    "def ref_count(address):\n",
    "    return ctypes.c_long.from_address(address).value"
   ]
  },
  {
   "cell_type": "code",
   "execution_count": 30,
   "metadata": {},
   "outputs": [
    {
     "output_type": "stream",
     "name": "stdout",
     "text": [
      "B: b0x7f2595297e50, A: a0x7f2595297520\nA: a0x7f2595297520, B:b0x7f2595297e50\n"
     ]
    }
   ],
   "source": [
    "class A:\n",
    "    def __init__(self):\n",
    "        self.b = B(self)\n",
    "        print(\"A: a{0}, B:b{1}\".format( hex(id(self)), hex(id(self.b))))\n",
    "\n",
    "class B:\n",
    "    def __init__(self, a):\n",
    "        self.a = a\n",
    "        print(\"B: b{0}, A: a{1}\".format(  hex(id(self)), hex(id(self.a)) ))\n",
    "\n",
    "a = A()"
   ]
  },
  {
   "cell_type": "code",
   "execution_count": 33,
   "metadata": {},
   "outputs": [
    {
     "output_type": "stream",
     "name": "stdout",
     "text": [
      "0x7f2595297520\n0x7f2595297520\n"
     ]
    }
   ],
   "source": [
    "print(hex(id(a)))\n",
    "print(hex(id(a.b.a)))"
   ]
  },
  {
   "cell_type": "code",
   "execution_count": 39,
   "metadata": {},
   "outputs": [
    {
     "output_type": "stream",
     "name": "stdout",
     "text": [
      "10\n"
     ]
    }
   ],
   "source": [
    "print(ref_count(id(a)))"
   ]
  },
  {
   "cell_type": "code",
   "execution_count": 49,
   "metadata": {},
   "outputs": [
    {
     "output_type": "stream",
     "name": "stdout",
     "text": [
      "0x7f2595297520\n0x7f2595297e50\n"
     ]
    }
   ],
   "source": [
    "a_id = id(a)\n",
    "b_id = id(a.b)\n",
    "\n",
    "\n",
    "print(hex(a_id))\n",
    "print(hex(b_id))\n"
   ]
  },
  {
   "cell_type": "code",
   "execution_count": 51,
   "metadata": {},
   "outputs": [
    {
     "output_type": "stream",
     "name": "stdout",
     "text": [
      "20\n1\n"
     ]
    }
   ],
   "source": [
    "print(ref_count(a_id))\n",
    "print(ref_count(b_id))"
   ]
  },
  {
   "cell_type": "code",
   "execution_count": 53,
   "metadata": {},
   "outputs": [
    {
     "output_type": "execute_result",
     "data": {
      "text/plain": [
       "'object exists'"
      ]
     },
     "metadata": {},
     "execution_count": 53
    }
   ],
   "source": [
    "object_by_id(a_id)"
   ]
  },
  {
   "cell_type": "code",
   "execution_count": 54,
   "metadata": {},
   "outputs": [
    {
     "output_type": "execute_result",
     "data": {
      "text/plain": [
       "'object exists'"
      ]
     },
     "metadata": {},
     "execution_count": 54
    }
   ],
   "source": [
    "object_by_id(b_id)"
   ]
  },
  {
   "cell_type": "code",
   "execution_count": 55,
   "metadata": {},
   "outputs": [
    {
     "output_type": "execute_result",
     "data": {
      "text/plain": [
       "13391"
      ]
     },
     "metadata": {},
     "execution_count": 55
    }
   ],
   "source": [
    " gc.collect()"
   ]
  },
  {
   "cell_type": "code",
   "execution_count": 56,
   "metadata": {},
   "outputs": [
    {
     "output_type": "execute_result",
     "data": {
      "text/plain": [
       "'object exists'"
      ]
     },
     "metadata": {},
     "execution_count": 56
    }
   ],
   "source": [
    "object_by_id(a_id)\n"
   ]
  },
  {
   "cell_type": "code",
   "execution_count": 57,
   "metadata": {},
   "outputs": [
    {
     "output_type": "execute_result",
     "data": {
      "text/plain": [
       "'object exists'"
      ]
     },
     "metadata": {},
     "execution_count": 57
    }
   ],
   "source": [
    "a = None\n",
    "object_by_id(a_id)"
   ]
  },
  {
   "cell_type": "code",
   "execution_count": 58,
   "metadata": {},
   "outputs": [
    {
     "output_type": "execute_result",
     "data": {
      "text/plain": [
       "'object exists'"
      ]
     },
     "metadata": {},
     "execution_count": 58
    }
   ],
   "source": [
    "object_by_id(a_id)"
   ]
  },
  {
   "cell_type": "code",
   "execution_count": 59,
   "metadata": {},
   "outputs": [
    {
     "output_type": "execute_result",
     "data": {
      "text/plain": [
       "3662"
      ]
     },
     "metadata": {},
     "execution_count": 59
    }
   ],
   "source": [
    "gc.collect()"
   ]
  },
  {
   "cell_type": "code",
   "execution_count": 60,
   "metadata": {},
   "outputs": [
    {
     "output_type": "execute_result",
     "data": {
      "text/plain": [
       "'object not exists'"
      ]
     },
     "metadata": {},
     "execution_count": 60
    }
   ],
   "source": [
    "object_by_id(a_id)\n"
   ]
  },
  {
   "cell_type": "code",
   "execution_count": 61,
   "metadata": {},
   "outputs": [
    {
     "output_type": "execute_result",
     "data": {
      "text/plain": [
       "'object not exists'"
      ]
     },
     "metadata": {},
     "execution_count": 61
    }
   ],
   "source": [
    "object_by_id(b_id)\n"
   ]
  },
  {
   "cell_type": "code",
   "execution_count": null,
   "metadata": {},
   "outputs": [],
   "source": []
  }
 ]
}