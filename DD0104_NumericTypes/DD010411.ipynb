{
 "metadata": {
  "language_info": {
   "codemirror_mode": {
    "name": "ipython",
    "version": 3
   },
   "file_extension": ".py",
   "mimetype": "text/x-python",
   "name": "python",
   "nbconvert_exporter": "python",
   "pygments_lexer": "ipython3",
   "version": "3.8.5-final"
  },
  "orig_nbformat": 2,
  "kernelspec": {
   "name": "python38564bitvenvvenv29795fd3ebc6467f927a688fb305efe1",
   "display_name": "Python 3.8.5 64-bit ('venv': venv)",
   "language": "python"
  }
 },
 "nbformat": 4,
 "nbformat_minor": 2,
 "cells": [
  {
   "cell_type": "code",
   "execution_count": 1,
   "metadata": {},
   "outputs": [
    {
     "output_type": "stream",
     "name": "stdout",
     "text": [
      "0.30000000000000004\n0.3\nFalse\n0.3000000000000000444089210\n0.2999999999999999888977698\n"
     ]
    }
   ],
   "source": [
    "a = 0.1 + 0.1 + 0.1\n",
    "b = 0.3\n",
    "print(a)\n",
    "print(b)\n",
    "print(a==b)\n",
    "\n",
    "print(format(a, '0.25f'))\n",
    "print(format(b, '0.25f'))\n"
   ]
  },
  {
   "cell_type": "code",
   "execution_count": 2,
   "metadata": {},
   "outputs": [
    {
     "output_type": "execute_result",
     "data": {
      "text/plain": [
       "5.551115123125783e-17"
      ]
     },
     "metadata": {},
     "execution_count": 2
    }
   ],
   "source": [
    "a-b"
   ]
  },
  {
   "cell_type": "code",
   "execution_count": 3,
   "metadata": {},
   "outputs": [
    {
     "output_type": "stream",
     "name": "stdout",
     "text": [
      "30000.300000000003\n30000.3\nFalse\n30000.3000000000029103830456734\n30000.2999999999992724042385817\n"
     ]
    }
   ],
   "source": [
    "a = 10000.1 + 10000.1 + 10000.1\n",
    "b = 30000.3\n",
    "print(a)\n",
    "print(b)\n",
    "print(a==b)\n",
    "\n",
    "print(format(a, '0.25f'))\n",
    "print(format(b, '0.25f'))"
   ]
  },
  {
   "cell_type": "code",
   "execution_count": 4,
   "metadata": {},
   "outputs": [
    {
     "output_type": "execute_result",
     "data": {
      "text/plain": [
       "3.637978807091713e-12"
      ]
     },
     "metadata": {},
     "execution_count": 4
    }
   ],
   "source": [
    "a-b"
   ]
  },
  {
   "cell_type": "code",
   "execution_count": 6,
   "metadata": {},
   "outputs": [
    {
     "output_type": "stream",
     "name": "stdout",
     "text": [
      "True\nTrue\n"
     ]
    }
   ],
   "source": [
    "import math\n",
    "\n",
    "a = 10000.1 + 10000.1 + 10000.1\n",
    "b = 30000.3\n",
    "print(math.isclose(a,b))\n",
    "\n",
    "\n",
    "\n",
    "a = 10000.1 + 10000.1 + 10000.1\n",
    "b = 30000.3\n",
    "print(math.isclose(a,b))"
   ]
  },
  {
   "cell_type": "code",
   "execution_count": 7,
   "metadata": {},
   "outputs": [
    {
     "output_type": "stream",
     "name": "stdout",
     "text": [
      "False\n"
     ]
    }
   ],
   "source": [
    "a = 0.0000001\n",
    "b = 0.0000002\n",
    "print(math.isclose(a,b))"
   ]
  },
  {
   "cell_type": "code",
   "execution_count": 9,
   "metadata": {},
   "outputs": [
    {
     "output_type": "stream",
     "name": "stdout",
     "text": [
      "False\n"
     ]
    }
   ],
   "source": [
    "a = 1000.1\n",
    "b = 1000.2\n",
    "print(math.isclose(a,b))"
   ]
  },
  {
   "cell_type": "code",
   "execution_count": 10,
   "metadata": {},
   "outputs": [
    {
     "output_type": "stream",
     "name": "stdout",
     "text": [
      "True\n"
     ]
    }
   ],
   "source": [
    "a = 0.125 + 0.125 + 0.125\n",
    "b = 0.375\n",
    "print(math.isclose(a,b))"
   ]
  },
  {
   "cell_type": "code",
   "execution_count": 11,
   "metadata": {},
   "outputs": [
    {
     "output_type": "stream",
     "name": "stdout",
     "text": [
      "0.30000000000000004\n0.3\nTrue\n"
     ]
    }
   ],
   "source": [
    "a = 0.1 + 0.1 + 0.1\n",
    "b = 0.3\n",
    "print(a)\n",
    "print(b)\n",
    "print(round(a)==round(b))"
   ]
  },
  {
   "cell_type": "code",
   "execution_count": null,
   "metadata": {},
   "outputs": [],
   "source": [
    "\n",
    "\n"
   ]
  }
 ]
}