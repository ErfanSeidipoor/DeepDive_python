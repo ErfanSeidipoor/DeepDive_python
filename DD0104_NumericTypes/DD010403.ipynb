{
 "metadata": {
  "language_info": {
   "codemirror_mode": {
    "name": "ipython",
    "version": 3
   },
   "file_extension": ".py",
   "mimetype": "text/x-python",
   "name": "python",
   "nbconvert_exporter": "python",
   "pygments_lexer": "ipython3",
   "version": "3.8.5-final"
  },
  "orig_nbformat": 2,
  "kernelspec": {
   "name": "python38564bitvenvvenv29795fd3ebc6467f927a688fb305efe1",
   "display_name": "Python 3.8.5 64-bit ('venv': venv)",
   "language": "python"
  }
 },
 "nbformat": 4,
 "nbformat_minor": 2,
 "cells": [
  {
   "source": [
    "a = b * (a // b) + (a % b)"
   ],
   "cell_type": "markdown",
   "metadata": {}
  },
  {
   "cell_type": "code",
   "execution_count": 6,
   "metadata": {},
   "outputs": [
    {
     "output_type": "stream",
     "name": "stdout",
     "text": [
      "True\n33\n3\n"
     ]
    }
   ],
   "source": [
    "print(135 == 4 * (135 // 4) + (135 % 4))\n",
    "print(135 // 4)\n",
    "print(135 % 4)"
   ]
  },
  {
   "cell_type": "code",
   "execution_count": 7,
   "metadata": {},
   "outputs": [
    {
     "output_type": "stream",
     "name": "stdout",
     "text": [
      "True\n-34\n1\n"
     ]
    }
   ],
   "source": [
    "print(-135 == 4 * (-135 // 4) + (-135 % 4))\n",
    "print(-135 // 4)\n",
    "print(-135 % 4)"
   ]
  },
  {
   "cell_type": "code",
   "execution_count": 8,
   "metadata": {},
   "outputs": [
    {
     "output_type": "execute_result",
     "data": {
      "text/plain": [
       "float"
      ]
     },
     "metadata": {},
     "execution_count": 8
    }
   ],
   "source": [
    "type(10/2)"
   ]
  },
  {
   "cell_type": "code",
   "execution_count": 9,
   "metadata": {},
   "outputs": [
    {
     "output_type": "execute_result",
     "data": {
      "text/plain": [
       "float"
      ]
     },
     "metadata": {},
     "execution_count": 9
    }
   ],
   "source": [
    "type(10/3)"
   ]
  },
  {
   "source": [
    "math.floor(a/b) == a // b"
   ],
   "cell_type": "markdown",
   "metadata": {}
  },
  {
   "cell_type": "code",
   "execution_count": 16,
   "metadata": {},
   "outputs": [
    {
     "output_type": "stream",
     "name": "stdout",
     "text": [
      "True\nTrue\nTrue\nTrue\n"
     ]
    }
   ],
   "source": [
    "import math\n",
    "print(math.floor(10/3)== (10 // 3))\n",
    "print(math.floor(-10/3)== (-10 // 3))\n",
    "print(math.floor(10/-3)== (10 // -3))\n",
    "print(math.floor(-10/-3)== (-10 // -3))"
   ]
  },
  {
   "cell_type": "code",
   "execution_count": 19,
   "metadata": {},
   "outputs": [
    {
     "output_type": "stream",
     "name": "stdout",
     "text": [
      "-4\n-3\n"
     ]
    }
   ],
   "source": [
    "import math \n",
    "print(math.floor(-3.00000001))\n",
    "print(math.floor(-3.000000000000000001))"
   ]
  }
 ]
}