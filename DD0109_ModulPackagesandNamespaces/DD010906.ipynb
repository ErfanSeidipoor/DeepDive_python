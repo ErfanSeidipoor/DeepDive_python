{
 "metadata": {
  "language_info": {
   "codemirror_mode": {
    "name": "ipython",
    "version": 3
   },
   "file_extension": ".py",
   "mimetype": "text/x-python",
   "name": "python",
   "nbconvert_exporter": "python",
   "pygments_lexer": "ipython3",
   "version": "3.8.5"
  },
  "orig_nbformat": 2,
  "kernelspec": {
   "name": "python38564bitvenvvenv29795fd3ebc6467f927a688fb305efe1",
   "display_name": "Python 3.8.5 64-bit"
  },
  "metadata": {
   "interpreter": {
    "hash": "404c9d671a199228bd4a5a24c862b434238b428c21d528e53ac2b960678e1982"
   }
  }
 },
 "nbformat": 4,
 "nbformat_minor": 2,
 "cells": [
  {
   "cell_type": "code",
   "execution_count": 1,
   "metadata": {},
   "outputs": [
    {
     "output_type": "stream",
     "name": "stdout",
     "text": [
      "IPython\nIPython.core\nIPython.core.alias\nIPython.core.application\nIPython.core.async_helpers\nIPython.core.autocall\nIPython.core.builtin_trap\nIPython.core.compilerop\nIPython.core.completer\nIPython.core.completerlib\nIPython.core.crashhandler\nIPython.core.debugger\nIPython.core.display\nIPython.core.display_trap\nIPython.core.displayhook\nIPython.core.displaypub\nIPython.core.error\nIPython.core.events\nIPython.core.excolors\nIPython.core.extensions\nIPython.core.formatters\nIPython.core.getipython\nIPython.core.history\nIPython.core.hooks\nIPython.core.inputtransformer2\nIPython.core.interactiveshell\nIPython.core.latex_symbols\nIPython.core.logger\nIPython.core.macro\nIPython.core.magic\nIPython.core.magic_arguments\nIPython.core.magics\nIPython.core.magics.auto\nIPython.core.magics.basic\nIPython.core.magics.code\nIPython.core.magics.config\nIPython.core.magics.display\nIPython.core.magics.execution\nIPython.core.magics.extension\nIPython.core.magics.history\nIPython.core.magics.logging\nIPython.core.magics.namespace\nIPython.core.magics.osm\nIPython.core.magics.packaging\nIPython.core.magics.pylab\nIPython.core.magics.script\nIPython.core.oinspect\nIPython.core.page\nIPython.core.payload\nIPython.core.payloadpage\nIPython.core.prefilter\nIPython.core.profiledir\nIPython.core.pylabtools\nIPython.core.release\nIPython.core.shellapp\nIPython.core.splitinput\nIPython.core.ultratb\nIPython.core.usage\nIPython.display\nIPython.extensions\nIPython.extensions.storemagic\nIPython.lib\nIPython.lib.backgroundjobs\nIPython.lib.clipboard\nIPython.lib.display\nIPython.lib.pretty\nIPython.lib.security\nIPython.paths\nIPython.terminal\nIPython.terminal.debugger\nIPython.terminal.embed\nIPython.terminal.interactiveshell\nIPython.terminal.ipapp\nIPython.terminal.magics\nIPython.terminal.prompts\nIPython.terminal.pt_inputhooks\nIPython.terminal.ptutils\nIPython.terminal.shortcuts\nIPython.testing\nIPython.testing.skipdoctest\nIPython.utils\nIPython.utils.PyColorize\nIPython.utils._process_common\nIPython.utils._process_posix\nIPython.utils._sysinfo\nIPython.utils.capture\nIPython.utils.colorable\nIPython.utils.coloransi\nIPython.utils.contexts\nIPython.utils.data\nIPython.utils.decorators\nIPython.utils.dir2\nIPython.utils.encoding\nIPython.utils.frame\nIPython.utils.generics\nIPython.utils.importstring\nIPython.utils.io\nIPython.utils.ipstruct\nIPython.utils.module_paths\nIPython.utils.openpy\nIPython.utils.path\nIPython.utils.process\nIPython.utils.py3compat\nIPython.utils.sentinel\nIPython.utils.strdispatch\nIPython.utils.sysinfo\nIPython.utils.syspathcontext\nIPython.utils.tempdir\nIPython.utils.terminal\nIPython.utils.text\nIPython.utils.timing\nIPython.utils.tokenutil\nIPython.utils.wildcard\n__future__\n__main__\n_abc\n_ast\n_asyncio\n_bisect\n_blake2\n_bootlocale\n_bz2\n_codecs\n_collections\n_collections_abc\n_compat_pickle\n_compression\n_contextvars\n_ctypes\n_curses\n_cython_0_29_21\n_datetime\n_decimal\n_frozen_importlib\n_frozen_importlib_external\n_functools\n_hashlib\n_heapq\n_imp\n_io\n_json\n_locale\n_lsprof\n_lzma\n_opcode\n_operator\n_pickle\n_posixsubprocess\n_queue\n_random\n_sha3\n_sha512\n_signal\n_sitebuiltins\n_socket\n_sqlite3\n_sre\n_ssl\n_stat\n_string\n_strptime\n_struct\n_sysconfigdata__x86_64-linux-gnu\n_thread\n_uuid\n_warnings\n_weakref\n_weakrefset\nabc\nargparse\narray\nast\nasyncio\nasyncio.base_events\nasyncio.base_futures\nasyncio.base_subprocess\nasyncio.base_tasks\nasyncio.constants\nasyncio.coroutines\nasyncio.events\nasyncio.exceptions\nasyncio.format_helpers\nasyncio.futures\nasyncio.locks\nasyncio.log\nasyncio.protocols\nasyncio.queues\nasyncio.runners\nasyncio.selector_events\nasyncio.sslproto\nasyncio.staggered\nasyncio.streams\nasyncio.subprocess\nasyncio.tasks\nasyncio.transports\nasyncio.trsock\nasyncio.unix_events\natexit\nbackcall\nbackcall.backcall\nbase64\nbdb\nbinascii\nbisect\nbuiltins\nbz2\ncProfile\ncalendar\ncmd\ncode\ncodecs\ncodeop\ncollections\ncollections.abc\ncolorsys\nconcurrent\nconcurrent.futures\nconcurrent.futures._base\ncontextlib\ncontextvars\ncopy\ncopyreg\nctypes\nctypes._endian\ncurses\ncython_runtime\ndatetime\ndateutil\ndateutil._common\ndateutil._version\ndateutil.parser\ndateutil.parser._parser\ndateutil.parser.isoparser\ndateutil.relativedelta\ndateutil.tz\ndateutil.tz._common\ndateutil.tz._factories\ndateutil.tz.tz\ndecimal\ndecorator\ndifflib\ndis\ndistutils\ndistutils.version\nemail\nemail._encoded_words\nemail._parseaddr\nemail._policybase\nemail.base64mime\nemail.charset\nemail.encoders\nemail.errors\nemail.feedparser\nemail.header\nemail.iterators\nemail.message\nemail.parser\nemail.quoprimime\nemail.utils\nencodings\nencodings.aliases\nencodings.latin_1\nencodings.utf_8\nenum\nerrno\nfaulthandler\nfcntl\nfilecmp\nfnmatch\nfunctools\ngc\ngenericpath\ngetopt\ngetpass\ngettext\nglob\ngrp\nhashlib\nheapq\nhmac\nhtml\nhtml.entities\nhttp\nhttp.client\nimp\nimportlib\nimportlib._bootstrap\nimportlib._bootstrap_external\nimportlib.abc\nimportlib.machinery\nimportlib.util\ninspect\nio\nipykernel\nipykernel._version\nipykernel.codeutil\nipykernel.comm\nipykernel.comm.comm\nipykernel.comm.manager\nipykernel.connect\nipykernel.datapub\nipykernel.displayhook\nipykernel.eventloops\nipykernel.heartbeat\nipykernel.iostream\nipykernel.ipkernel\nipykernel.jsonutil\nipykernel.kernelapp\nipykernel.kernelbase\nipykernel.parentpoller\nipykernel.pickleutil\nipykernel.serialize\nipykernel.zmqshell\nipython_genutils\nipython_genutils._version\nipython_genutils.encoding\nipython_genutils.importstring\nipython_genutils.path\nipython_genutils.py3compat\nipython_genutils.text\nitertools\njedi\njedi._compatibility\njedi.api\njedi.api.classes\njedi.api.completion\njedi.api.completion_cache\njedi.api.environment\njedi.api.errors\njedi.api.exceptions\njedi.api.file_name\njedi.api.helpers\njedi.api.interpreter\njedi.api.keywords\njedi.api.project\njedi.api.refactoring\njedi.api.refactoring.extract\njedi.api.strings\njedi.cache\njedi.common\njedi.debug\njedi.file_io\njedi.inference\njedi.inference.analysis\njedi.inference.arguments\njedi.inference.base_value\njedi.inference.cache\njedi.inference.compiled\njedi.inference.compiled.access\njedi.inference.compiled.getattr_static\njedi.inference.compiled.mixed\njedi.inference.compiled.subprocess\njedi.inference.compiled.subprocess.functions\njedi.inference.compiled.value\njedi.inference.context\njedi.inference.docstrings\njedi.inference.filters\njedi.inference.flow_analysis\njedi.inference.gradual\njedi.inference.gradual.annotation\njedi.inference.gradual.base\njedi.inference.gradual.conversion\njedi.inference.gradual.generics\njedi.inference.gradual.stub_value\njedi.inference.gradual.type_var\njedi.inference.gradual.typeshed\njedi.inference.gradual.typing\njedi.inference.gradual.utils\njedi.inference.helpers\njedi.inference.imports\njedi.inference.lazy_value\njedi.inference.names\njedi.inference.param\njedi.inference.parser_cache\njedi.inference.recursion\njedi.inference.references\njedi.inference.signature\njedi.inference.syntax_tree\njedi.inference.sys_path\njedi.inference.utils\njedi.inference.value\njedi.inference.value.decorator\njedi.inference.value.dynamic_arrays\njedi.inference.value.function\njedi.inference.value.instance\njedi.inference.value.iterable\njedi.inference.value.klass\njedi.inference.value.module\njedi.parser_utils\njedi.plugins\njedi.plugins.django\njedi.plugins.flask\njedi.plugins.pytest\njedi.plugins.registry\njedi.plugins.stdlib\njedi.settings\njson\njson.decoder\njson.encoder\njson.scanner\njupyter_client\njupyter_client._version\njupyter_client.adapter\njupyter_client.asynchronous\njupyter_client.asynchronous.channels\njupyter_client.asynchronous.client\njupyter_client.blocking\njupyter_client.blocking.channels\njupyter_client.blocking.client\njupyter_client.channels\njupyter_client.channelsabc\njupyter_client.client\njupyter_client.clientabc\njupyter_client.connect\njupyter_client.jsonutil\njupyter_client.kernelspec\njupyter_client.launcher\njupyter_client.localinterfaces\njupyter_client.manager\njupyter_client.managerabc\njupyter_client.multikernelmanager\njupyter_client.session\njupyter_core\njupyter_core.paths\njupyter_core.version\nkeyword\nlinecache\nlocale\nlogging\nlogging.handlers\nlzma\nmarshal\nmath\nmimetypes\nntpath\nnumbers\nopcode\noperator\nos\nos.path\nparso\nparso._compatibility\nparso.cache\nparso.file_io\nparso.grammar\nparso.normalizer\nparso.parser\nparso.pgen2\nparso.pgen2.generator\nparso.pgen2.grammar_parser\nparso.python\nparso.python.diff\nparso.python.errors\nparso.python.parser\nparso.python.pep8\nparso.python.prefix\nparso.python.token\nparso.python.tokenize\nparso.python.tree\nparso.tree\nparso.utils\npathlib\npdb\npexpect\npexpect.exceptions\npexpect.expect\npexpect.pty_spawn\npexpect.run\npexpect.spawnbase\npexpect.utils\npickle\npickleshare\npkgutil\nplatform\nposix\nposixpath\npprint\nprofile\nprompt_toolkit\nprompt_toolkit.application\nprompt_toolkit.application.application\nprompt_toolkit.application.current\nprompt_toolkit.application.dummy\nprompt_toolkit.application.run_in_terminal\nprompt_toolkit.auto_suggest\nprompt_toolkit.buffer\nprompt_toolkit.cache\nprompt_toolkit.clipboard\nprompt_toolkit.clipboard.base\nprompt_toolkit.clipboard.in_memory\nprompt_toolkit.completion\nprompt_toolkit.completion.base\nprompt_toolkit.completion.deduplicate\nprompt_toolkit.completion.filesystem\nprompt_toolkit.completion.fuzzy_completer\nprompt_toolkit.completion.nested\nprompt_toolkit.completion.word_completer\nprompt_toolkit.data_structures\nprompt_toolkit.document\nprompt_toolkit.enums\nprompt_toolkit.eventloop\nprompt_toolkit.eventloop.async_generator\nprompt_toolkit.eventloop.inputhook\nprompt_toolkit.eventloop.utils\nprompt_toolkit.filters\nprompt_toolkit.filters.app\nprompt_toolkit.filters.base\nprompt_toolkit.filters.cli\nprompt_toolkit.filters.utils\nprompt_toolkit.formatted_text\nprompt_toolkit.formatted_text.ansi\nprompt_toolkit.formatted_text.base\nprompt_toolkit.formatted_text.html\nprompt_toolkit.formatted_text.pygments\nprompt_toolkit.formatted_text.utils\nprompt_toolkit.history\nprompt_toolkit.input\nprompt_toolkit.input.ansi_escape_sequences\nprompt_toolkit.input.base\nprompt_toolkit.input.defaults\nprompt_toolkit.input.typeahead\nprompt_toolkit.input.vt100_parser\nprompt_toolkit.key_binding\nprompt_toolkit.key_binding.bindings\nprompt_toolkit.key_binding.bindings.auto_suggest\nprompt_toolkit.key_binding.bindings.basic\nprompt_toolkit.key_binding.bindings.completion\nprompt_toolkit.key_binding.bindings.cpr\nprompt_toolkit.key_binding.bindings.emacs\nprompt_toolkit.key_binding.bindings.focus\nprompt_toolkit.key_binding.bindings.mouse\nprompt_toolkit.key_binding.bindings.named_commands\nprompt_toolkit.key_binding.bindings.open_in_editor\nprompt_toolkit.key_binding.bindings.page_navigation\nprompt_toolkit.key_binding.bindings.scroll\nprompt_toolkit.key_binding.bindings.vi\nprompt_toolkit.key_binding.defaults\nprompt_toolkit.key_binding.digraphs\nprompt_toolkit.key_binding.emacs_state\nprompt_toolkit.key_binding.key_bindings\nprompt_toolkit.key_binding.key_processor\nprompt_toolkit.key_binding.vi_state\nprompt_toolkit.keys\nprompt_toolkit.layout\nprompt_toolkit.layout.containers\nprompt_toolkit.layout.controls\nprompt_toolkit.layout.dimension\nprompt_toolkit.layout.dummy\nprompt_toolkit.layout.layout\nprompt_toolkit.layout.margins\nprompt_toolkit.layout.menus\nprompt_toolkit.layout.mouse_handlers\nprompt_toolkit.layout.processors\nprompt_toolkit.layout.screen\nprompt_toolkit.layout.scrollable_pane\nprompt_toolkit.layout.utils\nprompt_toolkit.lexers\nprompt_toolkit.lexers.base\nprompt_toolkit.lexers.pygments\nprompt_toolkit.mouse_events\nprompt_toolkit.output\nprompt_toolkit.output.base\nprompt_toolkit.output.color_depth\nprompt_toolkit.output.defaults\nprompt_toolkit.output.vt100\nprompt_toolkit.patch_stdout\nprompt_toolkit.renderer\nprompt_toolkit.search\nprompt_toolkit.selection\nprompt_toolkit.shortcuts\nprompt_toolkit.shortcuts.dialogs\nprompt_toolkit.shortcuts.progress_bar\nprompt_toolkit.shortcuts.progress_bar.base\nprompt_toolkit.shortcuts.progress_bar.formatters\nprompt_toolkit.shortcuts.prompt\nprompt_toolkit.shortcuts.utils\nprompt_toolkit.styles\nprompt_toolkit.styles.base\nprompt_toolkit.styles.defaults\nprompt_toolkit.styles.named_colors\nprompt_toolkit.styles.pygments\nprompt_toolkit.styles.style\nprompt_toolkit.styles.style_transformation\nprompt_toolkit.utils\nprompt_toolkit.validation\nprompt_toolkit.widgets\nprompt_toolkit.widgets.base\nprompt_toolkit.widgets.dialogs\nprompt_toolkit.widgets.menus\nprompt_toolkit.widgets.toolbars\npstats\npty\nptyprocess\nptyprocess.ptyprocess\nptyprocess.util\npwd\npydoc\npydoc_data\npydoc_data.topics\npygments\npygments.filter\npygments.filters\npygments.formatter\npygments.formatters\npygments.formatters._mapping\npygments.formatters.html\npygments.lexer\npygments.lexers\npygments.lexers._mapping\npygments.lexers.python\npygments.modeline\npygments.plugin\npygments.regexopt\npygments.style\npygments.styles\npygments.token\npygments.unistring\npygments.util\nqueue\nquopri\nrandom\nre\nreprlib\nresource\nrunpy\nselect\nselectors\nshlex\nshutil\nsignal\nsite\nsitecustomize\nsix\nsix.moves\nsocket\nsqlite3\nsqlite3.dbapi2\nsre_compile\nsre_constants\nsre_parse\nssl\nstat\nstoremagic\nstring\nstruct\nsubprocess\nsys\nsysconfig\ntempfile\ntermios\ntextwrap\nthreading\ntime\ntimeit\ntoken\ntokenize\ntornado\ntornado.concurrent\ntornado.escape\ntornado.gen\ntornado.ioloop\ntornado.locks\ntornado.log\ntornado.platform\ntornado.platform.asyncio\ntornado.queues\ntornado.speedups\ntornado.util\ntraceback\ntraitlets\ntraitlets._version\ntraitlets.config\ntraitlets.config.application\ntraitlets.config.configurable\ntraitlets.config.loader\ntraitlets.log\ntraitlets.traitlets\ntraitlets.utils\ntraitlets.utils.bunch\ntraitlets.utils.decorators\ntraitlets.utils.descriptions\ntraitlets.utils.getargspec\ntraitlets.utils.importstring\ntraitlets.utils.sentinel\ntty\ntypes\ntyping\ntyping.io\ntyping.re\nunicodedata\nurllib\nurllib.error\nurllib.parse\nurllib.request\nurllib.response\nuu\nuuid\nwarnings\nwcwidth\nwcwidth.table_wide\nwcwidth.table_zero\nwcwidth.unicode_versions\nwcwidth.wcwidth\nweakref\nxml\nxml.dom\nxml.dom.NodeFilter\nxml.dom.domreg\nxml.dom.minicompat\nxml.dom.minidom\nxml.dom.xmlbuilder\nzipimport\nzlib\nzmq\nzmq._future\nzmq.asyncio\nzmq.backend\nzmq.backend.cython\nzmq.backend.cython._device\nzmq.backend.cython._poll\nzmq.backend.cython._proxy_steerable\nzmq.backend.cython._version\nzmq.backend.cython.constants\nzmq.backend.cython.context\nzmq.backend.cython.error\nzmq.backend.cython.message\nzmq.backend.cython.socket\nzmq.backend.cython.utils\nzmq.backend.select\nzmq.error\nzmq.eventloop\nzmq.eventloop.ioloop\nzmq.eventloop.zmqstream\nzmq.sugar\nzmq.sugar.attrsettr\nzmq.sugar.constants\nzmq.sugar.context\nzmq.sugar.frame\nzmq.sugar.poll\nzmq.sugar.socket\nzmq.sugar.stopwatch\nzmq.sugar.tracker\nzmq.sugar.version\nzmq.utils\nzmq.utils.constant_names\nzmq.utils.jsonapi\nzmq.utils.strtypes\n"
     ]
    }
   ],
   "source": [
    "import sys\n",
    "for key in sorted(sys.modules):\n",
    "    print(key)"
   ]
  },
  {
   "cell_type": "code",
   "execution_count": 2,
   "metadata": {},
   "outputs": [
    {
     "output_type": "execute_result",
     "data": {
      "text/plain": [
       "False"
      ]
     },
     "metadata": {},
     "execution_count": 2
    }
   ],
   "source": [
    "'cmath' in globals()"
   ]
  },
  {
   "cell_type": "code",
   "execution_count": 3,
   "metadata": {},
   "outputs": [
    {
     "output_type": "execute_result",
     "data": {
      "text/plain": [
       "False"
      ]
     },
     "metadata": {},
     "execution_count": 3
    }
   ],
   "source": [
    "'cmath' in sys.modules"
   ]
  },
  {
   "cell_type": "code",
   "execution_count": 4,
   "metadata": {},
   "outputs": [
    {
     "output_type": "execute_result",
     "data": {
      "text/plain": [
       "(False, False)"
      ]
     },
     "metadata": {},
     "execution_count": 4
    }
   ],
   "source": [
    "'cmath' in globals(), 'cmath' in sys.modules"
   ]
  },
  {
   "cell_type": "code",
   "execution_count": 5,
   "metadata": {},
   "outputs": [
    {
     "output_type": "execute_result",
     "data": {
      "text/plain": [
       "(False, True)"
      ]
     },
     "metadata": {},
     "execution_count": 5
    }
   ],
   "source": [
    "from cmath import exp\n",
    "\n",
    "'cmath' in globals(), 'cmath' in sys.modules"
   ]
  },
  {
   "cell_type": "code",
   "execution_count": 6,
   "metadata": {},
   "outputs": [
    {
     "output_type": "error",
     "ename": "NameError",
     "evalue": "name 'cmath' is not defined",
     "traceback": [
      "\u001b[0;31m---------------------------------------------------------------------------\u001b[0m",
      "\u001b[0;31mNameError\u001b[0m                                 Traceback (most recent call last)",
      "\u001b[0;32m<ipython-input-6-2ba095096fc8>\u001b[0m in \u001b[0;36m<module>\u001b[0;34m\u001b[0m\n\u001b[0;32m----> 1\u001b[0;31m \u001b[0mcmath\u001b[0m\u001b[0;34m.\u001b[0m\u001b[0mexp\u001b[0m\u001b[0;34m(\u001b[0m\u001b[0;34m)\u001b[0m\u001b[0;34m\u001b[0m\u001b[0;34m\u001b[0m\u001b[0m\n\u001b[0m",
      "\u001b[0;31mNameError\u001b[0m: name 'cmath' is not defined"
     ]
    }
   ],
   "source": [
    "cmath.exp()"
   ]
  },
  {
   "cell_type": "code",
   "execution_count": 9,
   "metadata": {},
   "outputs": [
    {
     "output_type": "execute_result",
     "data": {
      "text/plain": [
       "(1+0j)"
      ]
     },
     "metadata": {},
     "execution_count": 9
    }
   ],
   "source": [
    "cmath = sys.modules['cmath']\n",
    "cmath.exp(0)"
   ]
  },
  {
   "cell_type": "code",
   "execution_count": 8,
   "metadata": {},
   "outputs": [
    {
     "output_type": "execute_result",
     "data": {
      "text/plain": [
       "(1+0j)"
      ]
     },
     "metadata": {},
     "execution_count": 8
    }
   ],
   "source": [
    "exp(0)"
   ]
  },
  {
   "cell_type": "code",
   "execution_count": 10,
   "metadata": {},
   "outputs": [
    {
     "output_type": "execute_result",
     "data": {
      "text/plain": [
       "(True, True)"
      ]
     },
     "metadata": {},
     "execution_count": 10
    }
   ],
   "source": [
    "'cmath' in globals(), 'cmath' in sys.modules"
   ]
  },
  {
   "cell_type": "code",
   "execution_count": 11,
   "metadata": {},
   "outputs": [
    {
     "output_type": "execute_result",
     "data": {
      "text/plain": [
       "{'__name__': '__main__',\n",
       " '__doc__': 'Automatically created module for IPython interactive environment',\n",
       " '__package__': None,\n",
       " '__loader__': None,\n",
       " '__spec__': None,\n",
       " '__builtin__': <module 'builtins' (built-in)>,\n",
       " '__builtins__': <module 'builtins' (built-in)>,\n",
       " '_ih': ['',\n",
       "  'import sys\\nfor key in sorted(sys.modules):\\n    print(key)',\n",
       "  \"'cmath' in globals()\",\n",
       "  \"'cmath' in sys.modules\",\n",
       "  \"'cmath' in globals(), 'cmath' in sys.modules\",\n",
       "  \"from cmath import exp\\n\\n'cmath' in globals(), 'cmath' in sys.modules\",\n",
       "  'cmath.exp()',\n",
       "  'exp()',\n",
       "  'exp(0)',\n",
       "  \"cmath = sys.modules['cmath']\\ncmath.exp(0)\",\n",
       "  \"'cmath' in globals(), 'cmath' in sys.modules\",\n",
       "  'from cmath import *\\nglobals()'],\n",
       " '_oh': {2: False,\n",
       "  3: False,\n",
       "  4: (False, False),\n",
       "  5: (False, True),\n",
       "  8: (1+0j),\n",
       "  9: (1+0j),\n",
       "  10: (True, True)},\n",
       " '_dh': ['/home/erfan/Documents/python_training/projects/deep_dive/DD0109_ModulPackagesandNamespaces'],\n",
       " 'In': ['',\n",
       "  'import sys\\nfor key in sorted(sys.modules):\\n    print(key)',\n",
       "  \"'cmath' in globals()\",\n",
       "  \"'cmath' in sys.modules\",\n",
       "  \"'cmath' in globals(), 'cmath' in sys.modules\",\n",
       "  \"from cmath import exp\\n\\n'cmath' in globals(), 'cmath' in sys.modules\",\n",
       "  'cmath.exp()',\n",
       "  'exp()',\n",
       "  'exp(0)',\n",
       "  \"cmath = sys.modules['cmath']\\ncmath.exp(0)\",\n",
       "  \"'cmath' in globals(), 'cmath' in sys.modules\",\n",
       "  'from cmath import *\\nglobals()'],\n",
       " 'Out': {2: False,\n",
       "  3: False,\n",
       "  4: (False, False),\n",
       "  5: (False, True),\n",
       "  8: (1+0j),\n",
       "  9: (1+0j),\n",
       "  10: (True, True)},\n",
       " 'get_ipython': <bound method InteractiveShell.get_ipython of <ipykernel.zmqshell.ZMQInteractiveShell object at 0x7f7e5c7e34f0>>,\n",
       " 'exit': <IPython.core.autocall.ZMQExitAutocall at 0x7f7e5c7b6760>,\n",
       " 'quit': <IPython.core.autocall.ZMQExitAutocall at 0x7f7e5c7b6760>,\n",
       " '_': (True, True),\n",
       " '__': (1+0j),\n",
       " '___': (1+0j),\n",
       " 'sys': <module 'sys' (built-in)>,\n",
       " 'os': <module 'os' from '/usr/lib/python3.8/os.py'>,\n",
       " '_i': \"'cmath' in globals(), 'cmath' in sys.modules\",\n",
       " '_ii': \"cmath = sys.modules['cmath']\\ncmath.exp(0)\",\n",
       " '_iii': 'exp(0)',\n",
       " '_i1': 'import sys\\nfor key in sorted(sys.modules):\\n    print(key)',\n",
       " 'key': 'zmq.utils.strtypes',\n",
       " '_i2': \"'cmath' in globals()\",\n",
       " '_2': False,\n",
       " '_i3': \"'cmath' in sys.modules\",\n",
       " '_3': False,\n",
       " '_i4': \"'cmath' in globals(), 'cmath' in sys.modules\",\n",
       " '_4': (False, False),\n",
       " '_i5': \"from cmath import exp\\n\\n'cmath' in globals(), 'cmath' in sys.modules\",\n",
       " 'exp': <function cmath.exp(z, /)>,\n",
       " '_5': (False, True),\n",
       " '_i6': 'cmath.exp()',\n",
       " '_i7': 'exp()',\n",
       " '_i8': 'exp(0)',\n",
       " '_8': (1+0j),\n",
       " '_i9': \"cmath = sys.modules['cmath']\\ncmath.exp(0)\",\n",
       " 'cmath': <module 'cmath' (built-in)>,\n",
       " '_9': (1+0j),\n",
       " '_i10': \"'cmath' in globals(), 'cmath' in sys.modules\",\n",
       " '_10': (True, True),\n",
       " '_i11': 'from cmath import *\\nglobals()',\n",
       " 'acos': <function cmath.acos(z, /)>,\n",
       " 'acosh': <function cmath.acosh(z, /)>,\n",
       " 'asin': <function cmath.asin(z, /)>,\n",
       " 'asinh': <function cmath.asinh(z, /)>,\n",
       " 'atan': <function cmath.atan(z, /)>,\n",
       " 'atanh': <function cmath.atanh(z, /)>,\n",
       " 'cos': <function cmath.cos(z, /)>,\n",
       " 'cosh': <function cmath.cosh(z, /)>,\n",
       " 'isclose': <function cmath.isclose(a, b, *, rel_tol=1e-09, abs_tol=0.0)>,\n",
       " 'isfinite': <function cmath.isfinite(z, /)>,\n",
       " 'isinf': <function cmath.isinf(z, /)>,\n",
       " 'isnan': <function cmath.isnan(z, /)>,\n",
       " 'log': <function cmath.log>,\n",
       " 'log10': <function cmath.log10(z, /)>,\n",
       " 'phase': <function cmath.phase(z, /)>,\n",
       " 'polar': <function cmath.polar(z, /)>,\n",
       " 'rect': <function cmath.rect(r, phi, /)>,\n",
       " 'sin': <function cmath.sin(z, /)>,\n",
       " 'sinh': <function cmath.sinh(z, /)>,\n",
       " 'sqrt': <function cmath.sqrt(z, /)>,\n",
       " 'tan': <function cmath.tan(z, /)>,\n",
       " 'tanh': <function cmath.tanh(z, /)>,\n",
       " 'pi': 3.141592653589793,\n",
       " 'e': 2.718281828459045,\n",
       " 'tau': 6.283185307179586,\n",
       " 'inf': inf,\n",
       " 'infj': infj,\n",
       " 'nan': nan,\n",
       " 'nanj': nanj}"
      ]
     },
     "metadata": {},
     "execution_count": 11
    }
   ],
   "source": [
    "from cmath import *\n",
    "globals()"
   ]
  },
  {
   "cell_type": "code",
   "execution_count": 12,
   "metadata": {},
   "outputs": [
    {
     "output_type": "execute_result",
     "data": {
      "text/plain": [
       "(1.4031192506220405-0.4890562590412937j)"
      ]
     },
     "metadata": {},
     "execution_count": 12
    }
   ],
   "source": [
    "sin(2+1j)"
   ]
  },
  {
   "cell_type": "code",
   "execution_count": 13,
   "metadata": {},
   "outputs": [
    {
     "output_type": "execute_result",
     "data": {
      "text/plain": [
       "<function cmath.sin(z, /)>"
      ]
     },
     "metadata": {},
     "execution_count": 13
    }
   ],
   "source": [
    "from cmath import sin as c_sin\n",
    "c_sin"
   ]
  },
  {
   "source": [
    "#### Timing ####"
   ],
   "cell_type": "markdown",
   "metadata": {}
  },
  {
   "cell_type": "code",
   "execution_count": 14,
   "metadata": {},
   "outputs": [],
   "source": [
    "from time import perf_counter"
   ]
  },
  {
   "cell_type": "code",
   "execution_count": 23,
   "metadata": {},
   "outputs": [
    {
     "output_type": "stream",
     "name": "stdout",
     "text": [
      "Elapsed: 0.797224754999661\n"
     ]
    }
   ],
   "source": [
    "import math\n",
    "\n",
    "start = perf_counter()\n",
    "\n",
    "for i in range(5_000_000):\n",
    "    math.sqrt(2)\n",
    "\n",
    "end = perf_counter()\n",
    "\n",
    "print(f'Elapsed: {end-start}')"
   ]
  },
  {
   "cell_type": "code",
   "execution_count": 22,
   "metadata": {},
   "outputs": [
    {
     "output_type": "stream",
     "name": "stdout",
     "text": [
      "Elapsed: 0.5746021780005321\n"
     ]
    }
   ],
   "source": [
    "from math import sqrt\n",
    "\n",
    "start = perf_counter()\n",
    "\n",
    "for i in range(5_000_000):\n",
    "    sqrt(2)\n",
    "\n",
    "end = perf_counter()\n",
    "\n",
    "print(f'Elapsed: {end-start}')"
   ]
  },
  {
   "cell_type": "code",
   "execution_count": null,
   "metadata": {},
   "outputs": [],
   "source": []
  }
 ]
}