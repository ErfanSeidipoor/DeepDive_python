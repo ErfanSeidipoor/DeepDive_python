{
 "metadata": {
  "language_info": {
   "codemirror_mode": {
    "name": "ipython",
    "version": 3
   },
   "file_extension": ".py",
   "mimetype": "text/x-python",
   "name": "python",
   "nbconvert_exporter": "python",
   "pygments_lexer": "ipython3",
   "version": "3.8.5"
  },
  "orig_nbformat": 2,
  "kernelspec": {
   "name": "python38564bitvenvvenv29795fd3ebc6467f927a688fb305efe1",
   "display_name": "Python 3.8.5 64-bit"
  },
  "metadata": {
   "interpreter": {
    "hash": "404c9d671a199228bd4a5a24c862b434238b428c21d528e53ac2b960678e1982"
   }
  }
 },
 "nbformat": 4,
 "nbformat_minor": 2,
 "cells": [
  {
   "cell_type": "code",
   "execution_count": 7,
   "metadata": {},
   "outputs": [
    {
     "output_type": "execute_result",
     "data": {
      "text/plain": [
       "<function __main__.func()>"
      ]
     },
     "metadata": {},
     "execution_count": 7
    }
   ],
   "source": [
    "def func():\n",
    "    a = 10\n",
    "    return a\n",
    "    \n",
    "func"
   ]
  },
  {
   "cell_type": "code",
   "execution_count": 8,
   "metadata": {},
   "outputs": [
    {
     "output_type": "execute_result",
     "data": {
      "text/plain": [
       "140048969904624"
      ]
     },
     "metadata": {},
     "execution_count": 8
    }
   ],
   "source": [
    "id(func)"
   ]
  },
  {
   "cell_type": "code",
   "execution_count": 10,
   "metadata": {},
   "outputs": [
    {
     "output_type": "execute_result",
     "data": {
      "text/plain": [
       "{'__name__': '__main__',\n",
       " '__doc__': 'Automatically created module for IPython interactive environment',\n",
       " '__package__': None,\n",
       " '__loader__': None,\n",
       " '__spec__': None,\n",
       " '__builtin__': <module 'builtins' (built-in)>,\n",
       " '__builtins__': <module 'builtins' (built-in)>,\n",
       " '_ih': ['',\n",
       "  'def func():\\n    a = 10\\n    return a\\n\\nfunc()',\n",
       "  'def func():\\n    a = 10\\n    return a\\nfunc, id(func)',\n",
       "  'def func():\\n    a = 10\\n    return a\\nfunc',\n",
       "  'id(func)',\n",
       "  'def func():\\n    a = 10\\n    return a\\n    \\nfunc',\n",
       "  'id(func)',\n",
       "  'def func():\\n    a = 10\\n    return a\\n    \\nfunc',\n",
       "  'id(func)',\n",
       "  'func(10)',\n",
       "  'globals()'],\n",
       " '_oh': {1: 10,\n",
       "  2: (<function __main__.func()>, 140049222786352),\n",
       "  3: <function __main__.func()>,\n",
       "  4: 140049222786064,\n",
       "  5: <function __main__.func()>,\n",
       "  6: 140048968783760,\n",
       "  7: <function __main__.func()>,\n",
       "  8: 140048969904624},\n",
       " '_dh': ['/home/erfan/Documents/python_training/projects/deep_dive/DD0109_ModulPackagesandNamespaces'],\n",
       " 'In': ['',\n",
       "  'def func():\\n    a = 10\\n    return a\\n\\nfunc()',\n",
       "  'def func():\\n    a = 10\\n    return a\\nfunc, id(func)',\n",
       "  'def func():\\n    a = 10\\n    return a\\nfunc',\n",
       "  'id(func)',\n",
       "  'def func():\\n    a = 10\\n    return a\\n    \\nfunc',\n",
       "  'id(func)',\n",
       "  'def func():\\n    a = 10\\n    return a\\n    \\nfunc',\n",
       "  'id(func)',\n",
       "  'func(10)',\n",
       "  'globals()'],\n",
       " 'Out': {1: 10,\n",
       "  2: (<function __main__.func()>, 140049222786352),\n",
       "  3: <function __main__.func()>,\n",
       "  4: 140049222786064,\n",
       "  5: <function __main__.func()>,\n",
       "  6: 140048968783760,\n",
       "  7: <function __main__.func()>,\n",
       "  8: 140048969904624},\n",
       " 'get_ipython': <bound method InteractiveShell.get_ipython of <ipykernel.zmqshell.ZMQInteractiveShell object at 0x7f5fc234f4f0>>,\n",
       " 'exit': <IPython.core.autocall.ZMQExitAutocall at 0x7f5fc2321760>,\n",
       " 'quit': <IPython.core.autocall.ZMQExitAutocall at 0x7f5fc2321760>,\n",
       " '_': 140048969904624,\n",
       " '__': <function __main__.func()>,\n",
       " '___': 140048968783760,\n",
       " 'sys': <module 'sys' (built-in)>,\n",
       " 'os': <module 'os' from '/usr/lib/python3.8/os.py'>,\n",
       " '_i': 'func(10)',\n",
       " '_ii': 'id(func)',\n",
       " '_iii': 'def func():\\n    a = 10\\n    return a\\n    \\nfunc',\n",
       " '_i1': 'def func():\\n    a = 10\\n    return a\\n\\nfunc()',\n",
       " 'func': <function __main__.func()>,\n",
       " '_1': 10,\n",
       " '_i2': 'def func():\\n    a = 10\\n    return a\\nfunc, id(func)',\n",
       " '_2': (<function __main__.func()>, 140049222786352),\n",
       " '_rwho_ls': ['func', 'os', 'sys'],\n",
       " '_i3': 'def func():\\n    a = 10\\n    return a\\nfunc',\n",
       " '_3': <function __main__.func()>,\n",
       " '_i4': 'id(func)',\n",
       " '_4': 140049222786064,\n",
       " '_i5': 'def func():\\n    a = 10\\n    return a\\n    \\nfunc',\n",
       " '_5': <function __main__.func()>,\n",
       " '_i6': 'id(func)',\n",
       " '_6': 140048968783760,\n",
       " '_i7': 'def func():\\n    a = 10\\n    return a\\n    \\nfunc',\n",
       " '_7': <function __main__.func()>,\n",
       " '_i8': 'id(func)',\n",
       " '_8': 140048969904624,\n",
       " '_i9': 'func(10)',\n",
       " '_i10': 'globals()'}"
      ]
     },
     "metadata": {},
     "execution_count": 10
    }
   ],
   "source": [
    "globals()"
   ]
  },
  {
   "cell_type": "code",
   "execution_count": 15,
   "metadata": {},
   "outputs": [
    {
     "output_type": "execute_result",
     "data": {
      "text/plain": [
       "(True, 10)"
      ]
     },
     "metadata": {},
     "execution_count": 15
    }
   ],
   "source": [
    "f = globals()['func']\n",
    "f is func, func()"
   ]
  },
  {
   "cell_type": "code",
   "execution_count": 16,
   "metadata": {},
   "outputs": [
    {
     "output_type": "execute_result",
     "data": {
      "text/plain": [
       "10"
      ]
     },
     "metadata": {},
     "execution_count": 16
    }
   ],
   "source": [
    "globals()['func']()"
   ]
  },
  {
   "cell_type": "code",
   "execution_count": 17,
   "metadata": {},
   "outputs": [
    {
     "output_type": "execute_result",
     "data": {
      "text/plain": [
       "{'__name__': '__main__',\n",
       " '__doc__': 'Automatically created module for IPython interactive environment',\n",
       " '__package__': None,\n",
       " '__loader__': None,\n",
       " '__spec__': None,\n",
       " '__builtin__': <module 'builtins' (built-in)>,\n",
       " '__builtins__': <module 'builtins' (built-in)>,\n",
       " '_ih': ['',\n",
       "  'def func():\\n    a = 10\\n    return a\\n\\nfunc()',\n",
       "  'def func():\\n    a = 10\\n    return a\\nfunc, id(func)',\n",
       "  'def func():\\n    a = 10\\n    return a\\nfunc',\n",
       "  'id(func)',\n",
       "  'def func():\\n    a = 10\\n    return a\\n    \\nfunc',\n",
       "  'id(func)',\n",
       "  'def func():\\n    a = 10\\n    return a\\n    \\nfunc',\n",
       "  'id(func)',\n",
       "  'func(10)',\n",
       "  'globals()',\n",
       "  \"f = globals['func']\\nf()\",\n",
       "  \"f = globals()['func']\\nf()\",\n",
       "  \"f = globals()['func']\\nf id func\",\n",
       "  \"f = globals()['func']\\nf is func\",\n",
       "  \"f = globals()['func']\\nf is func, func()\",\n",
       "  \"globals()['func']()\",\n",
       "  'locals()'],\n",
       " '_oh': {1: 10,\n",
       "  2: (<function __main__.func()>, 140049222786352),\n",
       "  3: <function __main__.func()>,\n",
       "  4: 140049222786064,\n",
       "  5: <function __main__.func()>,\n",
       "  6: 140048968783760,\n",
       "  7: <function __main__.func()>,\n",
       "  8: 140048969904624,\n",
       "  10: {...},\n",
       "  12: 10,\n",
       "  14: True,\n",
       "  15: (True, 10),\n",
       "  16: 10},\n",
       " '_dh': ['/home/erfan/Documents/python_training/projects/deep_dive/DD0109_ModulPackagesandNamespaces'],\n",
       " 'In': ['',\n",
       "  'def func():\\n    a = 10\\n    return a\\n\\nfunc()',\n",
       "  'def func():\\n    a = 10\\n    return a\\nfunc, id(func)',\n",
       "  'def func():\\n    a = 10\\n    return a\\nfunc',\n",
       "  'id(func)',\n",
       "  'def func():\\n    a = 10\\n    return a\\n    \\nfunc',\n",
       "  'id(func)',\n",
       "  'def func():\\n    a = 10\\n    return a\\n    \\nfunc',\n",
       "  'id(func)',\n",
       "  'func(10)',\n",
       "  'globals()',\n",
       "  \"f = globals['func']\\nf()\",\n",
       "  \"f = globals()['func']\\nf()\",\n",
       "  \"f = globals()['func']\\nf id func\",\n",
       "  \"f = globals()['func']\\nf is func\",\n",
       "  \"f = globals()['func']\\nf is func, func()\",\n",
       "  \"globals()['func']()\",\n",
       "  'locals()'],\n",
       " 'Out': {1: 10,\n",
       "  2: (<function __main__.func()>, 140049222786352),\n",
       "  3: <function __main__.func()>,\n",
       "  4: 140049222786064,\n",
       "  5: <function __main__.func()>,\n",
       "  6: 140048968783760,\n",
       "  7: <function __main__.func()>,\n",
       "  8: 140048969904624,\n",
       "  10: {...},\n",
       "  12: 10,\n",
       "  14: True,\n",
       "  15: (True, 10),\n",
       "  16: 10},\n",
       " 'get_ipython': <bound method InteractiveShell.get_ipython of <ipykernel.zmqshell.ZMQInteractiveShell object at 0x7f5fc234f4f0>>,\n",
       " 'exit': <IPython.core.autocall.ZMQExitAutocall at 0x7f5fc2321760>,\n",
       " 'quit': <IPython.core.autocall.ZMQExitAutocall at 0x7f5fc2321760>,\n",
       " '_': 10,\n",
       " '__': (True, 10),\n",
       " '___': True,\n",
       " 'sys': <module 'sys' (built-in)>,\n",
       " 'os': <module 'os' from '/usr/lib/python3.8/os.py'>,\n",
       " '_i': \"globals()['func']()\",\n",
       " '_ii': \"f = globals()['func']\\nf is func, func()\",\n",
       " '_iii': \"f = globals()['func']\\nf is func\",\n",
       " '_i1': 'def func():\\n    a = 10\\n    return a\\n\\nfunc()',\n",
       " 'func': <function __main__.func()>,\n",
       " '_1': 10,\n",
       " '_i2': 'def func():\\n    a = 10\\n    return a\\nfunc, id(func)',\n",
       " '_2': (<function __main__.func()>, 140049222786352),\n",
       " '_rwho_ls': ['f', 'func', 'os', 'sys'],\n",
       " '_i3': 'def func():\\n    a = 10\\n    return a\\nfunc',\n",
       " '_3': <function __main__.func()>,\n",
       " '_i4': 'id(func)',\n",
       " '_4': 140049222786064,\n",
       " '_i5': 'def func():\\n    a = 10\\n    return a\\n    \\nfunc',\n",
       " '_5': <function __main__.func()>,\n",
       " '_i6': 'id(func)',\n",
       " '_6': 140048968783760,\n",
       " '_i7': 'def func():\\n    a = 10\\n    return a\\n    \\nfunc',\n",
       " '_7': <function __main__.func()>,\n",
       " '_i8': 'id(func)',\n",
       " '_8': 140048969904624,\n",
       " '_i9': 'func(10)',\n",
       " '_i10': 'globals()',\n",
       " '_10': {...},\n",
       " '_i11': \"f = globals['func']\\nf()\",\n",
       " '_i12': \"f = globals()['func']\\nf()\",\n",
       " 'f': <function __main__.func()>,\n",
       " '_12': 10,\n",
       " '_i13': \"f = globals()['func']\\nf id func\",\n",
       " '_i14': \"f = globals()['func']\\nf is func\",\n",
       " '_14': True,\n",
       " '_i15': \"f = globals()['func']\\nf is func, func()\",\n",
       " '_15': (True, 10),\n",
       " '_i16': \"globals()['func']()\",\n",
       " '_16': 10,\n",
       " '_i17': 'locals()'}"
      ]
     },
     "metadata": {},
     "execution_count": 17
    }
   ],
   "source": [
    "locals()"
   ]
  },
  {
   "cell_type": "code",
   "execution_count": 19,
   "metadata": {},
   "outputs": [
    {
     "output_type": "execute_result",
     "data": {
      "text/plain": [
       "True"
      ]
     },
     "metadata": {},
     "execution_count": 19
    }
   ],
   "source": [
    "locals() is globals()"
   ]
  },
  {
   "cell_type": "code",
   "execution_count": 23,
   "metadata": {},
   "outputs": [
    {
     "output_type": "stream",
     "name": "stdout",
     "text": [
      "{'a': 10}\n"
     ]
    }
   ],
   "source": [
    "x = 21\n",
    "\n",
    "def my_func():\n",
    "    a = 10\n",
    "    print(locals())\n",
    "    print(locals())\n",
    "\n",
    "my_func()"
   ]
  },
  {
   "cell_type": "code",
   "execution_count": 24,
   "metadata": {},
   "outputs": [
    {
     "output_type": "execute_result",
     "data": {
      "text/plain": [
       "<module 'math' (built-in)>"
      ]
     },
     "metadata": {},
     "execution_count": 24
    }
   ],
   "source": [
    "import math\n",
    "math"
   ]
  },
  {
   "cell_type": "code",
   "execution_count": 25,
   "metadata": {},
   "outputs": [
    {
     "output_type": "execute_result",
     "data": {
      "text/plain": [
       "<module 'fractions' from '/usr/lib/python3.8/fractions.py'>"
      ]
     },
     "metadata": {},
     "execution_count": 25
    }
   ],
   "source": [
    "import fractions \n",
    "fractions"
   ]
  },
  {
   "cell_type": "code",
   "execution_count": 26,
   "metadata": {},
   "outputs": [
    {
     "output_type": "execute_result",
     "data": {
      "text/plain": [
       "True"
      ]
     },
     "metadata": {},
     "execution_count": 26
    }
   ],
   "source": [
    "junk = math\n",
    "junk is math"
   ]
  },
  {
   "cell_type": "code",
   "execution_count": 30,
   "metadata": {},
   "outputs": [
    {
     "output_type": "execute_result",
     "data": {
      "text/plain": [
       "(<module 'math' (built-in)>, module)"
      ]
     },
     "metadata": {},
     "execution_count": 30
    }
   ],
   "source": [
    "globals()['math']"
   ]
  },
  {
   "cell_type": "code",
   "execution_count": 32,
   "metadata": {},
   "outputs": [
    {
     "output_type": "execute_result",
     "data": {
      "text/plain": [
       "module"
      ]
     },
     "metadata": {},
     "execution_count": 32
    }
   ],
   "source": [
    "type(math)"
   ]
  },
  {
   "cell_type": "code",
   "execution_count": 33,
   "metadata": {},
   "outputs": [
    {
     "output_type": "execute_result",
     "data": {
      "text/plain": [
       "module"
      ]
     },
     "metadata": {},
     "execution_count": 33
    }
   ],
   "source": [
    "type(fractions)"
   ]
  },
  {
   "cell_type": "code",
   "execution_count": 36,
   "metadata": {},
   "outputs": [
    {
     "output_type": "stream",
     "name": "stdout",
     "text": [
      "140049317250768\n"
     ]
    },
    {
     "output_type": "execute_result",
     "data": {
      "text/plain": [
       "(<module 'math' (built-in)>, 140049317250768)"
      ]
     },
     "metadata": {},
     "execution_count": 36
    }
   ],
   "source": [
    "print(id(math))\n",
    "\n",
    "import sys \n",
    "\n",
    "sys.modules['math'], id(sys.modules['math'])\n"
   ]
  },
  {
   "cell_type": "code",
   "execution_count": 37,
   "metadata": {},
   "outputs": [
    {
     "output_type": "execute_result",
     "data": {
      "text/plain": [
       "{'__name__': 'math',\n",
       " '__doc__': 'This module provides access to the mathematical functions\\ndefined by the C standard.',\n",
       " '__package__': '',\n",
       " '__loader__': _frozen_importlib.BuiltinImporter,\n",
       " '__spec__': ModuleSpec(name='math', loader=<class '_frozen_importlib.BuiltinImporter'>, origin='built-in'),\n",
       " 'acos': <function math.acos(x, /)>,\n",
       " 'acosh': <function math.acosh(x, /)>,\n",
       " 'asin': <function math.asin(x, /)>,\n",
       " 'asinh': <function math.asinh(x, /)>,\n",
       " 'atan': <function math.atan(x, /)>,\n",
       " 'atan2': <function math.atan2(y, x, /)>,\n",
       " 'atanh': <function math.atanh(x, /)>,\n",
       " 'ceil': <function math.ceil(x, /)>,\n",
       " 'copysign': <function math.copysign(x, y, /)>,\n",
       " 'cos': <function math.cos(x, /)>,\n",
       " 'cosh': <function math.cosh(x, /)>,\n",
       " 'degrees': <function math.degrees(x, /)>,\n",
       " 'dist': <function math.dist(p, q, /)>,\n",
       " 'erf': <function math.erf(x, /)>,\n",
       " 'erfc': <function math.erfc(x, /)>,\n",
       " 'exp': <function math.exp(x, /)>,\n",
       " 'expm1': <function math.expm1(x, /)>,\n",
       " 'fabs': <function math.fabs(x, /)>,\n",
       " 'factorial': <function math.factorial(x, /)>,\n",
       " 'floor': <function math.floor(x, /)>,\n",
       " 'fmod': <function math.fmod(x, y, /)>,\n",
       " 'frexp': <function math.frexp(x, /)>,\n",
       " 'fsum': <function math.fsum(seq, /)>,\n",
       " 'gamma': <function math.gamma(x, /)>,\n",
       " 'gcd': <function math.gcd(x, y, /)>,\n",
       " 'hypot': <function math.hypot>,\n",
       " 'isclose': <function math.isclose(a, b, *, rel_tol=1e-09, abs_tol=0.0)>,\n",
       " 'isfinite': <function math.isfinite(x, /)>,\n",
       " 'isinf': <function math.isinf(x, /)>,\n",
       " 'isnan': <function math.isnan(x, /)>,\n",
       " 'isqrt': <function math.isqrt(n, /)>,\n",
       " 'ldexp': <function math.ldexp(x, i, /)>,\n",
       " 'lgamma': <function math.lgamma(x, /)>,\n",
       " 'log': <function math.log>,\n",
       " 'log1p': <function math.log1p(x, /)>,\n",
       " 'log10': <function math.log10(x, /)>,\n",
       " 'log2': <function math.log2(x, /)>,\n",
       " 'modf': <function math.modf(x, /)>,\n",
       " 'pow': <function math.pow(x, y, /)>,\n",
       " 'radians': <function math.radians(x, /)>,\n",
       " 'remainder': <function math.remainder(x, y, /)>,\n",
       " 'sin': <function math.sin(x, /)>,\n",
       " 'sinh': <function math.sinh(x, /)>,\n",
       " 'sqrt': <function math.sqrt(x, /)>,\n",
       " 'tan': <function math.tan(x, /)>,\n",
       " 'tanh': <function math.tanh(x, /)>,\n",
       " 'trunc': <function math.trunc(x, /)>,\n",
       " 'prod': <function math.prod(iterable, /, *, start=1)>,\n",
       " 'perm': <function math.perm(n, k=None, /)>,\n",
       " 'comb': <function math.comb(n, k, /)>,\n",
       " 'pi': 3.141592653589793,\n",
       " 'e': 2.718281828459045,\n",
       " 'tau': 6.283185307179586,\n",
       " 'inf': inf,\n",
       " 'nan': nan}"
      ]
     },
     "metadata": {},
     "execution_count": 37
    }
   ],
   "source": [
    "math.__dict__"
   ]
  },
  {
   "cell_type": "code",
   "execution_count": 39,
   "metadata": {},
   "outputs": [
    {
     "output_type": "execute_result",
     "data": {
      "text/plain": [
       "2.0"
      ]
     },
     "metadata": {},
     "execution_count": 39
    }
   ],
   "source": [
    "my_sqrt = math.__dict__['sqrt']\n",
    "my_sqrt(4)"
   ]
  },
  {
   "cell_type": "code",
   "execution_count": 41,
   "metadata": {},
   "outputs": [
    {
     "output_type": "execute_result",
     "data": {
      "text/plain": [
       "['Decimal',\n",
       " 'Fraction',\n",
       " '_PyHASH_INF',\n",
       " '_PyHASH_MODULUS',\n",
       " '_RATIONAL_FORMAT',\n",
       " '__all__',\n",
       " '__builtins__',\n",
       " '__cached__',\n",
       " '__doc__',\n",
       " '__file__',\n",
       " '__loader__',\n",
       " '__name__',\n",
       " '__package__',\n",
       " '__spec__',\n",
       " '_gcd',\n",
       " 'gcd',\n",
       " 'math',\n",
       " 'numbers',\n",
       " 'operator',\n",
       " 're',\n",
       " 'sys']"
      ]
     },
     "metadata": {},
     "execution_count": 41
    }
   ],
   "source": [
    "dir(fractions)"
   ]
  },
  {
   "cell_type": "code",
   "execution_count": 42,
   "metadata": {},
   "outputs": [
    {
     "output_type": "execute_result",
     "data": {
      "text/plain": [
       "{'__name__': 'fractions',\n",
       " '__doc__': 'Fraction, infinite-precision, real numbers.',\n",
       " '__package__': '',\n",
       " '__loader__': <_frozen_importlib_external.SourceFileLoader at 0x7f5fb071bf10>,\n",
       " '__spec__': ModuleSpec(name='fractions', loader=<_frozen_importlib_external.SourceFileLoader object at 0x7f5fb071bf10>, origin='/usr/lib/python3.8/fractions.py'),\n",
       " '__file__': '/usr/lib/python3.8/fractions.py',\n",
       " '__cached__': '/usr/lib/python3.8/__pycache__/fractions.cpython-38.pyc',\n",
       " '__builtins__': {'__name__': 'builtins',\n",
       "  '__doc__': \"Built-in functions, exceptions, and other objects.\\n\\nNoteworthy: None is the `nil' object; Ellipsis represents `...' in slices.\",\n",
       "  '__package__': '',\n",
       "  '__loader__': _frozen_importlib.BuiltinImporter,\n",
       "  '__spec__': ModuleSpec(name='builtins', loader=<class '_frozen_importlib.BuiltinImporter'>),\n",
       "  '__build_class__': <function __build_class__>,\n",
       "  '__import__': <function __import__>,\n",
       "  'abs': <function abs(x, /)>,\n",
       "  'all': <function all(iterable, /)>,\n",
       "  'any': <function any(iterable, /)>,\n",
       "  'ascii': <function ascii(obj, /)>,\n",
       "  'bin': <function bin(number, /)>,\n",
       "  'breakpoint': <function breakpoint>,\n",
       "  'callable': <function callable(obj, /)>,\n",
       "  'chr': <function chr(i, /)>,\n",
       "  'compile': <function compile(source, filename, mode, flags=0, dont_inherit=False, optimize=-1, *, _feature_version=-1)>,\n",
       "  'delattr': <function delattr(obj, name, /)>,\n",
       "  'dir': <function dir>,\n",
       "  'divmod': <function divmod(x, y, /)>,\n",
       "  'eval': <function eval(source, globals=None, locals=None, /)>,\n",
       "  'exec': <function exec(source, globals=None, locals=None, /)>,\n",
       "  'format': <function format(value, format_spec='', /)>,\n",
       "  'getattr': <function getattr>,\n",
       "  'globals': <function globals()>,\n",
       "  'hasattr': <function hasattr(obj, name, /)>,\n",
       "  'hash': <function hash(obj, /)>,\n",
       "  'hex': <function hex(number, /)>,\n",
       "  'id': <function id(obj, /)>,\n",
       "  'input': <bound method Kernel.raw_input of <ipykernel.ipkernel.IPythonKernel object at 0x7f5fc22f6d30>>,\n",
       "  'isinstance': <function isinstance(obj, class_or_tuple, /)>,\n",
       "  'issubclass': <function issubclass(cls, class_or_tuple, /)>,\n",
       "  'iter': <function iter>,\n",
       "  'len': <function len(obj, /)>,\n",
       "  'locals': <function locals()>,\n",
       "  'max': <function max>,\n",
       "  'min': <function min>,\n",
       "  'next': <function next>,\n",
       "  'oct': <function oct(number, /)>,\n",
       "  'ord': <function ord(c, /)>,\n",
       "  'pow': <function pow(base, exp, mod=None)>,\n",
       "  'print': <function print>,\n",
       "  'repr': <function repr(obj, /)>,\n",
       "  'round': <function round(number, ndigits=None)>,\n",
       "  'setattr': <function setattr(obj, name, value, /)>,\n",
       "  'sorted': <function sorted(iterable, /, *, key=None, reverse=False)>,\n",
       "  'sum': <function sum(iterable, /, start=0)>,\n",
       "  'vars': <function vars>,\n",
       "  'None': None,\n",
       "  'Ellipsis': Ellipsis,\n",
       "  'NotImplemented': NotImplemented,\n",
       "  'False': False,\n",
       "  'True': True,\n",
       "  'bool': bool,\n",
       "  'memoryview': memoryview,\n",
       "  'bytearray': bytearray,\n",
       "  'bytes': bytes,\n",
       "  'classmethod': classmethod,\n",
       "  'complex': complex,\n",
       "  'dict': dict,\n",
       "  'enumerate': enumerate,\n",
       "  'filter': filter,\n",
       "  'float': float,\n",
       "  'frozenset': frozenset,\n",
       "  'property': property,\n",
       "  'int': int,\n",
       "  'list': list,\n",
       "  'map': map,\n",
       "  'object': object,\n",
       "  'range': range,\n",
       "  'reversed': reversed,\n",
       "  'set': set,\n",
       "  'slice': slice,\n",
       "  'staticmethod': staticmethod,\n",
       "  'str': str,\n",
       "  'super': super,\n",
       "  'tuple': tuple,\n",
       "  'type': type,\n",
       "  'zip': zip,\n",
       "  '__debug__': True,\n",
       "  'BaseException': BaseException,\n",
       "  'Exception': Exception,\n",
       "  'TypeError': TypeError,\n",
       "  'StopAsyncIteration': StopAsyncIteration,\n",
       "  'StopIteration': StopIteration,\n",
       "  'GeneratorExit': GeneratorExit,\n",
       "  'SystemExit': SystemExit,\n",
       "  'KeyboardInterrupt': KeyboardInterrupt,\n",
       "  'ImportError': ImportError,\n",
       "  'ModuleNotFoundError': ModuleNotFoundError,\n",
       "  'OSError': OSError,\n",
       "  'EnvironmentError': OSError,\n",
       "  'IOError': OSError,\n",
       "  'EOFError': EOFError,\n",
       "  'RuntimeError': RuntimeError,\n",
       "  'RecursionError': RecursionError,\n",
       "  'NotImplementedError': NotImplementedError,\n",
       "  'NameError': NameError,\n",
       "  'UnboundLocalError': UnboundLocalError,\n",
       "  'AttributeError': AttributeError,\n",
       "  'SyntaxError': SyntaxError,\n",
       "  'IndentationError': IndentationError,\n",
       "  'TabError': TabError,\n",
       "  'LookupError': LookupError,\n",
       "  'IndexError': IndexError,\n",
       "  'KeyError': KeyError,\n",
       "  'ValueError': ValueError,\n",
       "  'UnicodeError': UnicodeError,\n",
       "  'UnicodeEncodeError': UnicodeEncodeError,\n",
       "  'UnicodeDecodeError': UnicodeDecodeError,\n",
       "  'UnicodeTranslateError': UnicodeTranslateError,\n",
       "  'AssertionError': AssertionError,\n",
       "  'ArithmeticError': ArithmeticError,\n",
       "  'FloatingPointError': FloatingPointError,\n",
       "  'OverflowError': OverflowError,\n",
       "  'ZeroDivisionError': ZeroDivisionError,\n",
       "  'SystemError': SystemError,\n",
       "  'ReferenceError': ReferenceError,\n",
       "  'MemoryError': MemoryError,\n",
       "  'BufferError': BufferError,\n",
       "  'Warning': Warning,\n",
       "  'UserWarning': UserWarning,\n",
       "  'DeprecationWarning': DeprecationWarning,\n",
       "  'PendingDeprecationWarning': PendingDeprecationWarning,\n",
       "  'SyntaxWarning': SyntaxWarning,\n",
       "  'RuntimeWarning': RuntimeWarning,\n",
       "  'FutureWarning': FutureWarning,\n",
       "  'ImportWarning': ImportWarning,\n",
       "  'UnicodeWarning': UnicodeWarning,\n",
       "  'BytesWarning': BytesWarning,\n",
       "  'ResourceWarning': ResourceWarning,\n",
       "  'ConnectionError': ConnectionError,\n",
       "  'BlockingIOError': BlockingIOError,\n",
       "  'BrokenPipeError': BrokenPipeError,\n",
       "  'ChildProcessError': ChildProcessError,\n",
       "  'ConnectionAbortedError': ConnectionAbortedError,\n",
       "  'ConnectionRefusedError': ConnectionRefusedError,\n",
       "  'ConnectionResetError': ConnectionResetError,\n",
       "  'FileExistsError': FileExistsError,\n",
       "  'FileNotFoundError': FileNotFoundError,\n",
       "  'IsADirectoryError': IsADirectoryError,\n",
       "  'NotADirectoryError': NotADirectoryError,\n",
       "  'InterruptedError': InterruptedError,\n",
       "  'PermissionError': PermissionError,\n",
       "  'ProcessLookupError': ProcessLookupError,\n",
       "  'TimeoutError': TimeoutError,\n",
       "  'open': <function io.open(file, mode='r', buffering=-1, encoding=None, errors=None, newline=None, closefd=True, opener=None)>,\n",
       "  'copyright': Copyright (c) 2001-2020 Python Software Foundation.\n",
       "  All Rights Reserved.\n",
       "  \n",
       "  Copyright (c) 2000 BeOpen.com.\n",
       "  All Rights Reserved.\n",
       "  \n",
       "  Copyright (c) 1995-2001 Corporation for National Research Initiatives.\n",
       "  All Rights Reserved.\n",
       "  \n",
       "  Copyright (c) 1991-1995 Stichting Mathematisch Centrum, Amsterdam.\n",
       "  All Rights Reserved.,\n",
       "  'credits':     Thanks to CWI, CNRI, BeOpen.com, Zope Corporation and a cast of thousands\n",
       "      for supporting Python development.  See www.python.org for more information.,\n",
       "  'license': Type license() to see the full license text,\n",
       "  'help': Type help() for interactive help, or help(object) for help about object.,\n",
       "  '__IPYTHON__': True,\n",
       "  'display': <function IPython.core.display.display(*objs, include=None, exclude=None, metadata=None, transient=None, display_id=None, **kwargs)>,\n",
       "  'execfile': <function _pydev_imps._pydev_execfile.execfile(file, glob=None, loc=None)>,\n",
       "  'runfile': <function _pydev_bundle.pydev_umd.runfile(filename, args=None, wdir=None, namespace=None)>,\n",
       "  'get_ipython': <bound method InteractiveShell.get_ipython of <ipykernel.zmqshell.ZMQInteractiveShell object at 0x7f5fc234f4f0>>},\n",
       " 'Decimal': decimal.Decimal,\n",
       " 'math': <module 'math' (built-in)>,\n",
       " 'numbers': <module 'numbers' from '/usr/lib/python3.8/numbers.py'>,\n",
       " 'operator': <module 'operator' from '/usr/lib/python3.8/operator.py'>,\n",
       " 're': <module 're' from '/usr/lib/python3.8/re.py'>,\n",
       " 'sys': <module 'sys' (built-in)>,\n",
       " '__all__': ['Fraction', 'gcd'],\n",
       " 'gcd': <function fractions.gcd(a, b)>,\n",
       " '_gcd': <function fractions._gcd(a, b)>,\n",
       " '_PyHASH_MODULUS': 2305843009213693951,\n",
       " '_PyHASH_INF': 314159,\n",
       " '_RATIONAL_FORMAT': re.compile(r'\\n    \\A\\s*                      # optional whitespace at the start, then\\n    (?P<sign>[-+]?)            # an optional sign, then\\n    (?=\\d|\\.\\d)                # lookahead for digit or .digit\\n    (?P<num>\\d*)               # numerator (possibly empty)\\n    (?:                        # followed by\\n       (?:/(?P<denom>\\d+))?    # an optional denominator\\n    |                          # or\\n       (?:\\.(?P<decimal>\\d*))? # an optional fractional part\\n       (?:E(?P<exp>[-+]?\\d+))? # and optional exponent\\n    )\\n    \\s*\\Z                      # and optional whitespace to finish\\n',\n",
       " re.IGNORECASE|re.UNICODE|re.VERBOSE),\n",
       " 'Fraction': fractions.Fraction}"
      ]
     },
     "metadata": {},
     "execution_count": 42
    }
   ],
   "source": [
    "fractions.__dict__"
   ]
  },
  {
   "cell_type": "code",
   "execution_count": 43,
   "metadata": {},
   "outputs": [
    {
     "output_type": "execute_result",
     "data": {
      "text/plain": [
       "True"
      ]
     },
     "metadata": {},
     "execution_count": 43
    }
   ],
   "source": [
    "import types\n",
    "\n",
    "isinstance(fractions, types.ModuleType)"
   ]
  },
  {
   "cell_type": "code",
   "execution_count": 44,
   "metadata": {},
   "outputs": [
    {
     "output_type": "execute_result",
     "data": {
      "text/plain": [
       "True"
      ]
     },
     "metadata": {},
     "execution_count": 44
    }
   ],
   "source": [
    "isinstance(math, types.ModuleType)"
   ]
  },
  {
   "cell_type": "code",
   "execution_count": 45,
   "metadata": {},
   "outputs": [
    {
     "output_type": "execute_result",
     "data": {
      "text/plain": [
       "True"
      ]
     },
     "metadata": {},
     "execution_count": 45
    }
   ],
   "source": [
    "mod = types.ModuleType('test', 'This is a test module')\n",
    "isinstance(mod, types.ModuleType)"
   ]
  },
  {
   "cell_type": "code",
   "execution_count": 46,
   "metadata": {},
   "outputs": [
    {
     "output_type": "execute_result",
     "data": {
      "text/plain": [
       "{'__name__': 'test',\n",
       " '__doc__': 'This is a test module',\n",
       " '__package__': None,\n",
       " '__loader__': None,\n",
       " '__spec__': None}"
      ]
     },
     "metadata": {},
     "execution_count": 46
    }
   ],
   "source": [
    "mod.__dict__"
   ]
  },
  {
   "cell_type": "code",
   "execution_count": 49,
   "metadata": {},
   "outputs": [
    {
     "output_type": "execute_result",
     "data": {
      "text/plain": [
       "{'__name__': 'test',\n",
       " '__doc__': 'This is a test module',\n",
       " '__package__': None,\n",
       " '__loader__': None,\n",
       " '__spec__': None,\n",
       " 'pi': 3.14,\n",
       " 'hello': <function __main__.<lambda>()>}"
      ]
     },
     "metadata": {},
     "execution_count": 49
    }
   ],
   "source": [
    "mod.pi = 3.14\n",
    "mod.hello = lambda: 'hello'\n",
    "mod.__dict__"
   ]
  },
  {
   "cell_type": "code",
   "execution_count": 50,
   "metadata": {},
   "outputs": [
    {
     "output_type": "execute_result",
     "data": {
      "text/plain": [
       "'hello'"
      ]
     },
     "metadata": {},
     "execution_count": 50
    }
   ],
   "source": [
    "mod.hello()"
   ]
  },
  {
   "cell_type": "code",
   "execution_count": 52,
   "metadata": {},
   "outputs": [
    {
     "output_type": "execute_result",
     "data": {
      "text/plain": [
       "True"
      ]
     },
     "metadata": {},
     "execution_count": 52
    }
   ],
   "source": [
    "'mod' in globals()"
   ]
  },
  {
   "cell_type": "code",
   "execution_count": 53,
   "metadata": {},
   "outputs": [
    {
     "output_type": "execute_result",
     "data": {
      "text/plain": [
       "3.14"
      ]
     },
     "metadata": {},
     "execution_count": 53
    }
   ],
   "source": [
    "getattr(mod, 'pi')"
   ]
  },
  {
   "cell_type": "code",
   "execution_count": null,
   "metadata": {},
   "outputs": [],
   "source": []
  }
 ]
}