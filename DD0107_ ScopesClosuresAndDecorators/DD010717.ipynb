{
 "metadata": {
  "language_info": {
   "codemirror_mode": {
    "name": "ipython",
    "version": 3
   },
   "file_extension": ".py",
   "mimetype": "text/x-python",
   "name": "python",
   "nbconvert_exporter": "python",
   "pygments_lexer": "ipython3",
   "version": "3.8.5-final"
  },
  "orig_nbformat": 2,
  "kernelspec": {
   "name": "python38564bitvenv685895132c6e409a9666b1e6214abe6f",
   "display_name": "Python 3.8.5 64-bit ('venv')",
   "language": "python"
  }
 },
 "nbformat": 4,
 "nbformat_minor": 2,
 "cells": [
  {
   "cell_type": "code",
   "execution_count": 1,
   "metadata": {},
   "outputs": [],
   "source": [
    "def my_dec(a, b):\n",
    "    def dec(fn):\n",
    "        def inner(*args, **kwargs):\n",
    "            print('decorated function called a={0}, b={1}'.format(a, b))\n",
    "            return fn(*args, **kwargs)\n",
    "\n",
    "        return inner\n",
    "    return dec"
   ]
  },
  {
   "cell_type": "code",
   "execution_count": 2,
   "metadata": {},
   "outputs": [
    {
     "output_type": "stream",
     "name": "stdout",
     "text": [
      "decorated function called a=10, b=30\nhello, erfan\n"
     ]
    }
   ],
   "source": [
    "@my_dec(10, 30)\n",
    "def my_func1(s):\n",
    "    print('hello, {0}'.format(s))\n",
    "\n",
    "my_func1(\"erfan\")"
   ]
  },
  {
   "cell_type": "code",
   "execution_count": 6,
   "metadata": {},
   "outputs": [
    {
     "output_type": "stream",
     "name": "stdout",
     "text": [
      "called a=1 b=2 c=3\n"
     ]
    }
   ],
   "source": [
    "class MyClass:\n",
    "    def __init__(self, a, b):\n",
    "        self.a = a\n",
    "        self.b = b\n",
    "    \n",
    "    def __call__(self,  c):\n",
    "        print('called a={0} b={1} c={2}'.format(self.a, self.b, c))\n",
    "\n",
    "obj = MyClass(1,2)\n",
    "obj(3)"
   ]
  },
  {
   "cell_type": "code",
   "execution_count": 7,
   "metadata": {},
   "outputs": [
    {
     "output_type": "execute_result",
     "data": {
      "text/plain": [
       "<__main__.MyClass at 0x7f0661789550>"
      ]
     },
     "metadata": {},
     "execution_count": 7
    }
   ],
   "source": [
    "obj"
   ]
  },
  {
   "cell_type": "code",
   "execution_count": 9,
   "metadata": {},
   "outputs": [
    {
     "output_type": "stream",
     "name": "stdout",
     "text": [
      "called a=1 b=2\nrunning my_func\n"
     ]
    }
   ],
   "source": [
    "class MyClass:\n",
    "    def __init__(self, a, b):\n",
    "        self.a = a\n",
    "        self.b = b\n",
    "    \n",
    "    def __call__(self,  fn):\n",
    "        def inner(*args, **kwargs):\n",
    "            print('called a={0} b={1}'.format(self.a, self.b))\n",
    "            return fn(*args, **kwargs)\n",
    "        return inner\n",
    "\n",
    "@MyClass(1,2)\n",
    "def my_func():\n",
    "    print('running my_func')\n",
    "\n",
    "my_func()"
   ]
  },
  {
   "cell_type": "code",
   "execution_count": null,
   "metadata": {},
   "outputs": [],
   "source": []
  }
 ]
}