{
 "metadata": {
  "language_info": {
   "codemirror_mode": {
    "name": "ipython",
    "version": 3
   },
   "file_extension": ".py",
   "mimetype": "text/x-python",
   "name": "python",
   "nbconvert_exporter": "python",
   "pygments_lexer": "ipython3",
   "version": "3.8.5-final"
  },
  "orig_nbformat": 2,
  "kernelspec": {
   "name": "python38564bitvenvvenv29795fd3ebc6467f927a688fb305efe1",
   "display_name": "Python 3.8.5 64-bit ('venv': venv)",
   "language": "python"
  }
 },
 "nbformat": 4,
 "nbformat_minor": 2,
 "cells": [
  {
   "cell_type": "code",
   "execution_count": 4,
   "metadata": {},
   "outputs": [],
   "source": [
    "def logged(fn):\n",
    "    from functools import wraps\n",
    "    from datetime import timezone, datetime\n",
    "\n",
    "\n",
    "    @wraps(fn)\n",
    "    def inner(*args, **kwargs):\n",
    "        run_dt = datetime.now(timezone.utc)\n",
    "        result = fn(*args, **kwargs)\n",
    "\n",
    "        print('{0} : called {1}'.format(fn.__name__, run_dt))\n",
    "\n",
    "        return result\n",
    "\n",
    "    return inner\n"
   ]
  },
  {
   "cell_type": "code",
   "execution_count": 5,
   "metadata": {},
   "outputs": [
    {
     "output_type": "stream",
     "name": "stdout",
     "text": [
      "func1 : called 2021-03-28 19:33:18.489279+00:00\nfunc2 : called 2021-03-28 19:33:18.489804+00:00\n"
     ]
    }
   ],
   "source": [
    "@logged\n",
    "def func1():\n",
    "    pass\n",
    "\n",
    "@logged\n",
    "def func2():\n",
    "    pass\n",
    "\n",
    "func1()\n",
    "func2()"
   ]
  },
  {
   "cell_type": "code",
   "execution_count": 6,
   "metadata": {},
   "outputs": [],
   "source": [
    "def timed(fn):\n",
    "    from functools import wraps\n",
    "    from time import perf_counter\n",
    "\n",
    "\n",
    "    @wraps(fn)\n",
    "    def inner(*args, **kwargs):\n",
    "        start = perf_counter()\n",
    "        result = fn(*args, **kwargs)\n",
    "        end = perf_counter()\n",
    "\n",
    "        print('{0} : called {1}'.format(fn.__name__, end-start))\n",
    "\n",
    "        return result\n",
    "\n",
    "    return inner"
   ]
  },
  {
   "cell_type": "code",
   "execution_count": 21,
   "metadata": {},
   "outputs": [
    {
     "output_type": "stream",
     "name": "stdout",
     "text": [
      "fact : called 1.6794001567177474e-05\nfact : called 2021-03-28 19:39:33.580548+00:00\n"
     ]
    },
    {
     "output_type": "execute_result",
     "data": {
      "text/plain": [
       "265252859812191058636308480000000"
      ]
     },
     "metadata": {},
     "execution_count": 21
    }
   ],
   "source": [
    "@logged\n",
    "@timed\n",
    "def fact(n):\n",
    "    from operator import mul\n",
    "    from functools import reduce\n",
    "\n",
    "    return reduce(mul, range(1,n+1))\n",
    "\n",
    "fact(30)"
   ]
  },
  {
   "cell_type": "code",
   "execution_count": 22,
   "metadata": {},
   "outputs": [
    {
     "output_type": "stream",
     "name": "stdout",
     "text": [
      "Help on function fact in module __main__:\n\nfact(n)\n\n"
     ]
    }
   ],
   "source": [
    "help(fact)"
   ]
  },
  {
   "cell_type": "code",
   "execution_count": 20,
   "metadata": {},
   "outputs": [
    {
     "output_type": "stream",
     "name": "stdout",
     "text": [
      "fact : called 1.4555000234395266e-05\nfact : called 2021-03-28 19:39:29.520722+00:00\n"
     ]
    },
    {
     "output_type": "execute_result",
     "data": {
      "text/plain": [
       "2432902008176640000"
      ]
     },
     "metadata": {},
     "execution_count": 20
    }
   ],
   "source": [
    "def fact(n):\n",
    "    from operator import mul\n",
    "    from functools import reduce\n",
    "\n",
    "    return reduce(mul, range(1,n+1))\n",
    "\n",
    "fact = logged(timed(fact))\n",
    "\n",
    "fact(20)"
   ]
  },
  {
   "cell_type": "code",
   "execution_count": 31,
   "metadata": {},
   "outputs": [
    {
     "output_type": "stream",
     "name": "stdout",
     "text": [
      "doc1....\ndoc2....\nfunc1 ...\n"
     ]
    }
   ],
   "source": [
    "def dec1(fn):\n",
    "    def inner(*args, **kwargs):\n",
    "        print('dec1....')\n",
    "        return fn(*args, **kwargs)\n",
    "    return inner\n",
    "\n",
    "def dec2(fn):\n",
    "    def inner(*args, **kwargs):\n",
    "        print('dec2....')\n",
    "        return fn(*args, **kwargs)\n",
    "    return inner\n",
    "\n",
    "@dec1\n",
    "@dec2\n",
    "def func1():\n",
    "    print(\"func1 ...\")\n",
    "\n",
    "\n",
    "func1()"
   ]
  },
  {
   "cell_type": "code",
   "execution_count": 32,
   "metadata": {},
   "outputs": [
    {
     "output_type": "stream",
     "name": "stdout",
     "text": [
      "doc1....\ndoc2....\nfunc1 ...\ninner : called 0.00031680400570621714\ninner : called 2021-03-28 19:53:17.762662+00:00\n"
     ]
    }
   ],
   "source": [
    "@logged\n",
    "@timed\n",
    "@dec1\n",
    "@dec2\n",
    "def func1():\n",
    "    print(\"func1 ...\")\n",
    "\n",
    "\n",
    "func1()"
   ]
  },
  {
   "cell_type": "code",
   "execution_count": null,
   "metadata": {},
   "outputs": [],
   "source": []
  }
 ]
}