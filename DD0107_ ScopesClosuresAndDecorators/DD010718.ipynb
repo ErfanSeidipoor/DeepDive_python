{
 "metadata": {
  "language_info": {
   "codemirror_mode": {
    "name": "ipython",
    "version": 3
   },
   "file_extension": ".py",
   "mimetype": "text/x-python",
   "name": "python",
   "nbconvert_exporter": "python",
   "pygments_lexer": "ipython3",
   "version": "3.8.5-final"
  },
  "orig_nbformat": 2,
  "kernelspec": {
   "name": "python38564bitvenv685895132c6e409a9666b1e6214abe6f",
   "display_name": "Python 3.8.5 64-bit ('venv')",
   "language": "python"
  }
 },
 "nbformat": 4,
 "nbformat_minor": 2,
 "cells": [
  {
   "cell_type": "code",
   "execution_count": 3,
   "metadata": {},
   "outputs": [],
   "source": [
    "from fractions import Fraction"
   ]
  },
  {
   "cell_type": "code",
   "execution_count": 4,
   "metadata": {},
   "outputs": [],
   "source": [
    "F = Fraction(2,3)"
   ]
  },
  {
   "cell_type": "code",
   "execution_count": 6,
   "metadata": {},
   "outputs": [
    {
     "output_type": "execute_result",
     "data": {
      "text/plain": [
       "3"
      ]
     },
     "metadata": {},
     "execution_count": 6
    }
   ],
   "source": [
    "F.denominator"
   ]
  },
  {
   "cell_type": "code",
   "execution_count": 7,
   "metadata": {},
   "outputs": [
    {
     "output_type": "execute_result",
     "data": {
      "text/plain": [
       "2"
      ]
     },
     "metadata": {},
     "execution_count": 7
    }
   ],
   "source": [
    "F.numerator"
   ]
  },
  {
   "cell_type": "code",
   "execution_count": 8,
   "metadata": {},
   "outputs": [
    {
     "output_type": "error",
     "ename": "AttributeError",
     "evalue": "'Fraction' object has no attribute 'speak'",
     "traceback": [
      "\u001b[0;31m---------------------------------------------------------------------------\u001b[0m",
      "\u001b[0;31mAttributeError\u001b[0m                            Traceback (most recent call last)",
      "\u001b[0;32m<ipython-input-8-46bad9b8cff7>\u001b[0m in \u001b[0;36m<module>\u001b[0;34m\u001b[0m\n\u001b[0;32m----> 1\u001b[0;31m \u001b[0mF\u001b[0m\u001b[0;34m.\u001b[0m\u001b[0mspeak\u001b[0m\u001b[0;34m(\u001b[0m\u001b[0;34m)\u001b[0m\u001b[0;34m\u001b[0m\u001b[0;34m\u001b[0m\u001b[0m\n\u001b[0m",
      "\u001b[0;31mAttributeError\u001b[0m: 'Fraction' object has no attribute 'speak'"
     ]
    }
   ],
   "source": [
    "F.speak()"
   ]
  },
  {
   "cell_type": "code",
   "execution_count": 9,
   "metadata": {},
   "outputs": [],
   "source": [
    "Fraction.speak = 100"
   ]
  },
  {
   "cell_type": "code",
   "execution_count": 11,
   "metadata": {},
   "outputs": [
    {
     "output_type": "execute_result",
     "data": {
      "text/plain": [
       "100"
      ]
     },
     "metadata": {},
     "execution_count": 11
    }
   ],
   "source": [
    "F.speak "
   ]
  },
  {
   "cell_type": "code",
   "execution_count": 12,
   "metadata": {},
   "outputs": [],
   "source": [
    "Fraction.speak = lambda self, message: 'Fraction says: {0}'.format(message)"
   ]
  },
  {
   "cell_type": "code",
   "execution_count": 13,
   "metadata": {},
   "outputs": [
    {
     "output_type": "execute_result",
     "data": {
      "text/plain": [
       "'Fraction says: Hi, erfan'"
      ]
     },
     "metadata": {},
     "execution_count": 13
    }
   ],
   "source": [
    "F.speak(\"Hi, erfan\")"
   ]
  },
  {
   "cell_type": "code",
   "execution_count": 14,
   "metadata": {},
   "outputs": [],
   "source": [
    "Fraction.is_integral = lambda self: self.denominator == 1"
   ]
  },
  {
   "cell_type": "code",
   "execution_count": 18,
   "metadata": {},
   "outputs": [
    {
     "output_type": "execute_result",
     "data": {
      "text/plain": [
       "(True, False)"
      ]
     },
     "metadata": {},
     "execution_count": 18
    }
   ],
   "source": [
    "F1 = Fraction(2,1)\n",
    "F2 = Fraction(2,3)\n",
    "\n",
    "F1.is_integral(), F2.is_integral() "
   ]
  },
  {
   "cell_type": "code",
   "execution_count": 22,
   "metadata": {},
   "outputs": [
    {
     "output_type": "execute_result",
     "data": {
      "text/plain": [
       "\"<class 'fractions.Fraction'> says Hi erfan\""
      ]
     },
     "metadata": {},
     "execution_count": 22
    }
   ],
   "source": [
    "def dec_speak(cls):\n",
    "\n",
    "    cls.speak = lambda self,message: '{0} says {1}'.format(self.__class__, message)\n",
    "    return cls\n",
    "\n",
    "Fraction_ = dec_speak(Fraction)\n",
    "\n",
    "F_ = Fraction_(1, 2)\n",
    "F_.speak(\"Hi erfan\")"
   ]
  },
  {
   "cell_type": "code",
   "execution_count": 23,
   "metadata": {},
   "outputs": [
    {
     "output_type": "execute_result",
     "data": {
      "text/plain": [
       "\"<class '__main__.Person'> says Hi erfan\""
      ]
     },
     "metadata": {},
     "execution_count": 23
    }
   ],
   "source": [
    "class Person:\n",
    "    pass\n",
    "\n",
    "Person_ = dec_speak(Person)\n",
    "\n",
    "P_ = Person_()\n",
    "P_.speak(\"Hi erfan\")\n"
   ]
  },
  {
   "cell_type": "code",
   "execution_count": 44,
   "metadata": {},
   "outputs": [],
   "source": [
    "from datetime import datetime,timezone\n",
    "def info(self):\n",
    "    result =[]\n",
    "    result.append('time: {0}'.format(datetime.now(timezone.utc)))\n",
    "    result.append('class: {0}'.format(self.__class__.__name__))\n",
    "    result.append('id: {0}'.format(hex(id(self))))\n",
    "\n",
    "    for (k,v) in vars(self).items():\n",
    "        result.append('{0}: {1}'.format(k, v))\n",
    "\n",
    "    return result\n",
    "\n",
    "\n",
    "def debug_info(cls):\n",
    "    cls.debug = info\n",
    "    return cls\n"
   ]
  },
  {
   "cell_type": "code",
   "execution_count": 45,
   "metadata": {},
   "outputs": [],
   "source": [
    "class Person:\n",
    "    def __init__(self, name, birth_year):\n",
    "        self.name = name\n",
    "        self.birth_year = birth_year\n",
    "\n",
    "    def say_hi():\n",
    "        return 'Hello there'\n"
   ]
  },
  {
   "cell_type": "code",
   "execution_count": 46,
   "metadata": {},
   "outputs": [
    {
     "output_type": "execute_result",
     "data": {
      "text/plain": [
       "['time: 2021-03-29 09:59:11.492739+00:00',\n",
       " 'class: Person',\n",
       " 'id: 0x7fd97e943820',\n",
       " 'name: erfan',\n",
       " 'birth_year: 1992']"
      ]
     },
     "metadata": {},
     "execution_count": 46
    }
   ],
   "source": [
    "Person = debug_info(Person)\n",
    "p = Person('erfan', '1992')\n",
    "p.debug()"
   ]
  },
  {
   "cell_type": "code",
   "execution_count": 39,
   "metadata": {},
   "outputs": [
    {
     "output_type": "execute_result",
     "data": {
      "text/plain": [
       "'Person'"
      ]
     },
     "metadata": {},
     "execution_count": 39
    }
   ],
   "source": [
    "p.__class__.__name__"
   ]
  },
  {
   "cell_type": "code",
   "execution_count": 47,
   "metadata": {},
   "outputs": [
    {
     "output_type": "execute_result",
     "data": {
      "text/plain": [
       "['time: 2021-03-29 10:00:42.667487+00:00',\n",
       " 'class: Person',\n",
       " 'id: 0x7fd97e56d520',\n",
       " 'name: erfan',\n",
       " 'birth_year: 1992']"
      ]
     },
     "metadata": {},
     "execution_count": 47
    }
   ],
   "source": [
    "@debug_info\n",
    "class Person:\n",
    "    def __init__(self, name, birth_year):\n",
    "        self.name = name\n",
    "        self.birth_year = birth_year\n",
    "\n",
    "    def say_hi():\n",
    "        return 'Hello there'\n",
    "\n",
    "p = Person('erfan', '1992')\n",
    "p.debug()"
   ]
  },
  {
   "cell_type": "code",
   "execution_count": 55,
   "metadata": {},
   "outputs": [],
   "source": [
    "@debug_info\n",
    "class Automobile:\n",
    "    def __init__(self, make, model, year, top_speed):\n",
    "        self.make = make\n",
    "        self.model = model\n",
    "        self.year = year\n",
    "        self.top_speed = top_speed\n",
    "        self._speed = 0\n",
    "    \n",
    "    @property\n",
    "    def speed(self):\n",
    "        return self._speed\n",
    "\n",
    "    @speed.setter\n",
    "    def speed(self, new_speed):\n",
    "        if new_speed > self.top_speed:\n",
    "            raise ValueError('Speed cannot raise top speed ({0})'.format(self.top_speed))\n",
    "        else:\n",
    "            self._speed = new_speed"
   ]
  },
  {
   "cell_type": "code",
   "execution_count": 56,
   "metadata": {},
   "outputs": [],
   "source": [
    "favorite = Automobile('Ford', 'Model T', 1992, 45)"
   ]
  },
  {
   "cell_type": "code",
   "execution_count": 57,
   "metadata": {},
   "outputs": [
    {
     "output_type": "execute_result",
     "data": {
      "text/plain": [
       "['time: 2021-03-29 10:14:51.365726+00:00',\n",
       " 'class: Automobile',\n",
       " 'id: 0x7fd97f9bcd90',\n",
       " 'make: Ford',\n",
       " 'model: Model T',\n",
       " 'year: 1992',\n",
       " 'top_speed: 45',\n",
       " '_speed: 0']"
      ]
     },
     "metadata": {},
     "execution_count": 57
    }
   ],
   "source": [
    "favorite.debug()"
   ]
  },
  {
   "cell_type": "code",
   "execution_count": 58,
   "metadata": {},
   "outputs": [
    {
     "output_type": "error",
     "ename": "ValueError",
     "evalue": "Speed cannot raise top speed (45)",
     "traceback": [
      "\u001b[0;31m---------------------------------------------------------------------------\u001b[0m",
      "\u001b[0;31mValueError\u001b[0m                                Traceback (most recent call last)",
      "\u001b[0;32m<ipython-input-58-86068752f404>\u001b[0m in \u001b[0;36m<module>\u001b[0;34m\u001b[0m\n\u001b[0;32m----> 1\u001b[0;31m \u001b[0mfavorite\u001b[0m\u001b[0;34m.\u001b[0m\u001b[0mspeed\u001b[0m \u001b[0;34m=\u001b[0m \u001b[0;36m1000\u001b[0m\u001b[0;34m\u001b[0m\u001b[0;34m\u001b[0m\u001b[0m\n\u001b[0m",
      "\u001b[0;32m<ipython-input-55-c54cc5185529>\u001b[0m in \u001b[0;36mspeed\u001b[0;34m(self, new_speed)\u001b[0m\n\u001b[1;32m     15\u001b[0m     \u001b[0;32mdef\u001b[0m \u001b[0mspeed\u001b[0m\u001b[0;34m(\u001b[0m\u001b[0mself\u001b[0m\u001b[0;34m,\u001b[0m \u001b[0mnew_speed\u001b[0m\u001b[0;34m)\u001b[0m\u001b[0;34m:\u001b[0m\u001b[0;34m\u001b[0m\u001b[0;34m\u001b[0m\u001b[0m\n\u001b[1;32m     16\u001b[0m         \u001b[0;32mif\u001b[0m \u001b[0mnew_speed\u001b[0m \u001b[0;34m>\u001b[0m \u001b[0mself\u001b[0m\u001b[0;34m.\u001b[0m\u001b[0mtop_speed\u001b[0m\u001b[0;34m:\u001b[0m\u001b[0;34m\u001b[0m\u001b[0;34m\u001b[0m\u001b[0m\n\u001b[0;32m---> 17\u001b[0;31m             \u001b[0;32mraise\u001b[0m \u001b[0mValueError\u001b[0m\u001b[0;34m(\u001b[0m\u001b[0;34m'Speed cannot raise top speed ({0})'\u001b[0m\u001b[0;34m.\u001b[0m\u001b[0mformat\u001b[0m\u001b[0;34m(\u001b[0m\u001b[0mself\u001b[0m\u001b[0;34m.\u001b[0m\u001b[0mtop_speed\u001b[0m\u001b[0;34m)\u001b[0m\u001b[0;34m)\u001b[0m\u001b[0;34m\u001b[0m\u001b[0;34m\u001b[0m\u001b[0m\n\u001b[0m\u001b[1;32m     18\u001b[0m         \u001b[0;32melse\u001b[0m\u001b[0;34m:\u001b[0m\u001b[0;34m\u001b[0m\u001b[0;34m\u001b[0m\u001b[0m\n\u001b[1;32m     19\u001b[0m             \u001b[0mself\u001b[0m\u001b[0;34m.\u001b[0m\u001b[0m_speed\u001b[0m \u001b[0;34m=\u001b[0m \u001b[0mnew_speed\u001b[0m\u001b[0;34m\u001b[0m\u001b[0;34m\u001b[0m\u001b[0m\n",
      "\u001b[0;31mValueError\u001b[0m: Speed cannot raise top speed (45)"
     ]
    }
   ],
   "source": [
    "favorite.speed = 1000"
   ]
  },
  {
   "cell_type": "code",
   "execution_count": 59,
   "metadata": {},
   "outputs": [
    {
     "output_type": "execute_result",
     "data": {
      "text/plain": [
       "['time: 2021-03-29 10:15:21.137632+00:00',\n",
       " 'class: Automobile',\n",
       " 'id: 0x7fd97f9bcd90',\n",
       " 'make: Ford',\n",
       " 'model: Model T',\n",
       " 'year: 1992',\n",
       " 'top_speed: 45',\n",
       " '_speed: 30']"
      ]
     },
     "metadata": {},
     "execution_count": 59
    }
   ],
   "source": [
    "favorite.speed = 30\n",
    "favorite.debug()"
   ]
  },
  {
   "cell_type": "code",
   "execution_count": 71,
   "metadata": {},
   "outputs": [
    {
     "output_type": "execute_result",
     "data": {
      "text/plain": [
       "(3.605551275463989, Point(2,3))"
      ]
     },
     "metadata": {},
     "execution_count": 71
    }
   ],
   "source": [
    "from math import sqrt\n",
    "\n",
    "class Point:\n",
    "    def __init__(self, x, y):\n",
    "        self.x = x\n",
    "        self.y = y\n",
    "    \n",
    "    def __abs__(self):\n",
    "        return sqrt( self.x**2 + self.y**2 )\n",
    "    \n",
    "    def __repr__(self):\n",
    "        return 'Point({0},{1})'.format(self.x, self.y)\n",
    "\n",
    "    def __eq__(self, other):\n",
    "        if isinstance(other, Point):\n",
    "            return self.x == other.x and self.y==other.y\n",
    "        return False\n",
    "    \n",
    "    def __lt__(self, other):\n",
    "               if isinstance(other, Point):\n",
    "            return abs(self) < abs(other)\n",
    "        return NotImplemented \n",
    "\n",
    "p1, p2, p3 = Point(2, 3), Point(2, 3), Point(0, 0)\n",
    "\n",
    "abs(p1), p1"
   ]
  },
  {
   "cell_type": "code",
   "execution_count": 72,
   "metadata": {},
   "outputs": [
    {
     "output_type": "execute_result",
     "data": {
      "text/plain": [
       "True"
      ]
     },
     "metadata": {},
     "execution_count": 72
    }
   ],
   "source": [
    "p1 == p2"
   ]
  },
  {
   "cell_type": "code",
   "execution_count": null,
   "metadata": {},
   "outputs": [],
   "source": []
  }
 ]
}