{
 "metadata": {
  "language_info": {
   "codemirror_mode": {
    "name": "ipython",
    "version": 3
   },
   "file_extension": ".py",
   "mimetype": "text/x-python",
   "name": "python",
   "nbconvert_exporter": "python",
   "pygments_lexer": "ipython3",
   "version": "3.8.5-final"
  },
  "orig_nbformat": 2,
  "kernelspec": {
   "name": "python38564bitvenv685895132c6e409a9666b1e6214abe6f",
   "display_name": "Python 3.8.5 64-bit ('venv')",
   "language": "python"
  }
 },
 "nbformat": 4,
 "nbformat_minor": 2,
 "cells": [
  {
   "cell_type": "code",
   "execution_count": 1,
   "metadata": {},
   "outputs": [],
   "source": [
    "from html import escape"
   ]
  },
  {
   "cell_type": "code",
   "execution_count": 57,
   "metadata": {},
   "outputs": [],
   "source": [
    "def singleDispatch(fn):\n",
    "    registry = {}\n",
    "\n",
    "    registry[object] = fn\n",
    "\n",
    "    def inner(arg):\n",
    "        return registry.get(type(arg), registry[object])(arg)\n",
    "    \n",
    "    \n",
    "    def register(type):\n",
    "        def inner(fn):\n",
    "            registry[type] = fn\n",
    "            return fn\n",
    "        return inner\n",
    "\n",
    "    inner.registry = registry\n",
    "\n",
    "    def dispatch(type_):\n",
    "        return registry.get(type_, registry[object])\n",
    "\n",
    "    inner.register = register\n",
    "    inner.dispatch = dispatch\n",
    "    return inner"
   ]
  },
  {
   "cell_type": "code",
   "execution_count": 58,
   "metadata": {},
   "outputs": [],
   "source": [
    "@singleDispatch\n",
    "def htmllize(a):\n",
    "    return escape(str(a))"
   ]
  },
  {
   "cell_type": "code",
   "execution_count": 59,
   "metadata": {},
   "outputs": [],
   "source": [
    "@htmllize.register(int)\n",
    "def htmlize_int(a):\n",
    "    return '{0}(<i>{1}</i>)'.format(a, str(hex(a)))"
   ]
  },
  {
   "cell_type": "code",
   "execution_count": 60,
   "metadata": {},
   "outputs": [
    {
     "output_type": "execute_result",
     "data": {
      "text/plain": [
       "'110(<i>0x6e</i>)'"
      ]
     },
     "metadata": {},
     "execution_count": 60
    }
   ],
   "source": [
    "htmllize(110)"
   ]
  },
  {
   "cell_type": "code",
   "execution_count": 61,
   "metadata": {},
   "outputs": [],
   "source": [
    "@htmllize.register(list)\n",
    "def htmlize_sequence(list_):\n",
    "    items = ['<li>{0}</li>'.format(htmllize(item)) for item in  list_]\n",
    "    return '<ul>\\n' + '\\n'.join(items) + '\\n</ul>'\n",
    "\n",
    "@htmllize.register(tuple)\n",
    "def htmlize_sequence(list_):\n",
    "    items = ['<li>{0}</li>'.format(htmllize(item)) for item in  list_]\n",
    "    return '<ul>\\n' + '\\n'.join(items) + '\\n</ul>'"
   ]
  },
  {
   "cell_type": "code",
   "execution_count": 62,
   "metadata": {},
   "outputs": [
    {
     "output_type": "stream",
     "name": "stdout",
     "text": [
      "<ul>\n<li>erfan</li>\n<li>amin</li>\n<li>alireza</li>\n</ul>\n<ul>\n<li>erfan</li>\n<li>amin</li>\n<li>alireza</li>\n</ul>\n"
     ]
    }
   ],
   "source": [
    "print(htmllize(['erfan', 'amin', 'alireza']))\n",
    "print(htmllize(('erfan', 'amin', 'alireza')))"
   ]
  },
  {
   "cell_type": "code",
   "execution_count": 63,
   "metadata": {},
   "outputs": [
    {
     "output_type": "execute_result",
     "data": {
      "text/plain": [
       "{object: <function __main__.htmllize(a)>,\n",
       " int: <function __main__.htmlize_int(a)>,\n",
       " list: <function __main__.htmlize_sequence(list_)>,\n",
       " tuple: <function __main__.htmlize_sequence(list_)>}"
      ]
     },
     "metadata": {},
     "execution_count": 63
    }
   ],
   "source": [
    "htmllize.registry"
   ]
  },
  {
   "cell_type": "code",
   "execution_count": 67,
   "metadata": {},
   "outputs": [
    {
     "output_type": "execute_result",
     "data": {
      "text/plain": [
       "'123(<i>0x7b</i>)'"
      ]
     },
     "metadata": {},
     "execution_count": 67
    }
   ],
   "source": [
    "htmllize.dispatch(int)(123)"
   ]
  },
  {
   "cell_type": "code",
   "execution_count": 69,
   "metadata": {},
   "outputs": [
    {
     "output_type": "execute_result",
     "data": {
      "text/plain": [
       "(__main__.Student, True, True)"
      ]
     },
     "metadata": {},
     "execution_count": 69
    }
   ],
   "source": [
    "class Person:\n",
    "    pass\n",
    "\n",
    "class Student(Person):\n",
    "    pass\n",
    "\n",
    "p = Student()\n",
    "\n",
    "type(p), isinstance(p, Student), isinstance(p, Person)"
   ]
  },
  {
   "cell_type": "code",
   "execution_count": 71,
   "metadata": {},
   "outputs": [],
   "source": [
    "from functools import singledispatch\n",
    "\n",
    "@singledispatch\n",
    "def htmlize(a):\n",
    "    return escape(str(a))"
   ]
  },
  {
   "cell_type": "code",
   "execution_count": 72,
   "metadata": {},
   "outputs": [
    {
     "output_type": "execute_result",
     "data": {
      "text/plain": [
       "<function __main__.htmlize(a)>"
      ]
     },
     "metadata": {},
     "execution_count": 72
    }
   ],
   "source": [
    "htmlize.dispatch(int)"
   ]
  },
  {
   "cell_type": "code",
   "execution_count": null,
   "metadata": {},
   "outputs": [],
   "source": []
  }
 ]
}