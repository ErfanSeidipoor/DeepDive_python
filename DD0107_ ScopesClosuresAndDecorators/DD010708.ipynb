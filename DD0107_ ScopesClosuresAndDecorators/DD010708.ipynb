{
 "metadata": {
  "language_info": {
   "codemirror_mode": {
    "name": "ipython",
    "version": 3
   },
   "file_extension": ".py",
   "mimetype": "text/x-python",
   "name": "python",
   "nbconvert_exporter": "python",
   "pygments_lexer": "ipython3",
   "version": "3.8.5-final"
  },
  "orig_nbformat": 2,
  "kernelspec": {
   "name": "python38564bitvenvvenv29795fd3ebc6467f927a688fb305efe1",
   "display_name": "Python 3.8.5 64-bit ('venv': venv)",
   "language": "python"
  }
 },
 "nbformat": 4,
 "nbformat_minor": 2,
 "cells": [
  {
   "cell_type": "code",
   "execution_count": 2,
   "metadata": {},
   "outputs": [
    {
     "output_type": "stream",
     "name": "stdout",
     "text": [
      "4.0\n4.5\n5.0\n"
     ]
    }
   ],
   "source": [
    "class Average:\n",
    "    def __init__(self):\n",
    "        self.numbers = []\n",
    "\n",
    "    def add(self, number):\n",
    "        self.numbers.append(number)\n",
    "\n",
    "        total = sum(self.numbers)\n",
    "        count = len(self.numbers)\n",
    "\n",
    "        return total / count\n",
    "\n",
    "a = Average()\n",
    "print(a.add(4))\n",
    "print(a.add(5))\n",
    "print(a.add(6))"
   ]
  },
  {
   "cell_type": "code",
   "execution_count": 10,
   "metadata": {},
   "outputs": [
    {
     "output_type": "stream",
     "name": "stdout",
     "text": [
      "10.0\n10.5\n11.0\n"
     ]
    },
    {
     "output_type": "execute_result",
     "data": {
      "text/plain": [
       "((<cell at 0x7f569f228250: list object at 0x7f569f1ad500>,), ('numbers',))"
      ]
     },
     "metadata": {},
     "execution_count": 10
    }
   ],
   "source": [
    "def avreger():\n",
    "    numbers = []\n",
    "\n",
    "    def add(number):\n",
    "        numbers.append(number)\n",
    "\n",
    "        total = sum(numbers)\n",
    "        count = len(numbers)\n",
    "\n",
    "        return total / count\n",
    "\n",
    "    return add\n",
    "\n",
    "add = avreger()\n",
    "\n",
    "print(add(10))\n",
    "print(add(11))\n",
    "print(add(12))\n",
    "\n",
    "add.__closure__, add.__code__.co_freevars"
   ]
  },
  {
   "cell_type": "code",
   "execution_count": 12,
   "metadata": {},
   "outputs": [
    {
     "output_type": "stream",
     "name": "stdout",
     "text": [
      "100.0\n105.0\n110.0\n"
     ]
    }
   ],
   "source": [
    "add2 = avreger()\n",
    "\n",
    "print(add2(100))\n",
    "print(add2(110))\n",
    "print(add2(120))"
   ]
  },
  {
   "cell_type": "code",
   "execution_count": 14,
   "metadata": {},
   "outputs": [
    {
     "output_type": "stream",
     "name": "stdout",
     "text": [
      "10.0\n10.5\n11.0\n"
     ]
    },
    {
     "output_type": "execute_result",
     "data": {
      "text/plain": [
       "((<cell at 0x7f569f0f1580: int object at 0x954e80>,\n",
       "  <cell at 0x7f569f8c7b20: int object at 0x955240>),\n",
       " ('count', 'total'))"
      ]
     },
     "metadata": {},
     "execution_count": 14
    }
   ],
   "source": [
    "def avreger():\n",
    "    total = 0\n",
    "    count = 0\n",
    "\n",
    "    def add(number):\n",
    "        nonlocal  total\n",
    "        nonlocal count\n",
    "        \n",
    "        total += number\n",
    "        count += 1\n",
    "\n",
    "        return total / count\n",
    "\n",
    "    return add\n",
    "\n",
    "add = avreger()\n",
    "\n",
    "print(add(10))\n",
    "print(add(11))\n",
    "print(add(12))\n",
    "\n",
    "add.__closure__, add.__code__.co_freevars"
   ]
  },
  {
   "cell_type": "code",
   "execution_count": 16,
   "metadata": {},
   "outputs": [
    {
     "output_type": "stream",
     "name": "stdout",
     "text": [
      "4.0\n4.5\n5.0\n"
     ]
    }
   ],
   "source": [
    "class Average:\n",
    "    def __init__(self):\n",
    "        self.total = 0\n",
    "        self.count = 0\n",
    "\n",
    "\n",
    "    def add(self, number):\n",
    "\n",
    "        self.total += number\n",
    "        self.count +=1\n",
    "\n",
    "        return self.total / self.count\n",
    "\n",
    "a = Average()\n",
    "print(a.add(4))\n",
    "print(a.add(5))\n",
    "print(a.add(6))"
   ]
  },
  {
   "cell_type": "code",
   "execution_count": 18,
   "metadata": {},
   "outputs": [],
   "source": [
    "from time import perf_counter\n"
   ]
  },
  {
   "cell_type": "code",
   "execution_count": 25,
   "metadata": {},
   "outputs": [
    {
     "output_type": "execute_result",
     "data": {
      "text/plain": [
       "5.980499918223359e-05"
      ]
     },
     "metadata": {},
     "execution_count": 25
    }
   ],
   "source": [
    "class Timer:\n",
    "    def __init__(self):\n",
    "        self.start = perf_counter()\n",
    "    \n",
    "    def poll(self):\n",
    "        return perf_counter() - self.start\n",
    "\n",
    "    def __call__(self):\n",
    "        return perf_counter() - self.start\n",
    "    \n",
    "timer = Timer()\n",
    "timer()"
   ]
  },
  {
   "cell_type": "code",
   "execution_count": 26,
   "metadata": {},
   "outputs": [
    {
     "output_type": "execute_result",
     "data": {
      "text/plain": [
       "4.029318416000024"
      ]
     },
     "metadata": {},
     "execution_count": 26
    }
   ],
   "source": [
    "timer()"
   ]
  },
  {
   "cell_type": "code",
   "execution_count": 27,
   "metadata": {},
   "outputs": [
    {
     "output_type": "execute_result",
     "data": {
      "text/plain": [
       "3.2618998375255615e-05"
      ]
     },
     "metadata": {},
     "execution_count": 27
    }
   ],
   "source": [
    "def fn_timer():\n",
    "    start = perf_counter()\n",
    "\n",
    "    def poll():\n",
    "        return perf_counter() - start\n",
    "\n",
    "    return poll\n",
    "\n",
    "timer = fn_timer()\n",
    "timer()\n"
   ]
  },
  {
   "cell_type": "code",
   "execution_count": 28,
   "metadata": {},
   "outputs": [
    {
     "output_type": "execute_result",
     "data": {
      "text/plain": [
       "4.44432290199984"
      ]
     },
     "metadata": {},
     "execution_count": 28
    }
   ],
   "source": [
    "timer()"
   ]
  },
  {
   "cell_type": "code",
   "execution_count": null,
   "metadata": {},
   "outputs": [],
   "source": []
  }
 ]
}