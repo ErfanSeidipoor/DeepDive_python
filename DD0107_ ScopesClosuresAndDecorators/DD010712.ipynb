{
 "metadata": {
  "language_info": {
   "codemirror_mode": {
    "name": "ipython",
    "version": 3
   },
   "file_extension": ".py",
   "mimetype": "text/x-python",
   "name": "python",
   "nbconvert_exporter": "python",
   "pygments_lexer": "ipython3",
   "version": "3.8.5-final"
  },
  "orig_nbformat": 2,
  "kernelspec": {
   "name": "python38564bitvenvvenv29795fd3ebc6467f927a688fb305efe1",
   "display_name": "Python 3.8.5 64-bit ('venv': venv)",
   "language": "python"
  }
 },
 "nbformat": 4,
 "nbformat_minor": 2,
 "cells": [
  {
   "cell_type": "code",
   "execution_count": 2,
   "metadata": {},
   "outputs": [],
   "source": [
    "def timed(fn):\n",
    "    from time import perf_counter\n",
    "    from functools import wraps\n",
    "\n",
    "    @wraps(fn)\n",
    "    def inner(*args, **kwargs):\n",
    "        start = perf_counter()\n",
    "        result = fn(*args, **kwargs)\n",
    "        end = perf_counter()\n",
    "\n",
    "        elapsed = end - start\n",
    "\n",
    "        args_ = [str(a) for a in args]\n",
    "        kwargs_ = ['{0}={1}'.format(k, v) for (k,v) in kwargs.items()]\n",
    "        all_args = args_ + kwargs_\n",
    "\n",
    "        args_str = ','.join(all_args)\n",
    "\n",
    "        print('{0}({1}) took {2:.6}s to run.'.format(fn.__name__, args_str, elapsed))\n",
    "\n",
    "        return result\n",
    "    \n",
    "    return inner\n"
   ]
  },
  {
   "cell_type": "code",
   "execution_count": 8,
   "metadata": {},
   "outputs": [
    {
     "output_type": "stream",
     "name": "stdout",
     "text": [
      "calc_recursion_fib(2) took 8.90999e-07s to run.\ncalc_recursion_fib(1) took 7.54e-07s to run.\ncalc_recursion_fib(2) took 1.194e-06s to run.\ncalc_recursion_fib(3) took 0.000573697s to run.\ncalc_recursion_fib(4) took 0.00224509s to run.\ncalc_recursion_fib(1) took 6.15e-07s to run.\ncalc_recursion_fib(2) took 8.81002e-07s to run.\ncalc_recursion_fib(3) took 0.000593759s to run.\ncalc_recursion_fib(2) took 5.55003e-07s to run.\ncalc_recursion_fib(1) took 6.85999e-07s to run.\ncalc_recursion_fib(2) took 5.88007e-07s to run.\ncalc_recursion_fib(3) took 8.2124e-05s to run.\ncalc_recursion_fib(4) took 0.000292295s to run.\ncalc_recursion_fib(5) took 0.00121368s to run.\ncalc_recursion_fib(6) took 0.00377078s to run.\n"
     ]
    },
    {
     "output_type": "execute_result",
     "data": {
      "text/plain": [
       "8"
      ]
     },
     "metadata": {},
     "execution_count": 8
    }
   ],
   "source": [
    "@timed\n",
    "def calc_recursion_fib(n):\n",
    "    if n<=2:\n",
    "        return 1\n",
    "    else:\n",
    "        return calc_recursion_fib(n-2) + calc_recursion_fib(n-1)\n",
    "\n",
    "\n",
    "calc_recursion_fib(6)"
   ]
  },
  {
   "cell_type": "code",
   "execution_count": 7,
   "metadata": {},
   "outputs": [
    {
     "output_type": "stream",
     "name": "stdout",
     "text": [
      "calc_recursion_fib(2) took 5.60001e-07s to run.\ncalc_recursion_fib(1) took 8.59e-07s to run.\ncalc_recursion_fib(3) took 0.000285602s to run.\ncalc_recursion_fib(2) took 5.42997e-07s to run.\ncalc_recursion_fib(4) took 0.000347465s to run.\ncalc_recursion_fib(2) took 5.78999e-07s to run.\ncalc_recursion_fib(1) took 5.62999e-07s to run.\ncalc_recursion_fib(3) took 5.696e-05s to run.\ncalc_recursion_fib(5) took 0.000459813s to run.\ncalc_recursion_fib(2) took 4.07999e-07s to run.\ncalc_recursion_fib(1) took 5.00004e-07s to run.\ncalc_recursion_fib(3) took 5.5124e-05s to run.\ncalc_recursion_fib(2) took 5.00004e-07s to run.\ncalc_recursion_fib(4) took 0.000110748s to run.\ncalc_recursion_fib(6) took 0.000624945s to run.\nfib_recursion(6) took 0.000652948s to run.\n"
     ]
    },
    {
     "output_type": "execute_result",
     "data": {
      "text/plain": [
       "8"
      ]
     },
     "metadata": {},
     "execution_count": 7
    }
   ],
   "source": [
    "@timed\n",
    "def fib_recursion(n):\n",
    "    return calc_recursion_fib(n)\n",
    "\n",
    "fib_recursion(6)"
   ]
  },
  {
   "cell_type": "code",
   "execution_count": null,
   "metadata": {},
   "outputs": [],
   "source": []
  }
 ]
}