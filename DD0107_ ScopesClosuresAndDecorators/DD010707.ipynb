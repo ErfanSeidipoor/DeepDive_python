{
 "metadata": {
  "language_info": {
   "codemirror_mode": {
    "name": "ipython",
    "version": 3
   },
   "file_extension": ".py",
   "mimetype": "text/x-python",
   "name": "python",
   "nbconvert_exporter": "python",
   "pygments_lexer": "ipython3",
   "version": "3.8.5-final"
  },
  "orig_nbformat": 2,
  "kernelspec": {
   "name": "python38564bitvenvvenv29795fd3ebc6467f927a688fb305efe1",
   "display_name": "Python 3.8.5 64-bit ('venv': venv)",
   "language": "python"
  }
 },
 "nbformat": 4,
 "nbformat_minor": 2,
 "cells": [
  {
   "cell_type": "code",
   "execution_count": 3,
   "metadata": {},
   "outputs": [
    {
     "output_type": "stream",
     "name": "stdout",
     "text": [
      "hello python\n"
     ]
    }
   ],
   "source": [
    "def outer():\n",
    "    x = 'python'\n",
    "    def inner():\n",
    "        print('hello {0}'.format(x))\n",
    "\n",
    "    inner()\n",
    "outer()"
   ]
  },
  {
   "cell_type": "code",
   "execution_count": 7,
   "metadata": {},
   "outputs": [
    {
     "output_type": "stream",
     "name": "stdout",
     "text": [
      "hello python\n"
     ]
    }
   ],
   "source": [
    "def outer():\n",
    "    x = 'python'\n",
    "    def inner():\n",
    "        print('hello {0}'.format(x))\n",
    "\n",
    "    return inner\n",
    "\n",
    "fn = outer()\n",
    "x = 'node'\n",
    "fn()\n"
   ]
  },
  {
   "cell_type": "code",
   "execution_count": 24,
   "metadata": {},
   "outputs": [
    {
     "output_type": "stream",
     "name": "stdout",
     "text": [
      "hello python*\nhello python**\nhello python***\n"
     ]
    }
   ],
   "source": [
    "def outer():\n",
    "    x = 'python'\n",
    "\n",
    "    def inner(xx):\n",
    "        nonlocal x\n",
    "        x += xx\n",
    "        print('hello {0}'.format(x))\n",
    "\n",
    "    return inner\n",
    "\n",
    "fn = outer()\n",
    "fn('*')\n",
    "fn('*')\n",
    "fn('*')"
   ]
  },
  {
   "cell_type": "code",
   "execution_count": 12,
   "metadata": {},
   "outputs": [
    {
     "output_type": "execute_result",
     "data": {
      "text/plain": [
       "('x',)"
      ]
     },
     "metadata": {},
     "execution_count": 12
    }
   ],
   "source": [
    "fn.__code__.co_freevars"
   ]
  },
  {
   "cell_type": "code",
   "execution_count": 20,
   "metadata": {},
   "outputs": [
    {
     "output_type": "execute_result",
     "data": {
      "text/plain": [
       "(<cell at 0x7f87cba1ee50: str object at 0x7f87e01b9ef0>,)"
      ]
     },
     "metadata": {},
     "execution_count": 20
    }
   ],
   "source": [
    "fn.__closure__"
   ]
  },
  {
   "cell_type": "code",
   "execution_count": 56,
   "metadata": {},
   "outputs": [
    {
     "output_type": "stream",
     "name": "stdout",
     "text": [
      "1 (<cell at 0x7f87cb669a00: int object at 0x954e40>,) ('count',)\n2 (<cell at 0x7f87cb669a00: int object at 0x954e60>,) ('count',)\n3 (<cell at 0x7f87cb669a00: int object at 0x954e80>,) ('count',)\n4 (<cell at 0x7f87cb669a00: int object at 0x954ea0>,) ('count',)\n"
     ]
    }
   ],
   "source": [
    "def outer():\n",
    "    count = 0\n",
    "\n",
    "    def inc1():\n",
    "        nonlocal count\n",
    "        count +=1\n",
    "        return count\n",
    "\n",
    "    def inc2():\n",
    "        nonlocal count\n",
    "        count +=1\n",
    "        return count\n",
    "    \n",
    "    return inc1, inc2\n",
    "\n",
    "fn1, fn2 = outer()\n",
    "\n",
    "print(fn1(), fn1.__closure__ , fn1.__code__.co_freevars )\n",
    "print(fn1(), fn1.__closure__ , fn1.__code__.co_freevars )\n",
    "\n",
    "print(fn2(), fn1.__closure__ , fn1.__code__.co_freevars )\n",
    "print(fn2(), fn1.__closure__ , fn1.__code__.co_freevars )"
   ]
  },
  {
   "cell_type": "code",
   "execution_count": 39,
   "metadata": {},
   "outputs": [
    {
     "output_type": "stream",
     "name": "stdout",
     "text": [
      "0x7f87cba78440\n0x7f87cb82a540\n"
     ]
    }
   ],
   "source": [
    "def outer():\n",
    "    x = [1,2,3,4]\n",
    "    print(hex(id(x)))\n",
    "\n",
    "    def inner():\n",
    "        x = [1,2,3,4]\n",
    "        print(hex(id(x)))\n",
    "\n",
    "    inner()\n",
    "\n",
    "outer()"
   ]
  },
  {
   "cell_type": "code",
   "execution_count": 40,
   "metadata": {},
   "outputs": [
    {
     "output_type": "stream",
     "name": "stdout",
     "text": [
      "0x7f87e8ff1bb0\n0x7f87e8ff1bb0\n"
     ]
    }
   ],
   "source": [
    "\n",
    "def outer():\n",
    "    x = 'python'\n",
    "    print(hex(id(x)))\n",
    "\n",
    "    def inner():\n",
    "        x = 'python'\n",
    "        print(hex(id(x)))\n",
    "\n",
    "    inner()\n",
    "\n",
    "outer()"
   ]
  },
  {
   "cell_type": "code",
   "execution_count": 45,
   "metadata": {},
   "outputs": [
    {
     "output_type": "stream",
     "name": "stdout",
     "text": [
      "0x7f87cbe20980 [1, 2, 3, 4]\n0x7f87cbe20980 [1, 2, 3, 4]\n"
     ]
    }
   ],
   "source": [
    "def outer():\n",
    "    x = [1,2,3,4]\n",
    "    print(hex(id(x)), x)\n",
    "\n",
    "    def inner():\n",
    "        y = x\n",
    "        print(hex(id(y)), y)\n",
    "\n",
    "    inner()\n",
    "\n",
    "outer()"
   ]
  },
  {
   "cell_type": "code",
   "execution_count": 54,
   "metadata": {},
   "outputs": [
    {
     "output_type": "stream",
     "name": "stdout",
     "text": [
      "(<cell at 0x7f87e01d1a60: int object at 0x954e40>,) ('count',)\n(<cell at 0x7f87e01d1a60: int object at 0x954e60>,) ('count',)\n(<cell at 0x7f87e01d1a60: int object at 0x954e80>,) ('count',)\n"
     ]
    }
   ],
   "source": [
    "def outer():\n",
    "    count = 0\n",
    "\n",
    "    def inc():\n",
    "        nonlocal count\n",
    "        count +=1\n",
    "        return count\n",
    "    return inc\n",
    "\n",
    "fn = outer()\n",
    "fn()\n",
    "print(fn.__closure__, fn.__code__.co_freevars)\n",
    "fn()\n",
    "print(fn.__closure__, fn.__code__.co_freevars)\n",
    "fn()\n",
    "print(fn.__closure__, fn.__code__.co_freevars)\n"
   ]
  },
  {
   "cell_type": "code",
   "execution_count": 60,
   "metadata": {},
   "outputs": [
    {
     "output_type": "stream",
     "name": "stdout",
     "text": [
      "13 None\n13 None\n13 None\n"
     ]
    }
   ],
   "source": [
    "adders = []\n",
    "for n in range(1, 4):\n",
    "    adders.append(lambda x: x+n)\n",
    "\n",
    "print(adders[0](10), adders[0].__closure__)\n",
    "print(adders[1](10), adders[1].__closure__)\n",
    "print(adders[2](10), adders[2].__closure__)"
   ]
  },
  {
   "cell_type": "code",
   "execution_count": 66,
   "metadata": {},
   "outputs": [
    {
     "output_type": "stream",
     "name": "stdout",
     "text": [
      "[<function create_adder.<locals>.<lambda> at 0x7f87cb651e50>, <function create_adder.<locals>.<lambda> at 0x7f87cb651f70>, <function create_adder.<locals>.<lambda> at 0x7f87cb6519d0>]\n13 (<cell at 0x7f87cb6586d0: int object at 0x954e80>,)\n13 (<cell at 0x7f87cb6586d0: int object at 0x954e80>,)\n13 (<cell at 0x7f87cb6586d0: int object at 0x954e80>,)\n"
     ]
    }
   ],
   "source": [
    "\n",
    "def create_adder():\n",
    "    adders = []\n",
    "    for n in range(1, 4):\n",
    "        adders.append(lambda x: x+n)\n",
    "\n",
    "    return adders\n",
    "\n",
    "adders = create_adder()\n",
    "\n",
    "print(adders)\n",
    "\n",
    "print(adders[0](10), adders[0].__closure__)\n",
    "print(adders[1](10), adders[1].__closure__)\n",
    "print(adders[2](10), adders[2].__closure__)"
   ]
  },
  {
   "cell_type": "code",
   "execution_count": 67,
   "metadata": {},
   "outputs": [
    {
     "output_type": "stream",
     "name": "stdout",
     "text": [
      "[<function create_adder.<locals>.<lambda> at 0x7f87cb651280>, <function create_adder.<locals>.<lambda> at 0x7f87cb651700>, <function create_adder.<locals>.<lambda> at 0x7f87cb651430>]\n11 None\n12 None\n13 None\n"
     ]
    }
   ],
   "source": [
    "def create_adder():\n",
    "    adders = []\n",
    "    for n in range(1, 4):\n",
    "        adders.append(lambda x, y=n: x+y)\n",
    "\n",
    "    return adders\n",
    "\n",
    "adders = create_adder()\n",
    "\n",
    "print(adders)\n",
    "\n",
    "print(adders[0](10), adders[0].__closure__)\n",
    "print(adders[1](10), adders[1].__closure__)\n",
    "print(adders[2](10), adders[2].__closure__)"
   ]
  },
  {
   "cell_type": "code",
   "execution_count": null,
   "metadata": {},
   "outputs": [],
   "source": []
  }
 ]
}