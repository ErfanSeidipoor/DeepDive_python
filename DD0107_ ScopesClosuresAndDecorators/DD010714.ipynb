{
 "metadata": {
  "language_info": {
   "codemirror_mode": {
    "name": "ipython",
    "version": 3
   },
   "file_extension": ".py",
   "mimetype": "text/x-python",
   "name": "python",
   "nbconvert_exporter": "python",
   "pygments_lexer": "ipython3",
   "version": "3.8.5-final"
  },
  "orig_nbformat": 2,
  "kernelspec": {
   "name": "python38564bitvenvvenv29795fd3ebc6467f927a688fb305efe1",
   "display_name": "Python 3.8.5 64-bit ('venv': venv)",
   "language": "python"
  }
 },
 "nbformat": 4,
 "nbformat_minor": 2,
 "cells": [
  {
   "cell_type": "code",
   "execution_count": 3,
   "metadata": {},
   "outputs": [
    {
     "output_type": "stream",
     "name": "stdout",
     "text": [
      "calculating fib(6)\ncalculating fib(5)\ncalculating fib(4)\ncalculating fib(3)\ncalculating fib(2)\ncalculating fib(1)\ncalculating fib(2)\ncalculating fib(3)\ncalculating fib(2)\ncalculating fib(1)\ncalculating fib(4)\ncalculating fib(3)\ncalculating fib(2)\ncalculating fib(1)\ncalculating fib(2)\n"
     ]
    },
    {
     "output_type": "execute_result",
     "data": {
      "text/plain": [
       "8"
      ]
     },
     "metadata": {},
     "execution_count": 3
    }
   ],
   "source": [
    "def fibo(n):\n",
    "    print(\"calculating fib({0})\".format(n))\n",
    "    return 1 if n<3 else fibo(n-1) + fibo(n-2)\n",
    "\n",
    "fibo(6)"
   ]
  },
  {
   "cell_type": "code",
   "execution_count": 9,
   "metadata": {},
   "outputs": [],
   "source": [
    "class Fib:\n",
    "    def __init__(self):\n",
    "        self.cache = {1:1, 2:1}\n",
    "    \n",
    "    def calc(self, n):\n",
    "        if n not in self.cache:\n",
    "            result = self.calc(n-1) + self.calc(n-2)\n",
    "            print(\"calculating fib({0})\".format(n))\n",
    "            self.cache[n] = result\n",
    "            return result\n",
    "        else:\n",
    "            return self.cache[n]"
   ]
  },
  {
   "cell_type": "code",
   "execution_count": 11,
   "metadata": {},
   "outputs": [
    {
     "output_type": "stream",
     "name": "stdout",
     "text": [
      "calculating fib(3)\ncalculating fib(4)\ncalculating fib(5)\ncalculating fib(6)\ncalculating fib(7)\ncalculating fib(8)\ncalculating fib(9)\ncalculating fib(10)\n"
     ]
    },
    {
     "output_type": "execute_result",
     "data": {
      "text/plain": [
       "55"
      ]
     },
     "metadata": {},
     "execution_count": 11
    }
   ],
   "source": [
    "fib = Fib()\n",
    "fib.calc(10)"
   ]
  },
  {
   "cell_type": "code",
   "execution_count": 12,
   "metadata": {},
   "outputs": [
    {
     "output_type": "execute_result",
     "data": {
      "text/plain": [
       "8"
      ]
     },
     "metadata": {},
     "execution_count": 12
    }
   ],
   "source": [
    "fib.calc(6)"
   ]
  },
  {
   "cell_type": "code",
   "execution_count": 13,
   "metadata": {},
   "outputs": [
    {
     "output_type": "execute_result",
     "data": {
      "text/plain": [
       "{1: 1, 2: 1, 3: 2, 4: 3, 5: 5, 6: 8, 7: 13, 8: 21, 9: 34, 10: 55}"
      ]
     },
     "metadata": {},
     "execution_count": 13
    }
   ],
   "source": [
    "fib.cache"
   ]
  },
  {
   "cell_type": "code",
   "execution_count": 20,
   "metadata": {},
   "outputs": [
    {
     "output_type": "stream",
     "name": "stdout",
     "text": [
      "calculating fib(10)\ncalculating fib(9)\ncalculating fib(8)\ncalculating fib(7)\ncalculating fib(6)\ncalculating fib(5)\ncalculating fib(4)\ncalculating fib(3)\n"
     ]
    },
    {
     "output_type": "execute_result",
     "data": {
      "text/plain": [
       "55"
      ]
     },
     "metadata": {},
     "execution_count": 20
    }
   ],
   "source": [
    "def fib():\n",
    "    cache = {1:1, 2:1}\n",
    "\n",
    "    def calc(n):\n",
    "        nonlocal cache\n",
    "        if n not in cache:\n",
    "            print(\"calculating fib({0})\".format(n))\n",
    "            cache[n] = calc(n-1) + calc(n-2)\n",
    "        return cache[n]\n",
    "\n",
    "    return calc\n",
    "\n",
    "calc_fib = fib()\n",
    "calc_fib(10)"
   ]
  },
  {
   "cell_type": "code",
   "execution_count": 21,
   "metadata": {},
   "outputs": [
    {
     "output_type": "execute_result",
     "data": {
      "text/plain": [
       "8"
      ]
     },
     "metadata": {},
     "execution_count": 21
    }
   ],
   "source": [
    "calc_fib(6)"
   ]
  },
  {
   "cell_type": "code",
   "execution_count": 23,
   "metadata": {},
   "outputs": [
    {
     "output_type": "stream",
     "name": "stdout",
     "text": [
      "calculating fib(10)\ncalculating fib(9)\ncalculating fib(8)\ncalculating fib(7)\ncalculating fib(6)\ncalculating fib(5)\ncalculating fib(4)\ncalculating fib(3)\n"
     ]
    },
    {
     "output_type": "execute_result",
     "data": {
      "text/plain": [
       "55"
      ]
     },
     "metadata": {},
     "execution_count": 23
    }
   ],
   "source": [
    "def memoize_fib(fn):\n",
    "    cache = {1:1, 2:1}\n",
    "\n",
    "    def calc(n):\n",
    "        if n not in cache:\n",
    "            cache[n] = fn(n)\n",
    "        return cache[n]\n",
    "    \n",
    "    return calc\n",
    "\n",
    "@memoize_fib\n",
    "def fibo(n):\n",
    "    print(\"calculating fib({0})\".format(n))\n",
    "    return 1 if n<3 else fibo(n-1) + fibo(n-2)\n",
    "\n",
    "fibo(10)"
   ]
  },
  {
   "cell_type": "code",
   "execution_count": 24,
   "metadata": {},
   "outputs": [
    {
     "output_type": "execute_result",
     "data": {
      "text/plain": [
       "8"
      ]
     },
     "metadata": {},
     "execution_count": 24
    }
   ],
   "source": [
    "fibo(6)"
   ]
  },
  {
   "cell_type": "code",
   "execution_count": 29,
   "metadata": {},
   "outputs": [],
   "source": [
    "def memoize(fn):\n",
    "    cache = dict()\n",
    "\n",
    "    def calc(n):\n",
    "        if n not in cache:\n",
    "            cache[n] = fn(n)\n",
    "        return cache[n]\n",
    "    \n",
    "    return calc\n",
    "\n",
    "@memoize\n",
    "def fibo(n):\n",
    "    print(\"calculating fib({0})\".format(n))\n",
    "    return 1 if n<3 else fibo(n-1) + fibo(n-2)\n",
    "\n",
    "@memoize\n",
    "def fact(n):\n",
    "    print(\"calculating fact({0})\".format(n))\n",
    "    return 1 if n<3 else fact(n-1) * n\n"
   ]
  },
  {
   "cell_type": "code",
   "execution_count": 30,
   "metadata": {},
   "outputs": [
    {
     "output_type": "stream",
     "name": "stdout",
     "text": [
      "calculating fib(10)\ncalculating fib(9)\ncalculating fib(8)\ncalculating fib(7)\ncalculating fib(6)\ncalculating fib(5)\ncalculating fib(4)\ncalculating fib(3)\ncalculating fib(2)\ncalculating fib(1)\n"
     ]
    },
    {
     "output_type": "execute_result",
     "data": {
      "text/plain": [
       "8"
      ]
     },
     "metadata": {},
     "execution_count": 30
    }
   ],
   "source": [
    "fibo(10)\n",
    "fibo(6)"
   ]
  },
  {
   "cell_type": "code",
   "execution_count": 31,
   "metadata": {},
   "outputs": [
    {
     "output_type": "stream",
     "name": "stdout",
     "text": [
      "calculating fact(10)\ncalculating fact(9)\ncalculating fact(8)\ncalculating fact(7)\ncalculating fact(6)\ncalculating fact(5)\ncalculating fact(4)\ncalculating fact(3)\ncalculating fact(2)\n"
     ]
    },
    {
     "output_type": "execute_result",
     "data": {
      "text/plain": [
       "360"
      ]
     },
     "metadata": {},
     "execution_count": 31
    }
   ],
   "source": [
    "fact(10)\n",
    "fact(6)"
   ]
  },
  {
   "cell_type": "code",
   "execution_count": 34,
   "metadata": {},
   "outputs": [
    {
     "output_type": "stream",
     "name": "stdout",
     "text": [
      "calculating fact(10)\ncalculating fact(9)\ncalculating fact(8)\ncalculating fact(7)\ncalculating fact(6)\ncalculating fact(5)\ncalculating fact(4)\ncalculating fact(3)\ncalculating fact(2)\n"
     ]
    },
    {
     "output_type": "execute_result",
     "data": {
      "text/plain": [
       "20160"
      ]
     },
     "metadata": {},
     "execution_count": 34
    }
   ],
   "source": [
    "from functools import lru_cache\n",
    "\n",
    "@lru_cache()\n",
    "def fact(n):\n",
    "    print(\"calculating fact({0})\".format(n))\n",
    "    return 1 if n<3 else fact(n-1) * n\n",
    "\n",
    "fact(10)\n",
    "fact(8)"
   ]
  },
  {
   "cell_type": "code",
   "execution_count": 35,
   "metadata": {},
   "outputs": [
    {
     "output_type": "stream",
     "name": "stdout",
     "text": [
      "calculating fact(20)\ncalculating fact(19)\ncalculating fact(18)\ncalculating fact(17)\ncalculating fact(16)\ncalculating fact(15)\ncalculating fact(14)\ncalculating fact(13)\ncalculating fact(12)\ncalculating fact(11)\ncalculating fact(10)\ncalculating fact(9)\ncalculating fact(8)\ncalculating fact(7)\ncalculating fact(6)\ncalculating fact(5)\ncalculating fact(4)\ncalculating fact(3)\ncalculating fact(2)\ncalculating fact(8)\ncalculating fact(7)\ncalculating fact(6)\ncalculating fact(5)\ncalculating fact(4)\ncalculating fact(3)\ncalculating fact(2)\n"
     ]
    },
    {
     "output_type": "execute_result",
     "data": {
      "text/plain": [
       "20160"
      ]
     },
     "metadata": {},
     "execution_count": 35
    }
   ],
   "source": [
    "@lru_cache(maxsize=10)\n",
    "def fact(n):\n",
    "    print(\"calculating fact({0})\".format(n))\n",
    "    return 1 if n<3 else fact(n-1) * n\n",
    "\n",
    "fact(20)\n"
   ]
  },
  {
   "cell_type": "code",
   "execution_count": 36,
   "metadata": {},
   "outputs": [
    {
     "output_type": "stream",
     "name": "stdout",
     "text": [
      "calculating fact(15)\ncalculating fact(14)\ncalculating fact(13)\ncalculating fact(12)\ncalculating fact(11)\ncalculating fact(10)\ncalculating fact(9)\n"
     ]
    },
    {
     "output_type": "execute_result",
     "data": {
      "text/plain": [
       "653837184000"
      ]
     },
     "metadata": {},
     "execution_count": 36
    }
   ],
   "source": [
    "fact(15)"
   ]
  },
  {
   "cell_type": "code",
   "execution_count": null,
   "metadata": {},
   "outputs": [],
   "source": []
  }
 ]
}