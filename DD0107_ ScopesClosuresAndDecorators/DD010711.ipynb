{
 "metadata": {
  "language_info": {
   "codemirror_mode": {
    "name": "ipython",
    "version": 3
   },
   "file_extension": ".py",
   "mimetype": "text/x-python",
   "name": "python",
   "nbconvert_exporter": "python",
   "pygments_lexer": "ipython3",
   "version": "3.8.5-final"
  },
  "orig_nbformat": 2,
  "kernelspec": {
   "name": "python38564bitvenvvenv29795fd3ebc6467f927a688fb305efe1",
   "display_name": "Python 3.8.5 64-bit ('venv': venv)",
   "language": "python"
  }
 },
 "nbformat": 4,
 "nbformat_minor": 2,
 "cells": [
  {
   "cell_type": "code",
   "execution_count": 7,
   "metadata": {},
   "outputs": [],
   "source": [
    "def counter(fn):\n",
    "    counter = 0 \n",
    "    \n",
    "    def inner(*args, **kwargs):\n",
    "        nonlocal counter\n",
    "        counter += 1\n",
    "        print('{0} has been called {1} times'.format(fn.__name__, counter))\n",
    "        return fn(*args, *kwargs)\n",
    "    \n",
    "    return inner"
   ]
  },
  {
   "cell_type": "code",
   "execution_count": 10,
   "metadata": {},
   "outputs": [
    {
     "output_type": "stream",
     "name": "stdout",
     "text": [
      "add has been called 1 times\nadd has been called 2 times\n"
     ]
    },
    {
     "output_type": "execute_result",
     "data": {
      "text/plain": [
       "(3,\n",
       " 7,\n",
       " (<cell at 0x7f737fb9d670: int object at 0x954e60>,\n",
       "  <cell at 0x7f737fb9ddc0: function object at 0x7f7390629f70>),\n",
       " 'inner')"
      ]
     },
     "metadata": {},
     "execution_count": 10
    }
   ],
   "source": [
    "@counter\n",
    "def add(a, b):\n",
    "    return a+b\n",
    "\n",
    "\n",
    "add(1,2), add(3,4), add.__closure__, add.__name__"
   ]
  },
  {
   "cell_type": "code",
   "execution_count": 13,
   "metadata": {},
   "outputs": [
    {
     "output_type": "stream",
     "name": "stdout",
     "text": [
      "Help on function inner in module __main__:\n\ninner(*args, **kwargs)\n\n"
     ]
    }
   ],
   "source": [
    "help(add)"
   ]
  },
  {
   "cell_type": "code",
   "execution_count": 9,
   "metadata": {},
   "outputs": [
    {
     "output_type": "stream",
     "name": "stdout",
     "text": [
      "add has been called 1 times\nadd has been called 2 times\n"
     ]
    },
    {
     "output_type": "execute_result",
     "data": {
      "text/plain": [
       "(3,\n",
       " 7,\n",
       " (<cell at 0x7f7390052ac0: int object at 0x954e60>,\n",
       "  <cell at 0x7f7390052130: function object at 0x7f73906298b0>),\n",
       " 'inner')"
      ]
     },
     "metadata": {},
     "execution_count": 9
    }
   ],
   "source": [
    "def add(a, b):\n",
    "    return a+b\n",
    "add = counter(add)\n",
    "\n",
    "add(1,2), add(3,4), add.__closure__, add.__name__"
   ]
  },
  {
   "cell_type": "code",
   "execution_count": 12,
   "metadata": {},
   "outputs": [
    {
     "output_type": "stream",
     "name": "stdout",
     "text": [
      "Help on function inner in module __main__:\n\ninner(*args, **kwargs)\n\n"
     ]
    }
   ],
   "source": [
    "help(add)"
   ]
  },
  {
   "cell_type": "code",
   "execution_count": 16,
   "metadata": {},
   "outputs": [
    {
     "output_type": "stream",
     "name": "stdout",
     "text": [
      "add has been called 1 times\nadd has been called 2 times\n"
     ]
    },
    {
     "output_type": "execute_result",
     "data": {
      "text/plain": [
       "(3,\n",
       " 7,\n",
       " (<cell at 0x7f737fb1fa30: int object at 0x954e60>,\n",
       "  <cell at 0x7f737fb1f160: function object at 0x7f73901435e0>),\n",
       " 'add')"
      ]
     },
     "metadata": {},
     "execution_count": 16
    }
   ],
   "source": [
    "def counter(fn):\n",
    "    counter = 0 \n",
    "    \n",
    "    def inner(*args, **kwargs):\n",
    "        nonlocal counter\n",
    "        counter += 1\n",
    "        print('{0} has been called {1} times'.format(fn.__name__, counter))\n",
    "        \n",
    "\n",
    "        return fn(*args, *kwargs)\n",
    "\n",
    "    inner.__name__ = fn.__name__\n",
    "    inner.__doc__ = fn.__doc__\n",
    "    \n",
    "    return inner\n",
    "\n",
    "@counter\n",
    "def add(a, b):\n",
    "    return a+b\n",
    "\n",
    "\n",
    "add(1,2), add(3,4), add.__closure__, add.__name__"
   ]
  },
  {
   "cell_type": "code",
   "execution_count": 17,
   "metadata": {},
   "outputs": [
    {
     "output_type": "stream",
     "name": "stdout",
     "text": [
      "Help on function add in module __main__:\n\nadd(*args, **kwargs)\n\n"
     ]
    }
   ],
   "source": [
    "help(add)"
   ]
  },
  {
   "cell_type": "code",
   "execution_count": 20,
   "metadata": {},
   "outputs": [],
   "source": [
    "from functools import wraps\n",
    "\n",
    "def counter(fn):\n",
    "    counter = 0 \n",
    "    \n",
    "    def inner(*args, **kwargs):\n",
    "        nonlocal counter\n",
    "        counter += 1\n",
    "        print('{0} has been called {1} times'.format(fn.__name__, counter))\n",
    "        \n",
    "\n",
    "        return fn(*args, *kwargs)\n",
    "    \n",
    "    return wraps(fn)(inner)\n",
    "\n",
    "def counter(fn):\n",
    "    counter = 0 \n",
    "    \n",
    "    @wraps(fn)\n",
    "    def inner(*args, **kwargs):\n",
    "        nonlocal counter\n",
    "        counter += 1\n",
    "        print('{0} has been called {1} times'.format(fn.__name__, counter))\n",
    "        \n",
    "\n",
    "        return fn(*args, *kwargs)\n",
    "    \n",
    "    return inner"
   ]
  },
  {
   "cell_type": "code",
   "execution_count": 21,
   "metadata": {},
   "outputs": [
    {
     "output_type": "stream",
     "name": "stdout",
     "text": [
      "add has been called 1 times\nadd has been called 2 times\n"
     ]
    },
    {
     "output_type": "execute_result",
     "data": {
      "text/plain": [
       "(3,\n",
       " 7,\n",
       " (<cell at 0x7f7390151940: int object at 0x954e60>,\n",
       "  <cell at 0x7f7390151790: function object at 0x7f737fc13ca0>),\n",
       " 'add')"
      ]
     },
     "metadata": {},
     "execution_count": 21
    }
   ],
   "source": [
    "@counter\n",
    "def add(a, b):\n",
    "    return a+b\n",
    "\n",
    "\n",
    "add(1,2), add(3,4), add.__closure__, add.__name__"
   ]
  },
  {
   "cell_type": "code",
   "execution_count": 22,
   "metadata": {},
   "outputs": [
    {
     "output_type": "stream",
     "name": "stdout",
     "text": [
      "Help on function add in module __main__:\n\nadd(a, b)\n\n"
     ]
    }
   ],
   "source": [
    "help(add)"
   ]
  },
  {
   "cell_type": "code",
   "execution_count": null,
   "metadata": {},
   "outputs": [],
   "source": []
  }
 ]
}