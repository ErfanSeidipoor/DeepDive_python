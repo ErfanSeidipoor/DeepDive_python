{
 "metadata": {
  "language_info": {
   "codemirror_mode": {
    "name": "ipython",
    "version": 3
   },
   "file_extension": ".py",
   "mimetype": "text/x-python",
   "name": "python",
   "nbconvert_exporter": "python",
   "pygments_lexer": "ipython3",
   "version": "3.8.5-final"
  },
  "orig_nbformat": 2,
  "kernelspec": {
   "name": "python38564bitvenvvenv29795fd3ebc6467f927a688fb305efe1",
   "display_name": "Python 3.8.5 64-bit ('venv': venv)",
   "language": "python"
  }
 },
 "nbformat": 4,
 "nbformat_minor": 2,
 "cells": [
  {
   "cell_type": "code",
   "execution_count": 9,
   "metadata": {},
   "outputs": [
    {
     "output_type": "execute_result",
     "data": {
      "text/plain": [
       "14"
      ]
     },
     "metadata": {},
     "execution_count": 9
    }
   ],
   "source": [
    "def counter(initial_value):\n",
    "    \n",
    "    def inc(value):\n",
    "        nonlocal initial_value\n",
    "        initial_value += value\n",
    "        return initial_value\n",
    "    \n",
    "    return inc\n",
    "\n",
    "inc = counter(10)\n",
    "inc(3)\n",
    "inc(1)"
   ]
  },
  {
   "cell_type": "code",
   "execution_count": 14,
   "metadata": {},
   "outputs": [],
   "source": [
    "def counter(fn):\n",
    "    count = 0\n",
    "    def inner(*args, **kwargs):\n",
    "        nonlocal count\n",
    "        count += 1\n",
    "\n",
    "        print(' {0} has been called {1} times'.format(fn.__name__, count))\n",
    "        return fn(*args, **kwargs)\n",
    "    \n",
    "    return inner\n"
   ]
  },
  {
   "cell_type": "code",
   "execution_count": 16,
   "metadata": {},
   "outputs": [
    {
     "output_type": "stream",
     "name": "stdout",
     "text": [
      " add has been called 1 times\n add has been called 2 times\n"
     ]
    },
    {
     "output_type": "execute_result",
     "data": {
      "text/plain": [
       "90"
      ]
     },
     "metadata": {},
     "execution_count": 16
    }
   ],
   "source": [
    "def add(a, b):\n",
    "    return a+b\n",
    "\n",
    "counter_add = counter(add)\n",
    "counter_add(10, 20)\n",
    "counter_add(40, 50)"
   ]
  },
  {
   "cell_type": "code",
   "execution_count": 18,
   "metadata": {},
   "outputs": [
    {
     "output_type": "stream",
     "name": "stdout",
     "text": [
      " mul has been called 1 times\n mul has been called 2 times\n"
     ]
    },
    {
     "output_type": "execute_result",
     "data": {
      "text/plain": [
       "2000"
      ]
     },
     "metadata": {},
     "execution_count": 18
    }
   ],
   "source": [
    "def mul(a, b):\n",
    "    return a * b\n",
    "\n",
    "counter_mul = counter(mul)\n",
    "counter_mul(10, 20)\n",
    "counter_mul(40, 50)"
   ]
  },
  {
   "cell_type": "code",
   "execution_count": 25,
   "metadata": {},
   "outputs": [
    {
     "output_type": "stream",
     "name": "stdout",
     "text": [
      "3 7 {'add': 2}\n2 12 {'add': 2, 'mul': 2}\n"
     ]
    }
   ],
   "source": [
    "counters = dict()\n",
    "\n",
    "def fn_counter(fn):\n",
    "    cnt = 0\n",
    "    def inner(*args, **kwargs):\n",
    "        nonlocal cnt\n",
    "        cnt += 1\n",
    "        counters[fn.__name__] = cnt\n",
    "        return fn(*args, **kwargs)\n",
    "\n",
    "    return inner\n",
    "\n",
    "def add(a, b):\n",
    "    return a+b\n",
    "\n",
    "def mul(a, b):\n",
    "    return a*b\n",
    "\n",
    "\n",
    "counter_add = fn_counter(add)\n",
    "counter_mul = fn_counter(mul)\n",
    "\n",
    "print(counter_add(1,2), counter_add(3,4), counters)\n",
    "print(counter_mul(1,2), counter_mul(3,4), counters)"
   ]
  },
  {
   "cell_type": "code",
   "execution_count": 26,
   "metadata": {},
   "outputs": [
    {
     "output_type": "stream",
     "name": "stdout",
     "text": [
      "3 7 {'add': 2}\n2 12 {'add': 2, 'mul': 2}\n"
     ]
    }
   ],
   "source": [
    "def fn_counter(fn,counters):\n",
    "    cnt = 0\n",
    "    def inner(*args, **kwargs):\n",
    "        nonlocal cnt\n",
    "        cnt += 1\n",
    "        counters[fn.__name__] = cnt\n",
    "        return fn(*args, **kwargs)\n",
    "\n",
    "    return inner\n",
    "\n",
    "def add(a, b):\n",
    "    return a+b\n",
    "\n",
    "def mul(a, b):\n",
    "    return a*b\n",
    "\n",
    "counters = dict()\n",
    "counter_add = fn_counter(add, counters)\n",
    "counter_mul = fn_counter(mul, counters)\n",
    "\n",
    "print(counter_add(1,2), counter_add(3,4), counters)\n",
    "print(counter_mul(1,2), counter_mul(3,4), counters)"
   ]
  },
  {
   "cell_type": "code",
   "execution_count": 27,
   "metadata": {},
   "outputs": [
    {
     "output_type": "execute_result",
     "data": {
      "text/plain": [
       "6"
      ]
     },
     "metadata": {},
     "execution_count": 27
    }
   ],
   "source": [
    "def fact(n):\n",
    "    product = 1\n",
    "\n",
    "    for i in range(1, n+1):\n",
    "        product *=i\n",
    "\n",
    "    return product\n",
    "\n",
    "fact(3)    \n"
   ]
  },
  {
   "cell_type": "code",
   "execution_count": 32,
   "metadata": {},
   "outputs": [
    {
     "output_type": "execute_result",
     "data": {
      "text/plain": [
       "(6, 24, {'add': 2, 'mul': 2, 'fact': 2})"
      ]
     },
     "metadata": {},
     "execution_count": 32
    }
   ],
   "source": [
    "counter_fact = fn_counter(fact, counters)\n",
    "counter_fact(3), counter_fact(4), counters"
   ]
  },
  {
   "cell_type": "code",
   "execution_count": 33,
   "metadata": {},
   "outputs": [
    {
     "output_type": "execute_result",
     "data": {
      "text/plain": [
       "(<cell at 0x7f8591df3a30: int object at 0x954e60>,\n",
       " <cell at 0x7f8591df3a60: dict object at 0x7f8591f85780>,\n",
       " <cell at 0x7f8591df33a0: function object at 0x7f85918e8670>)"
      ]
     },
     "metadata": {},
     "execution_count": 33
    }
   ],
   "source": [
    "counter_fact.__closure__"
   ]
  },
  {
   "cell_type": "code",
   "execution_count": null,
   "metadata": {},
   "outputs": [],
   "source": []
  }
 ]
}