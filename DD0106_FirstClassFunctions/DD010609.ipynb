{
 "metadata": {
  "language_info": {
   "codemirror_mode": {
    "name": "ipython",
    "version": 3
   },
   "file_extension": ".py",
   "mimetype": "text/x-python",
   "name": "python",
   "nbconvert_exporter": "python",
   "pygments_lexer": "ipython3",
   "version": "3.8.5-final"
  },
  "orig_nbformat": 2,
  "kernelspec": {
   "name": "python38564bitvenvvenv29795fd3ebc6467f927a688fb305efe1",
   "display_name": "Python 3.8.5 64-bit ('venv': venv)",
   "language": "python"
  }
 },
 "nbformat": 4,
 "nbformat_minor": 2,
 "cells": [
  {
   "cell_type": "code",
   "execution_count": 71,
   "metadata": {},
   "outputs": [
    {
     "output_type": "execute_result",
     "data": {
      "text/plain": [
       "['__annotations__',\n",
       " '__call__',\n",
       " '__class__',\n",
       " '__closure__',\n",
       " '__code__',\n",
       " '__defaults__',\n",
       " '__delattr__',\n",
       " '__dict__',\n",
       " '__dir__',\n",
       " '__doc__',\n",
       " '__eq__',\n",
       " '__format__',\n",
       " '__ge__',\n",
       " '__get__',\n",
       " '__getattribute__',\n",
       " '__globals__',\n",
       " '__gt__',\n",
       " '__hash__',\n",
       " '__init__',\n",
       " '__init_subclass__',\n",
       " '__kwdefaults__',\n",
       " '__le__',\n",
       " '__lt__',\n",
       " '__module__',\n",
       " '__name__',\n",
       " '__ne__',\n",
       " '__new__',\n",
       " '__qualname__',\n",
       " '__reduce__',\n",
       " '__reduce_ex__',\n",
       " '__repr__',\n",
       " '__setattr__',\n",
       " '__sizeof__',\n",
       " '__str__',\n",
       " '__subclasshook__',\n",
       " 'short_description']"
      ]
     },
     "metadata": {},
     "execution_count": 71
    }
   ],
   "source": [
    "# comment outside function\n",
    "def my_function(x:\"x arg\",y1:\"y args default is 10\"=10,y2=15, *, u, z=20)->\"hi there \":\n",
    "    # comment inside function\n",
    "    pass\n",
    "\n",
    "\n",
    "my_function.short_description = \"this is a function nothings more\"\n",
    "dir(my_function)"
   ]
  },
  {
   "cell_type": "code",
   "execution_count": 13,
   "metadata": {},
   "outputs": [
    {
     "output_type": "execute_result",
     "data": {
      "text/plain": [
       "('my_function', str)"
      ]
     },
     "metadata": {},
     "execution_count": 13
    }
   ],
   "source": [
    "my_function.__name__, type(my_function.__name__)"
   ]
  },
  {
   "cell_type": "code",
   "execution_count": 72,
   "metadata": {},
   "outputs": [
    {
     "output_type": "execute_result",
     "data": {
      "text/plain": [
       "'this is a function nothings more'"
      ]
     },
     "metadata": {},
     "execution_count": 72
    }
   ],
   "source": [
    "my_function.short_description"
   ]
  },
  {
   "cell_type": "code",
   "execution_count": 70,
   "metadata": {},
   "outputs": [
    {
     "output_type": "execute_result",
     "data": {
      "text/plain": [
       "{'x': 'x arg', 'y1': 'y args default is 10', 'return': 'hi there '}"
      ]
     },
     "metadata": {},
     "execution_count": 70
    }
   ],
   "source": [
    "my_function.__annotations__"
   ]
  },
  {
   "cell_type": "code",
   "execution_count": 17,
   "metadata": {},
   "outputs": [
    {
     "output_type": "execute_result",
     "data": {
      "text/plain": [
       "((10, 15), tuple)"
      ]
     },
     "metadata": {},
     "execution_count": 17
    }
   ],
   "source": [
    "my_function.__defaults__, type(my_function.__defaults__)"
   ]
  },
  {
   "cell_type": "code",
   "execution_count": 15,
   "metadata": {},
   "outputs": [
    {
     "output_type": "execute_result",
     "data": {
      "text/plain": [
       "({'z': 20}, dict)"
      ]
     },
     "metadata": {},
     "execution_count": 15
    }
   ],
   "source": [
    "my_function.__kwdefaults__, type(my_function.__kwdefaults__)"
   ]
  },
  {
   "cell_type": "code",
   "execution_count": 28,
   "metadata": {},
   "outputs": [
    {
     "output_type": "stream",
     "name": "stdout",
     "text": [
      "<code object my_function at 0x7f26523ff710, file \"<ipython-input-16-30a2965c1f4a>\", line 1>\n"
     ]
    }
   ],
   "source": [
    "print(my_function.__code__)"
   ]
  },
  {
   "cell_type": "code",
   "execution_count": 27,
   "metadata": {},
   "outputs": [
    {
     "output_type": "execute_result",
     "data": {
      "text/plain": [
       "('x', 'y1', 'y2', 'u', 'z')"
      ]
     },
     "metadata": {},
     "execution_count": 27
    }
   ],
   "source": [
    "my_function.__code__.co_varnames"
   ]
  },
  {
   "cell_type": "code",
   "execution_count": 29,
   "metadata": {},
   "outputs": [
    {
     "output_type": "execute_result",
     "data": {
      "text/plain": [
       "3"
      ]
     },
     "metadata": {},
     "execution_count": 29
    }
   ],
   "source": [
    "my_function.__code__.co_argcount"
   ]
  },
  {
   "cell_type": "code",
   "execution_count": 30,
   "metadata": {},
   "outputs": [],
   "source": [
    "import inspect"
   ]
  },
  {
   "cell_type": "code",
   "execution_count": 42,
   "metadata": {},
   "outputs": [
    {
     "output_type": "execute_result",
     "data": {
      "text/plain": [
       "(False, True, True)"
      ]
     },
     "metadata": {},
     "execution_count": 42
    }
   ],
   "source": [
    "\n",
    "def myFunc():\n",
    "    pass\n",
    "\n",
    "inspect.ismethod(myFunc), \\\n",
    "inspect.isfunction(myFunc), \\\n",
    "inspect.isroutine(myFunc)"
   ]
  },
  {
   "cell_type": "code",
   "execution_count": 32,
   "metadata": {},
   "outputs": [
    {
     "output_type": "execute_result",
     "data": {
      "text/plain": [
       "True"
      ]
     },
     "metadata": {},
     "execution_count": 32
    }
   ],
   "source": [
    "class MyClass:\n",
    "    pass\n",
    "inspect.isclass(MyClass)"
   ]
  },
  {
   "cell_type": "code",
   "execution_count": 41,
   "metadata": {},
   "outputs": [
    {
     "output_type": "execute_result",
     "data": {
      "text/plain": [
       "(True, False, True)"
      ]
     },
     "metadata": {},
     "execution_count": 41
    }
   ],
   "source": [
    "class MyClass:\n",
    "    def myMethod():\n",
    "        pass\n",
    "\n",
    "myClass = MyClass()\n",
    "inspect.ismethod(myClass.myMethod), \\\n",
    "inspect.isfunction(myClass.myMethod), \\\n",
    "inspect.isroutine(myClass.myMethod)"
   ]
  },
  {
   "cell_type": "code",
   "execution_count": 44,
   "metadata": {},
   "outputs": [
    {
     "output_type": "stream",
     "name": "stdout",
     "text": [
      "def my_function(x,y1=10,y2=15, *, u, z=20):\n    pass\n\n"
     ]
    }
   ],
   "source": [
    "print(inspect.getsource(my_function))"
   ]
  },
  {
   "cell_type": "code",
   "execution_count": 45,
   "metadata": {},
   "outputs": [
    {
     "output_type": "execute_result",
     "data": {
      "text/plain": [
       "<module '__main__'>"
      ]
     },
     "metadata": {},
     "execution_count": 45
    }
   ],
   "source": [
    "inspect.getmodule(my_function)"
   ]
  },
  {
   "cell_type": "code",
   "execution_count": 49,
   "metadata": {},
   "outputs": [
    {
     "output_type": "execute_result",
     "data": {
      "text/plain": [
       "(<module 'builtins' (built-in)>,\n",
       " <module 'builtins' (built-in)>,\n",
       " <module 'math' (built-in)>)"
      ]
     },
     "metadata": {},
     "execution_count": 49
    }
   ],
   "source": [
    "import math\n",
    "inspect.getmodule(print), \\\n",
    "    inspect.getmodule(sorted), \\\n",
    "        inspect.getmodule(math.sin)"
   ]
  },
  {
   "cell_type": "code",
   "execution_count": 59,
   "metadata": {},
   "outputs": [
    {
     "output_type": "execute_result",
     "data": {
      "text/plain": [
       "'# comment outside function\\n'"
      ]
     },
     "metadata": {},
     "execution_count": 59
    }
   ],
   "source": [
    "inspect.getcomments(my_function)"
   ]
  },
  {
   "cell_type": "code",
   "execution_count": 61,
   "metadata": {},
   "outputs": [
    {
     "output_type": "execute_result",
     "data": {
      "text/plain": [
       "mappingproxy({'x': <Parameter \"x\">,\n",
       "              'y1': <Parameter \"y1=10\">,\n",
       "              'y2': <Parameter \"y2=15\">,\n",
       "              'u': <Parameter \"u\">,\n",
       "              'z': <Parameter \"z=20\">})"
      ]
     },
     "metadata": {},
     "execution_count": 61
    }
   ],
   "source": [
    "inspect.signature(my_function)"
   ]
  },
  {
   "cell_type": "code",
   "execution_count": 73,
   "metadata": {},
   "outputs": [
    {
     "output_type": "execute_result",
     "data": {
      "text/plain": [
       "'hi there '"
      ]
     },
     "metadata": {},
     "execution_count": 73
    }
   ],
   "source": [
    "inspect.signature(my_function).return_annotation"
   ]
  },
  {
   "cell_type": "code",
   "execution_count": 62,
   "metadata": {},
   "outputs": [
    {
     "output_type": "execute_result",
     "data": {
      "text/plain": [
       "mappingproxy({'x': <Parameter \"x\">,\n",
       "              'y1': <Parameter \"y1=10\">,\n",
       "              'y2': <Parameter \"y2=15\">,\n",
       "              'u': <Parameter \"u\">,\n",
       "              'z': <Parameter \"z=20\">})"
      ]
     },
     "metadata": {},
     "execution_count": 62
    }
   ],
   "source": [
    "inspect.signature(my_function).parameters"
   ]
  },
  {
   "cell_type": "code",
   "execution_count": 64,
   "metadata": {},
   "outputs": [
    {
     "output_type": "execute_result",
     "data": {
      "text/plain": [
       "<_ParameterKind.POSITIONAL_OR_KEYWORD: 1>"
      ]
     },
     "metadata": {},
     "execution_count": 64
    }
   ],
   "source": [
    "  inspect.signature(my_function).parameters[\"x\"].kind"
   ]
  }
 ]
}