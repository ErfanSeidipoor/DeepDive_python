{
 "metadata": {
  "language_info": {
   "codemirror_mode": {
    "name": "ipython",
    "version": 3
   },
   "file_extension": ".py",
   "mimetype": "text/x-python",
   "name": "python",
   "nbconvert_exporter": "python",
   "pygments_lexer": "ipython3",
   "version": "3.8.5-final"
  },
  "orig_nbformat": 2,
  "kernelspec": {
   "name": "python38564bitvenvvenv29795fd3ebc6467f927a688fb305efe1",
   "display_name": "Python 3.8.5 64-bit ('venv': venv)",
   "language": "python"
  }
 },
 "nbformat": 4,
 "nbformat_minor": 2,
 "cells": [
  {
   "source": [
    "<h3> Function Docstring </h3>"
   ],
   "cell_type": "markdown",
   "metadata": {}
  },
  {
   "cell_type": "code",
   "execution_count": 3,
   "metadata": {},
   "outputs": [
    {
     "output_type": "stream",
     "name": "stdout",
     "text": [
      "Help on function func1 in module __main__:\n\nfunc1()\n    this is a help\n\n"
     ]
    }
   ],
   "source": [
    "def func1():\n",
    "    '''\n",
    "        this is a help\n",
    "    '''\n",
    "    pass\n",
    "\n",
    "help(func1)"
   ]
  },
  {
   "cell_type": "code",
   "execution_count": 6,
   "metadata": {},
   "outputs": [
    {
     "output_type": "execute_result",
     "data": {
      "text/plain": [
       "'\\n        this is a help\\n    '"
      ]
     },
     "metadata": {},
     "execution_count": 6
    }
   ],
   "source": [
    "func1.__doc__"
   ]
  },
  {
   "source": [
    "<h3>Function Annotation</h3>\n",
    "<pre>\n",
    "def my_func(a:expression, b:expression)-> expression:\n",
    "    pass\n",
    "</pre>\n"
   ],
   "cell_type": "markdown",
   "metadata": {}
  },
  {
   "cell_type": "code",
   "execution_count": 12,
   "metadata": {},
   "outputs": [
    {
     "output_type": "execute_result",
     "data": {
      "text/plain": [
       "'Im like python'"
      ]
     },
     "metadata": {},
     "execution_count": 12
    }
   ],
   "source": [
    "def my_function(a:\"a string\", b: \"a string\")-> \"a string\":\n",
    "    \"join two string\"\n",
    "    return a+b\n",
    "my_function(\"Im like \", \"python\")"
   ]
  },
  {
   "cell_type": "code",
   "execution_count": 13,
   "metadata": {},
   "outputs": [
    {
     "output_type": "stream",
     "name": "stdout",
     "text": [
      "Help on function my_function in module __main__:\n\nmy_function(a: 'a string', b: 'a string') -> 'a string'\n    join two string\n\n"
     ]
    }
   ],
   "source": [
    "help(my_function)"
   ]
  },
  {
   "cell_type": "code",
   "execution_count": 14,
   "metadata": {},
   "outputs": [
    {
     "output_type": "execute_result",
     "data": {
      "text/plain": [
       "'join two string'"
      ]
     },
     "metadata": {},
     "execution_count": 14
    }
   ],
   "source": [
    "my_function.__doc__"
   ]
  },
  {
   "cell_type": "code",
   "execution_count": 26,
   "metadata": {},
   "outputs": [
    {
     "output_type": "stream",
     "name": "stdout",
     "text": [
      "Help on function add in module __main__:\n\nadd(a: int, b: int) -> int\n    return a + b\n    \n    Inputs:\n          a: integer\n          b: integer\n    \n    Outputs:\n          result: integer\n\n"
     ]
    }
   ],
   "source": [
    "def add(a:int, b:int)->int:\n",
    "    '''\n",
    "     return a + b\n",
    "\n",
    "     Inputs:\n",
    "           a: integer\n",
    "           b: integer\n",
    "\n",
    "     Outputs:\n",
    "           result: integer\n",
    "    '''\n",
    "    return a+b\n",
    "help(add)"
   ]
  },
  {
   "cell_type": "code",
   "execution_count": 20,
   "metadata": {},
   "outputs": [
    {
     "output_type": "stream",
     "name": "stdout",
     "text": [
      "Help on function my_func in module __main__:\n\nmy_func(a: str) -> ' a repeated 5 times'\n\n"
     ]
    },
    {
     "output_type": "execute_result",
     "data": {
      "text/plain": [
       "'&&&&&'"
      ]
     },
     "metadata": {},
     "execution_count": 20
    }
   ],
   "source": [
    "x = 4\n",
    "y = 5\n",
    "def my_func(a: str)->\" a repeated \" + str(max(x, y)) + \" times\":\n",
    "    return(a * max(x, y))\n",
    "\n",
    "\n",
    "help(my_func)\n",
    "my_func(\"&\")"
   ]
  },
  {
   "cell_type": "code",
   "execution_count": 22,
   "metadata": {},
   "outputs": [
    {
     "output_type": "stream",
     "name": "stdout",
     "text": [
      "Help on function my_func in module __main__:\n\nmy_func(a: str = 'xyz', b: int = 6) -> 'string'\n\n"
     ]
    }
   ],
   "source": [
    "def my_func(a:str=\"xyz\", b:int=6)->\"string\":\n",
    "    pass\n",
    "\n",
    "help(my_func)"
   ]
  },
  {
   "cell_type": "code",
   "execution_count": 23,
   "metadata": {},
   "outputs": [
    {
     "output_type": "stream",
     "name": "stdout",
     "text": [
      "Help on function my_func in module __main__:\n\nmy_func(a: str = 'xyz', b: int = 6, *args: 'additional parameters', **kwargs: 'additional keyword-only params') -> 'string'\n\n"
     ]
    }
   ],
   "source": [
    "def my_func(\n",
    "    a:str=\"xyz\",\n",
    "    b:int=6,\n",
    "    *args: \"additional parameters\",\n",
    "    **kwargs: \"additional keyword-only params\"\n",
    ")->\"string\":\n",
    "    pass\n",
    "\n",
    "help(my_func)"
   ]
  },
  {
   "cell_type": "code",
   "execution_count": 24,
   "metadata": {},
   "outputs": [
    {
     "output_type": "execute_result",
     "data": {
      "text/plain": [
       "{'a': str,\n",
       " 'b': int,\n",
       " 'args': 'additional parameters',\n",
       " 'kwargs': 'additional keyword-only params',\n",
       " 'return': 'string'}"
      ]
     },
     "metadata": {},
     "execution_count": 24
    }
   ],
   "source": [
    "my_func.__annotations__"
   ]
  },
  {
   "cell_type": "code",
   "execution_count": 25,
   "metadata": {},
   "outputs": [
    {
     "output_type": "execute_result",
     "data": {
      "text/plain": [
       "dict"
      ]
     },
     "metadata": {},
     "execution_count": 25
    }
   ],
   "source": [
    "type(my_func.__annotations__)"
   ]
  },
  {
   "cell_type": "code",
   "execution_count": null,
   "metadata": {},
   "outputs": [],
   "source": []
  }
 ]
}