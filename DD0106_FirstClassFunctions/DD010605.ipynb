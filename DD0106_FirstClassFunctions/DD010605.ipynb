{
 "metadata": {
  "language_info": {
   "codemirror_mode": {
    "name": "ipython",
    "version": 3
   },
   "file_extension": ".py",
   "mimetype": "text/x-python",
   "name": "python",
   "nbconvert_exporter": "python",
   "pygments_lexer": "ipython3",
   "version": "3.8.5-final"
  },
  "orig_nbformat": 2,
  "kernelspec": {
   "name": "python38564bitvenvvenv29795fd3ebc6467f927a688fb305efe1",
   "display_name": "Python 3.8.5 64-bit ('venv': venv)",
   "language": "python"
  }
 },
 "nbformat": 4,
 "nbformat_minor": 2,
 "cells": [
  {
   "cell_type": "code",
   "execution_count": 4,
   "metadata": {},
   "outputs": [
    {
     "output_type": "execute_result",
     "data": {
      "text/plain": [
       "<function __main__.<lambda>(s)>"
      ]
     },
     "metadata": {},
     "execution_count": 4
    }
   ],
   "source": [
    "lambda x:x**2\n",
    "lambda x,y: x*y\n",
    "lambda : \"hello\"\n",
    "lambda s:s[::-1].upper()"
   ]
  },
  {
   "cell_type": "code",
   "execution_count": 5,
   "metadata": {},
   "outputs": [
    {
     "output_type": "execute_result",
     "data": {
      "text/plain": [
       "function"
      ]
     },
     "metadata": {},
     "execution_count": 5
    }
   ],
   "source": [
    "type( lambda x:x**2)"
   ]
  },
  {
   "cell_type": "code",
   "execution_count": 18,
   "metadata": {},
   "outputs": [
    {
     "output_type": "stream",
     "name": "stdout",
     "text": [
      "<class 'function'>\n"
     ]
    },
    {
     "output_type": "execute_result",
     "data": {
      "text/plain": [
       "<function __main__.<lambda>(x)>"
      ]
     },
     "metadata": {},
     "execution_count": 18
    }
   ],
   "source": [
    "my_lmbda = lambda x:x**2\n",
    "print(type(my_lmbda))\n",
    "my_lmbda\n",
    "# anonymouse function  (without name)"
   ]
  },
  {
   "cell_type": "code",
   "execution_count": 19,
   "metadata": {},
   "outputs": [
    {
     "output_type": "stream",
     "name": "stdout",
     "text": [
      "<class 'function'>\n"
     ]
    },
    {
     "output_type": "execute_result",
     "data": {
      "text/plain": [
       "<function __main__.my_func()>"
      ]
     },
     "metadata": {},
     "execution_count": 19
    }
   ],
   "source": [
    "def my_func():\n",
    "    pass\n",
    "print(type(my_func))\n",
    "my_func"
   ]
  },
  {
   "cell_type": "code",
   "execution_count": 8,
   "metadata": {},
   "outputs": [
    {
     "output_type": "execute_result",
     "data": {
      "text/plain": [
       "9"
      ]
     },
     "metadata": {},
     "execution_count": 8
    }
   ],
   "source": [
    "my_func1 = lambda x:x**2\n",
    "my_func1(3)"
   ]
  },
  {
   "cell_type": "code",
   "execution_count": 14,
   "metadata": {},
   "outputs": [
    {
     "output_type": "execute_result",
     "data": {
      "text/plain": [
       "100"
      ]
     },
     "metadata": {},
     "execution_count": 14
    }
   ],
   "source": [
    " my_func1 =  lambda x:x**2\n",
    "\n",
    "def apply_func(x, fn):\n",
    "    return fn(x)\n",
    "\n",
    "apply_func(10, my_func1) "
   ]
  },
  {
   "cell_type": "code",
   "execution_count": 16,
   "metadata": {},
   "outputs": [
    {
     "output_type": "execute_result",
     "data": {
      "text/plain": [
       "100"
      ]
     },
     "metadata": {},
     "execution_count": 16
    }
   ],
   "source": [
    "def apply_func(x, fn):\n",
    "    return fn(x)\n",
    "\n",
    "apply_func(10, lambda x:x**2)"
   ]
  },
  {
   "cell_type": "code",
   "execution_count": 21,
   "metadata": {},
   "outputs": [
    {
     "output_type": "execute_result",
     "data": {
      "text/plain": [
       "(140602701083552, 140602701083552)"
      ]
     },
     "metadata": {},
     "execution_count": 21
    }
   ],
   "source": [
    "def my_func():\n",
    "    pass\n",
    "\n",
    "my_func2 = my_func\n",
    "\n",
    "id(my_func2), id(my_func)\n"
   ]
  },
  {
   "cell_type": "code",
   "execution_count": 24,
   "metadata": {},
   "outputs": [
    {
     "output_type": "execute_result",
     "data": {
      "text/plain": [
       "(140602689284848, 140602689284848)"
      ]
     },
     "metadata": {},
     "execution_count": 24
    }
   ],
   "source": [
    "my_lmbda = lambda x:x**2\n",
    "\n",
    "my_lmbda2 = my_lmbda\n",
    "\n",
    "id(my_lmbda2), id(my_lmbda)"
   ]
  },
  {
   "cell_type": "code",
   "execution_count": 25,
   "metadata": {},
   "outputs": [
    {
     "output_type": "execute_result",
     "data": {
      "text/plain": [
       "(10, 10)"
      ]
     },
     "metadata": {},
     "execution_count": 25
    }
   ],
   "source": [
    "my_lmbda = lambda x,y=10: x*y\n",
    "\n",
    "my_lmbda(1, 10), my_lmbda(1)"
   ]
  },
  {
   "cell_type": "code",
   "execution_count": 26,
   "metadata": {},
   "outputs": [
    {
     "output_type": "execute_result",
     "data": {
      "text/plain": [
       "(10, ('args',), 10, {'z': 'z'})"
      ]
     },
     "metadata": {},
     "execution_count": 26
    }
   ],
   "source": [
    "f = lambda x,*args, y, **kwargs: (x, args, y, kwargs)\n",
    "f(10, \"args\", y=10, z=\"z\")"
   ]
  },
  {
   "cell_type": "code",
   "execution_count": null,
   "metadata": {},
   "outputs": [],
   "source": []
  }
 ]
}