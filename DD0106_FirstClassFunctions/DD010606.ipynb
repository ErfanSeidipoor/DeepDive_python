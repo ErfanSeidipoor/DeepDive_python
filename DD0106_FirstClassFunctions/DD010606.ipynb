{
 "metadata": {
  "language_info": {
   "codemirror_mode": {
    "name": "ipython",
    "version": 3
   },
   "file_extension": ".py",
   "mimetype": "text/x-python",
   "name": "python",
   "nbconvert_exporter": "python",
   "pygments_lexer": "ipython3",
   "version": "3.8.5-final"
  },
  "orig_nbformat": 2,
  "kernelspec": {
   "name": "python38564bitvenvvenv29795fd3ebc6467f927a688fb305efe1",
   "display_name": "Python 3.8.5 64-bit ('venv': venv)",
   "language": "python"
  }
 },
 "nbformat": 4,
 "nbformat_minor": 2,
 "cells": [
  {
   "cell_type": "code",
   "execution_count": 1,
   "metadata": {},
   "outputs": [
    {
     "output_type": "stream",
     "name": "stdout",
     "text": [
      "Help on built-in function sorted in module builtins:\n\nsorted(iterable, /, *, key=None, reverse=False)\n    Return a new list containing all items from the iterable in ascending order.\n    \n    A custom key function can be supplied to customize the sort order, and the\n    reverse flag can be set to request the result in descending order.\n\n"
     ]
    }
   ],
   "source": [
    "help(sorted)"
   ]
  },
  {
   "cell_type": "code",
   "execution_count": 2,
   "metadata": {},
   "outputs": [
    {
     "output_type": "execute_result",
     "data": {
      "text/plain": [
       "[2, 2, 3, 4, 6, 7, 8, 9]"
      ]
     },
     "metadata": {},
     "execution_count": 2
    }
   ],
   "source": [
    "l=[9,8,3,4,7,2,6,2]\n",
    "sorted(l)"
   ]
  },
  {
   "cell_type": "code",
   "execution_count": 11,
   "metadata": {},
   "outputs": [
    {
     "output_type": "execute_result",
     "data": {
      "text/plain": [
       "['B', 'a', 't', 'v']"
      ]
     },
     "metadata": {},
     "execution_count": 11
    }
   ],
   "source": [
    "l=['a', 'v', 'B', 't']\n",
    "sorted(l)"
   ]
  },
  {
   "cell_type": "code",
   "execution_count": 8,
   "metadata": {},
   "outputs": [
    {
     "output_type": "execute_result",
     "data": {
      "text/plain": [
       "(97, 65, 98, 49)"
      ]
     },
     "metadata": {},
     "execution_count": 8
    }
   ],
   "source": [
    "ord('a'), ord('A'), ord('b'), ord(\"1\")"
   ]
  },
  {
   "cell_type": "code",
   "execution_count": 12,
   "metadata": {},
   "outputs": [
    {
     "output_type": "execute_result",
     "data": {
      "text/plain": [
       "['a', 'B', 't', 'v']"
      ]
     },
     "metadata": {},
     "execution_count": 12
    }
   ],
   "source": [
    "l=['a', 'v', 'B', 't']\n",
    "sorted(l, key= lambda s:s.upper())"
   ]
  },
  {
   "cell_type": "code",
   "execution_count": 16,
   "metadata": {},
   "outputs": [
    {
     "output_type": "stream",
     "name": "stdout",
     "text": [
      "['abc', 'def', 'ghi']\n['def', 'ghi', 'abc']\n"
     ]
    }
   ],
   "source": [
    "d = {'def':200, 'abc':400, 'ghi': 300}\n",
    "\n",
    "print(sorted(d))\n",
    "print( sorted(d, key=lambda s: d[s]) )\n",
    "\n",
    "#based on key"
   ]
  },
  {
   "cell_type": "code",
   "execution_count": 18,
   "metadata": {},
   "outputs": [
    {
     "output_type": "execute_result",
     "data": {
      "text/plain": [
       "['cheese', 'Idle', 'Gilliam', 'Plain', 'Chapman', 'Jones']"
      ]
     },
     "metadata": {},
     "execution_count": 18
    }
   ],
   "source": [
    "l = ['cheese', 'Idle', 'Plain', 'Chapman', 'Gilliam', 'Jones']\n",
    "sorted(l, key=lambda s: s[-1])"
   ]
  },
  {
   "cell_type": "code",
   "execution_count": null,
   "metadata": {},
   "outputs": [],
   "source": []
  }
 ]
}