{
 "metadata": {
  "language_info": {
   "codemirror_mode": {
    "name": "ipython",
    "version": 3
   },
   "file_extension": ".py",
   "mimetype": "text/x-python",
   "name": "python",
   "nbconvert_exporter": "python",
   "pygments_lexer": "ipython3",
   "version": "3.8.5-final"
  },
  "orig_nbformat": 2,
  "kernelspec": {
   "name": "python38564bitvenvvenv29795fd3ebc6467f927a688fb305efe1",
   "display_name": "Python 3.8.5 64-bit ('venv': venv)",
   "language": "python"
  }
 },
 "nbformat": 4,
 "nbformat_minor": 2,
 "cells": [
  {
   "cell_type": "code",
   "execution_count": 34,
   "metadata": {},
   "outputs": [],
   "source": [
    "def add_item(item, my_list=[]):\n",
    "    my_list.append(item)\n",
    "    return my_list"
   ]
  },
  {
   "cell_type": "code",
   "execution_count": 35,
   "metadata": {},
   "outputs": [
    {
     "output_type": "stream",
     "name": "stdout",
     "text": [
      "['python1']\n"
     ]
    },
    {
     "output_type": "execute_result",
     "data": {
      "text/plain": [
       "['python1', 'python2']"
      ]
     },
     "metadata": {},
     "execution_count": 35
    }
   ],
   "source": [
    "list1 = add_item(\"python1\")\n",
    "print(list1)\n",
    "add_item(\"python2\", list1)"
   ]
  },
  {
   "cell_type": "code",
   "execution_count": 36,
   "metadata": {},
   "outputs": [
    {
     "output_type": "stream",
     "name": "stdout",
     "text": [
      "['python1', 'python2', 'python1']\n"
     ]
    },
    {
     "output_type": "execute_result",
     "data": {
      "text/plain": [
       "['python1', 'python2', 'python1', 'python2']"
      ]
     },
     "metadata": {},
     "execution_count": 36
    }
   ],
   "source": [
    "list2 = add_item(\"python1\")\n",
    "print(list2)\n",
    "add_item(\"python2\", list2)"
   ]
  },
  {
   "cell_type": "code",
   "execution_count": 37,
   "metadata": {},
   "outputs": [
    {
     "output_type": "execute_result",
     "data": {
      "text/plain": [
       "True"
      ]
     },
     "metadata": {},
     "execution_count": 37
    }
   ],
   "source": [
    "list1 is list2"
   ]
  },
  {
   "cell_type": "code",
   "execution_count": 38,
   "metadata": {},
   "outputs": [],
   "source": [
    "def add_item2(item, my_list=None):\n",
    "    if not my_list:\n",
    "        my_list = []\n",
    "    my_list.append(item)\n",
    "    return my_list"
   ]
  },
  {
   "cell_type": "code",
   "execution_count": 39,
   "metadata": {},
   "outputs": [
    {
     "output_type": "stream",
     "name": "stdout",
     "text": [
      "['python1']\n"
     ]
    },
    {
     "output_type": "execute_result",
     "data": {
      "text/plain": [
       "['python1', 'python2']"
      ]
     },
     "metadata": {},
     "execution_count": 39
    }
   ],
   "source": [
    "list1_ = add_item2(\"python1\")\n",
    "print(list1_)\n",
    "add_item2(\"python2\", list1_)"
   ]
  },
  {
   "cell_type": "code",
   "execution_count": 40,
   "metadata": {},
   "outputs": [
    {
     "output_type": "stream",
     "name": "stdout",
     "text": [
      "calculating 2!\ncalculating 1!\n"
     ]
    },
    {
     "output_type": "execute_result",
     "data": {
      "text/plain": [
       "6"
      ]
     },
     "metadata": {},
     "execution_count": 40
    }
   ],
   "source": [
    "def factorial(n):\n",
    "    if n == 1:\n",
    "        return 1\n",
    "    else:\n",
    "        print(\"calculating {0}!\".format(n-1))\n",
    "        return n * factorial(n-1)\n",
    "\n",
    "factorial(3)"
   ]
  },
  {
   "cell_type": "code",
   "execution_count": 41,
   "metadata": {},
   "outputs": [
    {
     "output_type": "stream",
     "name": "stdout",
     "text": [
      "calculating 4!\ncalculating 3!\ncalculating 2!\n24\n{2: 2, 3: 6, 4: 24}\n"
     ]
    }
   ],
   "source": [
    "def factorial_cache(n, cache):\n",
    "    if n == 1:\n",
    "        return 1\n",
    "    elif n in cache:\n",
    "        return cache[n]\n",
    "    else:\n",
    "        print(\"calculating {0}!\".format(n))\n",
    "        result =  n * factorial_cache(n-1, cache)\n",
    "        cache[n]= result\n",
    "        return result\n",
    "\n",
    "cache = {}\n",
    "result = factorial_cache(4, cache)\n",
    "\n",
    "print(result)\n",
    "print(cache)"
   ]
  },
  {
   "cell_type": "code",
   "execution_count": 42,
   "metadata": {},
   "outputs": [
    {
     "output_type": "stream",
     "name": "stdout",
     "text": [
      "calculating 5!\n"
     ]
    },
    {
     "output_type": "execute_result",
     "data": {
      "text/plain": [
       "120"
      ]
     },
     "metadata": {},
     "execution_count": 42
    }
   ],
   "source": [
    "factorial_cache(5, cache)"
   ]
  },
  {
   "cell_type": "code",
   "execution_count": 43,
   "metadata": {},
   "outputs": [
    {
     "output_type": "stream",
     "name": "stdout",
     "text": [
      "calculating 4!\ncalculating 3!\ncalculating 2!\n24\ncalculating 5!\n120\n"
     ]
    }
   ],
   "source": [
    "def factorial_cache2(n, cache={}):\n",
    "    if n == 1:\n",
    "        return 1\n",
    "    elif n in cache:\n",
    "        return cache[n]\n",
    "    else:\n",
    "        print(\"calculating {0}!\".format(n))\n",
    "        result =  n * factorial_cache(n-1, cache)\n",
    "        cache[n]= result\n",
    "        return result\n",
    "\n",
    "\n",
    "print(factorial_cache2(4))\n",
    "\n",
    "print(factorial_cache2(5))\n"
   ]
  }
 ]
}