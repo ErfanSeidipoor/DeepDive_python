{
 "metadata": {
  "language_info": {
   "codemirror_mode": {
    "name": "ipython",
    "version": 3
   },
   "file_extension": ".py",
   "mimetype": "text/x-python",
   "name": "python",
   "nbconvert_exporter": "python",
   "pygments_lexer": "ipython3",
   "version": "3.8.5-final"
  },
  "orig_nbformat": 2,
  "kernelspec": {
   "name": "python38564bitvenvvenv29795fd3ebc6467f927a688fb305efe1",
   "display_name": "Python 3.8.5 64-bit ('venv': venv)",
   "language": "python"
  }
 },
 "nbformat": 4,
 "nbformat_minor": 2,
 "cells": [
  {
   "cell_type": "code",
   "execution_count": 2,
   "metadata": {},
   "outputs": [
    {
     "output_type": "stream",
     "name": "stdout",
     "text": [
      "0\n[1, 2, 3, 4, 5, 6]\n"
     ]
    }
   ],
   "source": [
    "l = [0, 1, 2, 3, 4, 5, 6]\n",
    "print(l[0])\n",
    "print(l[1:])\n",
    "\n",
    "# we may want to unpack every single item in an iterable"
   ]
  },
  {
   "cell_type": "code",
   "execution_count": 5,
   "metadata": {},
   "outputs": [
    {
     "output_type": "stream",
     "name": "stdout",
     "text": [
      "0\n[1, 2, 3, 4, 5, 6]\n"
     ]
    }
   ],
   "source": [
    "l = [0, 1, 2, 3, 4, 5, 6]\n",
    "a, b = l[0], l[1:]\n",
    "print(a)\n",
    "print(b)"
   ]
  },
  {
   "cell_type": "code",
   "execution_count": 9,
   "metadata": {},
   "outputs": [
    {
     "output_type": "stream",
     "name": "stdout",
     "text": [
      "0\n[1, 2, 3, 4, 5, 6] <class 'list'>\n"
     ]
    }
   ],
   "source": [
    "l = [0, 1, 2, 3, 4, 5, 6]\n",
    "a, *b = l\n",
    "print(a)\n",
    "print(b, type(b))"
   ]
  },
  {
   "cell_type": "code",
   "execution_count": 8,
   "metadata": {},
   "outputs": [
    {
     "output_type": "stream",
     "name": "stdout",
     "text": [
      "0\n[1, 2, 3, 4, 5, 6] <class 'list'>\n"
     ]
    }
   ],
   "source": [
    "l = (0, 1, 2, 3, 4, 5, 6)\n",
    "a, *b = l\n",
    "print(a)\n",
    "print(b, type(b))"
   ]
  },
  {
   "cell_type": "code",
   "execution_count": 10,
   "metadata": {},
   "outputs": [
    {
     "output_type": "stream",
     "name": "stdout",
     "text": [
      "0\n[1, 2, 3, 4, 5, 6] <class 'list'>\n"
     ]
    }
   ],
   "source": [
    "l = {0, 1, 2, 3, 4, 5, 6}\n",
    "a, *b = l\n",
    "print(a)\n",
    "print(b, type(b))"
   ]
  },
  {
   "cell_type": "code",
   "execution_count": 11,
   "metadata": {},
   "outputs": [
    {
     "output_type": "stream",
     "name": "stdout",
     "text": [
      "0\n['1', '2', '3', '4', '5', '6'] <class 'list'>\n"
     ]
    }
   ],
   "source": [
    "l = \"0123456\"\n",
    "a, *b = l\n",
    "print(a)\n",
    "print(b, type(b))"
   ]
  },
  {
   "cell_type": "code",
   "execution_count": 12,
   "metadata": {},
   "outputs": [
    {
     "output_type": "stream",
     "name": "stdout",
     "text": [
      "0\n1 <class 'int'>\n[2, 3, 4, 5, 6] <class 'list'>\n"
     ]
    }
   ],
   "source": [
    "l = [0, 1, 2, 3, 4, 5, 6]\n",
    "a, b, *c = l\n",
    "print(a)\n",
    "print(b, type(b))\n",
    "print(c, type(c))"
   ]
  },
  {
   "cell_type": "code",
   "execution_count": 20,
   "metadata": {},
   "outputs": [
    {
     "output_type": "stream",
     "name": "stdout",
     "text": [
      "0\n1 <class 'int'>\n[2, 3, 4, 5] <class 'list'>\n6 <class 'int'>\n"
     ]
    }
   ],
   "source": [
    "l = [0, 1, 2, 3, 4, 5, 6]\n",
    "a, b, *c, d = l\n",
    "print(a)\n",
    "print(b, type(b))\n",
    "print(c, type(c))\n",
    "print(d, type(d))"
   ]
  },
  {
   "cell_type": "code",
   "execution_count": 21,
   "metadata": {},
   "outputs": [
    {
     "output_type": "stream",
     "name": "stdout",
     "text": [
      "0\n1 <class 'str'>\n['2', '3', '4', '5', '6', '7', '8'] <class 'list'>\n9 <class 'str'>\n"
     ]
    }
   ],
   "source": [
    "l = \"0123456789\"\n",
    "a, b, *c, d = l\n",
    "print(a)\n",
    "print(b, type(b))\n",
    "print(c, type(c))\n",
    "print(d, type(d))"
   ]
  },
  {
   "cell_type": "code",
   "execution_count": 22,
   "metadata": {},
   "outputs": [
    {
     "output_type": "error",
     "ename": "SyntaxError",
     "evalue": "two starred expressions in assignment (<ipython-input-22-0cd67fa2d996>, line 2)",
     "traceback": [
      "\u001b[0;36m  File \u001b[0;32m\"<ipython-input-22-0cd67fa2d996>\"\u001b[0;36m, line \u001b[0;32m2\u001b[0m\n\u001b[0;31m    a, *b, *c = l\u001b[0m\n\u001b[0m    ^\u001b[0m\n\u001b[0;31mSyntaxError\u001b[0m\u001b[0;31m:\u001b[0m two starred expressions in assignment\n"
     ]
    }
   ],
   "source": [
    "l = [0, 1, 2, 3, 4, 5, 6]\n",
    "a, *b, *c = l"
   ]
  },
  {
   "cell_type": "code",
   "execution_count": 26,
   "metadata": {},
   "outputs": [
    {
     "output_type": "execute_result",
     "data": {
      "text/plain": [
       "[1, 2, 3, 4, 5, 6]"
      ]
     },
     "metadata": {},
     "execution_count": 26
    }
   ],
   "source": [
    "l1 = [1, 2, 3]\n",
    "l2 = [4, 5, 6]\n",
    "\n",
    "[*l1, *l2]"
   ]
  },
  {
   "cell_type": "code",
   "execution_count": 27,
   "metadata": {},
   "outputs": [
    {
     "output_type": "execute_result",
     "data": {
      "text/plain": [
       "[1, 2, 3, '4', '5', '6']"
      ]
     },
     "metadata": {},
     "execution_count": 27
    }
   ],
   "source": [
    "l1 = [1, 2, 3]\n",
    "l2 = \"456\"\n",
    "\n",
    "[*l1, *l2]"
   ]
  },
  {
   "cell_type": "code",
   "execution_count": 28,
   "metadata": {},
   "outputs": [
    {
     "output_type": "stream",
     "name": "stdout",
     "text": [
      "1\n2 <class 'int'>\n[3, 4, 5, 6, 7, 8] <class 'list'>\n9 <class 'int'>\n"
     ]
    }
   ],
   "source": [
    "l = {1, 2, 3, 4, 5, 6, 7, 8, 9}\n",
    "a, b, *c, d = l\n",
    "print(a)\n",
    "print(b, type(b))\n",
    "print(c, type(c))\n",
    "print(d, type(d))"
   ]
  },
  {
   "cell_type": "code",
   "execution_count": 34,
   "metadata": {},
   "outputs": [
    {
     "output_type": "stream",
     "name": "stdout",
     "text": [
      "[{'p': 1, 'y': 2}, {'t': 3, 'h': 4}, {'h': 5, 'o': 6, 'n': 7}]\n['p', 'y', 't', 'h', 'h', 'o', 'n']\n{'t', 'p', 'h', 'n', 'o', 'y'}\n"
     ]
    }
   ],
   "source": [
    "d1 = {'p':1, 'y':2}\n",
    "d2 = {'t':3, 'h':4}\n",
    "d3 = {'h':5, 'o':6, 'n':7}\n",
    "\n",
    "print([d1, d2, d3])\n",
    "print([*d1, *d2, *d3])\n",
    "print({*d1, *d2, *d3})"
   ]
  },
  {
   "cell_type": "code",
   "execution_count": 41,
   "metadata": {},
   "outputs": [
    {
     "output_type": "stream",
     "name": "stdout",
     "text": [
      "{'p': 1, 'y': 2}\n{'p': 1, 'y': 2, 't': 3, 'h': 5, 'o': 6, 'n': 7}\n"
     ]
    }
   ],
   "source": [
    "d1 = {'p':1, 'y':2}\n",
    "d2 = {'t':3, 'h':4}\n",
    "d3 = {'h':5, 'o':6, 'n':7}\n",
    "print({**d1})\n",
    "print({**d1, **d2, **d3})\n",
    "# value of 'h' in d3 overwrote  the value of 'h' in d2"
   ]
  },
  {
   "cell_type": "code",
   "execution_count": 44,
   "metadata": {},
   "outputs": [
    {
     "output_type": "stream",
     "name": "stdout",
     "text": [
      "{'a': 1, 'c': 3, 'b': 2}\n{'a': 10, 'b': 2, 'c': 3}\n"
     ]
    }
   ],
   "source": [
    "d1 = {'a': 1, 'b': 2}\n",
    "d2 = {'a':10, 'c':3, **d1}\n",
    "print(d2)\n",
    "\n",
    "d3 = { **d1, 'a':10, 'c':3}\n",
    "print(d3)"
   ]
  },
  {
   "cell_type": "code",
   "execution_count": 46,
   "metadata": {},
   "outputs": [
    {
     "output_type": "execute_result",
     "data": {
      "text/plain": [
       "[1, 2, 3, 4]"
      ]
     },
     "metadata": {},
     "execution_count": 46
    }
   ],
   "source": [
    "[1, 2, *[3,4]]"
   ]
  },
  {
   "cell_type": "code",
   "execution_count": 48,
   "metadata": {},
   "outputs": [
    {
     "output_type": "stream",
     "name": "stdout",
     "text": [
      "1 2 3 4\n"
     ]
    }
   ],
   "source": [
    "a, b, (c, d) = [1, 2, [3,4]]\n",
    "print(a,b,c,d)"
   ]
  },
  {
   "cell_type": "code",
   "execution_count": 50,
   "metadata": {},
   "outputs": [
    {
     "output_type": "stream",
     "name": "stdout",
     "text": [
      "1 [2, 3] x y z\n"
     ]
    }
   ],
   "source": [
    "a, *b, (c,d,e) = [1,2,3, 'xyz']\n",
    "print(a, b, c, d, e)"
   ]
  },
  {
   "cell_type": "code",
   "execution_count": 51,
   "metadata": {},
   "outputs": [
    {
     "output_type": "stream",
     "name": "stdout",
     "text": [
      "1 [2, 3] x ['y', 'z']\n"
     ]
    }
   ],
   "source": [
    "a, *b, (c,*d) = [1,2,3, 'xyz']\n",
    "print(a, b, c, d)"
   ]
  },
  {
   "cell_type": "code",
   "execution_count": 58,
   "metadata": {},
   "outputs": [
    {
     "output_type": "stream",
     "name": "stdout",
     "text": [
      "{1, 2, 3, 4, 5, 7, 10, 11}\n{1, 2, 3, 4, 5, 7, 10, 11}\n{1, 2, 3, 4, 5, 7, 10, 11}\n[1, 2, 3, 3, 4, 5, 2, 3, 7, 3, 10, 11]\n"
     ]
    }
   ],
   "source": [
    "s1 = {1,   2,  3}\n",
    "s2 = {4,   5,  3}\n",
    "s3 = {7,   2,  3}\n",
    "s4 = {10, 11,  3}\n",
    "\n",
    "print(   s1.union(s2).union(s3).union(s4)   )\n",
    "print(   s1.union(s2, s3, s4)   )\n",
    "print(   {*s1, *s2, *s3, *s4}   )\n",
    "print(   [*s1, *s2, *s3, *s4]   )\n"
   ]
  },
  {
   "cell_type": "code",
   "execution_count": 64,
   "metadata": {},
   "outputs": [
    {
     "output_type": "execute_result",
     "data": {
      "text/plain": [
       "(1, [2, 3, 4], 'p', 'thon', ['t', 'h', 'o', 'n'])"
      ]
     },
     "metadata": {},
     "execution_count": 64
    }
   ],
   "source": [
    "l = [1, 2, 3, 4, 'python']\n",
    "l[0], l[1:-1], l[-1][0], l[-1][2:], list(l[-1][2:])"
   ]
  },
  {
   "cell_type": "code",
   "execution_count": null,
   "metadata": {},
   "outputs": [],
   "source": []
  }
 ]
}