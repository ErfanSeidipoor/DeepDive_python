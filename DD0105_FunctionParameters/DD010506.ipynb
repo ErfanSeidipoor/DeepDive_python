{
 "metadata": {
  "language_info": {
   "codemirror_mode": {
    "name": "ipython",
    "version": 3
   },
   "file_extension": ".py",
   "mimetype": "text/x-python",
   "name": "python",
   "nbconvert_exporter": "python",
   "pygments_lexer": "ipython3",
   "version": "3.8.5-final"
  },
  "orig_nbformat": 2,
  "kernelspec": {
   "name": "python38564bitvenvvenv29795fd3ebc6467f927a688fb305efe1",
   "display_name": "Python 3.8.5 64-bit ('venv': venv)",
   "language": "python"
  }
 },
 "nbformat": 4,
 "nbformat_minor": 2,
 "cells": [
  {
   "cell_type": "code",
   "execution_count": 4,
   "metadata": {},
   "outputs": [
    {
     "output_type": "execute_result",
     "data": {
      "text/plain": [
       "(1, 2, 3)"
      ]
     },
     "metadata": {},
     "execution_count": 4
    }
   ],
   "source": [
    "1 ,2 ,3 # what defines a tuple in python, is not ()  but ,"
   ]
  },
  {
   "cell_type": "code",
   "execution_count": 5,
   "metadata": {},
   "outputs": [
    {
     "output_type": "execute_result",
     "data": {
      "text/plain": [
       "(1, 2, 3)"
      ]
     },
     "metadata": {},
     "execution_count": 5
    }
   ],
   "source": [
    "(1, 2, 3) # The () are used to make  the tuple  clearer"
   ]
  },
  {
   "cell_type": "code",
   "execution_count": 19,
   "metadata": {},
   "outputs": [
    {
     "output_type": "stream",
     "name": "stdout",
     "text": [
      "<class 'tuple'>\n<class 'int'>\n<class 'int'>\n"
     ]
    }
   ],
   "source": [
    "print( type( (1,) ))\n",
    "print( type( (1)  ))\n",
    "print( type(  1,  ))"
   ]
  },
  {
   "cell_type": "code",
   "execution_count": 54,
   "metadata": {},
   "outputs": [
    {
     "output_type": "stream",
     "name": "stdout",
     "text": [
      "a <class 'str'>\na <class 'tuple'>\n"
     ]
    }
   ],
   "source": [
    "print(('a') , type( ('a' ) ))\n",
    "print(('a') , type( ('a',) ))"
   ]
  },
  {
   "cell_type": "code",
   "execution_count": 22,
   "metadata": {},
   "outputs": [
    {
     "output_type": "execute_result",
     "data": {
      "text/plain": [
       "((), tuple)"
      ]
     },
     "metadata": {},
     "execution_count": 22
    }
   ],
   "source": [
    "(), type(()) # empty tuple"
   ]
  },
  {
   "cell_type": "code",
   "execution_count": 25,
   "metadata": {},
   "outputs": [
    {
     "output_type": "stream",
     "name": "stdout",
     "text": [
      "1\n2\n3\n"
     ]
    }
   ],
   "source": [
    "a, b, c = [1,2,3]\n",
    "print(a)\n",
    "print(b)\n",
    "print(c)"
   ]
  },
  {
   "cell_type": "code",
   "execution_count": 29,
   "metadata": {},
   "outputs": [
    {
     "output_type": "stream",
     "name": "stdout",
     "text": [
      "10\n20\nhello\n"
     ]
    }
   ],
   "source": [
    "a, b, c = 10, 20, 'hello'\n",
    "print(a)\n",
    "print(b)\n",
    "print(c)"
   ]
  },
  {
   "cell_type": "code",
   "execution_count": 30,
   "metadata": {},
   "outputs": [
    {
     "output_type": "stream",
     "name": "stdout",
     "text": [
      "X\nY\nZ\n"
     ]
    }
   ],
   "source": [
    "a, b, c = \"XYZ\"\n",
    "print(a)\n",
    "print(b)\n",
    "print(c)"
   ]
  },
  {
   "cell_type": "code",
   "execution_count": 33,
   "metadata": {},
   "outputs": [],
   "source": [
    "a = 10\n",
    "b = 20 \n",
    "\n",
    "# instead of writing \n",
    "\n",
    "a,b= 10, 20"
   ]
  },
  {
   "cell_type": "code",
   "execution_count": 34,
   "metadata": {},
   "outputs": [
    {
     "output_type": "stream",
     "name": "stdout",
     "text": [
      "10\n20\nhello\n"
     ]
    }
   ],
   "source": [
    "for e in 10, 20, \"hello\":\n",
    "    print(e)"
   ]
  },
  {
   "cell_type": "code",
   "execution_count": 71,
   "metadata": {},
   "outputs": [],
   "source": [
    "a, b = 1, 3\n",
    "a, b  = (1, 3)\n",
    "(a, b) = (1,3)"
   ]
  },
  {
   "cell_type": "code",
   "execution_count": 35,
   "metadata": {},
   "outputs": [
    {
     "output_type": "stream",
     "name": "stdout",
     "text": [
      "X\nY\nZ\n"
     ]
    }
   ],
   "source": [
    "for e in \"XYZ\":\n",
    "    print(e)"
   ]
  },
  {
   "cell_type": "code",
   "execution_count": 40,
   "metadata": {},
   "outputs": [
    {
     "output_type": "stream",
     "name": "stdout",
     "text": [
      "a =  20\nb =  10\n"
     ]
    }
   ],
   "source": [
    "a = 10\n",
    "b = 20\n",
    "\n",
    "a,b = b,a\n",
    "\n",
    "print(\"a = \", a)\n",
    "print(\"b = \", b)\n",
    "\n",
    "# swapping values of two variables\n",
    "# This works in python, the entire RHS is evaluated \n",
    "# first  and compeletly then assignments are made to the LHS"
   ]
  },
  {
   "cell_type": "code",
   "execution_count": 46,
   "metadata": {},
   "outputs": [
    {
     "output_type": "stream",
     "name": "stdout",
     "text": [
      "key1 1\nkey2 2\nkey3 3\n"
     ]
    }
   ],
   "source": [
    "d = { \"key1\": 1, \"key2\": 2, \"key3\": 3, }\n",
    "a, b, c = d\n",
    "print(a, d[a])\n",
    "print(b, d[b])\n",
    "print(c, d[c])\n",
    "\n",
    "# Dictionaries (and sets) are unordered  types,\n",
    "# They can be iterated, but there is no guaranted\n",
    "#  the order of the result will match you expected\n",
    "\n",
    "# In practice, we rarely unpacked sets and dictinonaries in precisely this way   "
   ]
  },
  {
   "cell_type": "code",
   "execution_count": 92,
   "metadata": {},
   "outputs": [
    {
     "output_type": "stream",
     "name": "stdout",
     "text": [
      "<class 'dict_keys'>\nkey1\nkey2\nkey3\n"
     ]
    }
   ],
   "source": [
    "d = { \"key1\": 1, \"key2\": 2, \"key3\": 3, }\n",
    "print(type(d.keys()))\n",
    "for e in d.keys():\n",
    "    print(e)"
   ]
  },
  {
   "cell_type": "code",
   "execution_count": 91,
   "metadata": {},
   "outputs": [
    {
     "output_type": "stream",
     "name": "stdout",
     "text": [
      "<class 'dict_values'>\n1\n2\n3\n"
     ]
    }
   ],
   "source": [
    "d = { \"key1\": 1, \"key2\": 2, \"key3\": 3, }\n",
    "print(type(d.values()))\n",
    "for e in d.values():\n",
    "    print(e)"
   ]
  },
  {
   "cell_type": "code",
   "execution_count": 90,
   "metadata": {},
   "outputs": [
    {
     "output_type": "stream",
     "name": "stdout",
     "text": [
      "<class 'dict_items'>\nkey1 <class 'str'> 1 <class 'int'>\nkey2 <class 'str'> 2 <class 'int'>\nkey3 <class 'str'> 3 <class 'int'>\n"
     ]
    }
   ],
   "source": [
    "d = { \"key1\": 1, \"key2\": 2, \"key3\": 3, }\n",
    "print(type(d.items()))\n",
    "for key,value in d.items():\n",
    "    print(key, type(key),value , type(value))"
   ]
  },
  {
   "cell_type": "code",
   "execution_count": 50,
   "metadata": {},
   "outputs": [],
   "source": [
    "s = {'p', 'y', 't', 'h', 'o', 'n'}\n",
    "a, b, c, d, e, f= s\n"
   ]
  },
  {
   "cell_type": "code",
   "execution_count": null,
   "metadata": {},
   "outputs": [],
   "source": []
  }
 ]
}