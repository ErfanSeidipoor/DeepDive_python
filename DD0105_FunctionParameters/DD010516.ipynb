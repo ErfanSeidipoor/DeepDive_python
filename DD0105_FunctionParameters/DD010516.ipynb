{
 "metadata": {
  "language_info": {
   "codemirror_mode": {
    "name": "ipython",
    "version": 3
   },
   "file_extension": ".py",
   "mimetype": "text/x-python",
   "name": "python",
   "nbconvert_exporter": "python",
   "pygments_lexer": "ipython3",
   "version": "3.8.5-final"
  },
  "orig_nbformat": 2,
  "kernelspec": {
   "name": "python38564bitvenvvenv29795fd3ebc6467f927a688fb305efe1",
   "display_name": "Python 3.8.5 64-bit ('venv': venv)",
   "language": "python"
  }
 },
 "nbformat": 4,
 "nbformat_minor": 2,
 "cells": [
  {
   "cell_type": "code",
   "execution_count": 2,
   "metadata": {},
   "outputs": [],
   "source": [
    "import time"
   ]
  },
  {
   "cell_type": "code",
   "execution_count": 3,
   "metadata": {},
   "outputs": [
    {
     "output_type": "stream",
     "name": "stdout",
     "text": [
      "(1, 2, 3) {'sep': ' - ', 'end': '***'}\n"
     ]
    }
   ],
   "source": [
    "def time_it(fn, *args, **kwargs):\n",
    "    print(args, kwargs)\n",
    "\n",
    "time_it(print, 1,2,3, sep=\" - \", end='***')"
   ]
  },
  {
   "cell_type": "code",
   "execution_count": 9,
   "metadata": {},
   "outputs": [
    {
     "output_type": "stream",
     "name": "stdout",
     "text": [
      "(1, 2, 3) {'sep': ' - ', 'end': '***\\n'}\n1 - 2 - 3***\n"
     ]
    }
   ],
   "source": [
    "def time_it(fn, *args, **kwargs):\n",
    "    fn(args, kwargs)\n",
    "    fn(*args, **kwargs)\n",
    "\n",
    "time_it(print, 1,2,3, sep=\" - \",  end='***\\n')"
   ]
  },
  {
   "cell_type": "code",
   "execution_count": 11,
   "metadata": {},
   "outputs": [
    {
     "output_type": "stream",
     "name": "stdout",
     "text": [
      "1 - 2 - 3***\n1 - 2 - 3***\n1 - 2 - 3***\n1 - 2 - 3***\n1 - 2 - 3***\n"
     ]
    }
   ],
   "source": [
    "def time_it(fn, *args, rep, **kwargs):\n",
    "    for i in range(rep):\n",
    "        fn(*args, **kwargs)\n",
    "\n",
    "time_it(print, 1,2,3, sep=\" - \",  end='***\\n' , rep=5)"
   ]
  },
  {
   "cell_type": "code",
   "execution_count": 13,
   "metadata": {},
   "outputs": [
    {
     "output_type": "stream",
     "name": "stdout",
     "text": [
      "1 - 2 - 3***\n1 - 2 - 3***\n1 - 2 - 3***\n1 - 2 - 3***\n1 - 2 - 3***\n0.006887696999910986\n"
     ]
    }
   ],
   "source": [
    "def time_it(fn, *args, rep, **kwargs):\n",
    "    start = time.perf_counter()\n",
    "    for i in range(rep):\n",
    "        fn(*args, **kwargs)\n",
    "    end = time.perf_counter()\n",
    "\n",
    "    print(end-start)\n",
    "\n",
    "time_it(print, 1,2,3, sep=\" - \",  end='***\\n' , rep=5)"
   ]
  },
  {
   "cell_type": "code",
   "execution_count": null,
   "metadata": {},
   "outputs": [],
   "source": []
  }
 ]
}