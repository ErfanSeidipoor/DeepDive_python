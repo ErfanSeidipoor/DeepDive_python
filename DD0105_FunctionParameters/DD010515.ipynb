{
 "metadata": {
  "language_info": {
   "codemirror_mode": {
    "name": "ipython",
    "version": 3
   },
   "file_extension": ".py",
   "mimetype": "text/x-python",
   "name": "python",
   "nbconvert_exporter": "python",
   "pygments_lexer": "ipython3",
   "version": "3.8.5-final"
  },
  "orig_nbformat": 2,
  "kernelspec": {
   "name": "python38564bitvenvvenv29795fd3ebc6467f927a688fb305efe1",
   "display_name": "Python 3.8.5 64-bit ('venv': venv)",
   "language": "python"
  }
 },
 "nbformat": 4,
 "nbformat_minor": 2,
 "cells": [
  {
   "cell_type": "code",
   "execution_count": 1,
   "metadata": {},
   "outputs": [
    {
     "output_type": "stream",
     "name": "stdout",
     "text": [
      "1 2\n('x', 'y', 'z') <class 'tuple'>\n"
     ]
    }
   ],
   "source": [
    "def func(a,b,*args):\n",
    "    print(a,b)\n",
    "    print(args, type(args))\n",
    "\n",
    "func(1,2,'x','y','z')"
   ]
  },
  {
   "cell_type": "code",
   "execution_count": 2,
   "metadata": {},
   "outputs": [
    {
     "output_type": "error",
     "ename": "SyntaxError",
     "evalue": "positional argument follows keyword argument (<ipython-input-2-06eadaf19950>, line 5)",
     "traceback": [
      "\u001b[0;36m  File \u001b[0;32m\"<ipython-input-2-06eadaf19950>\"\u001b[0;36m, line \u001b[0;32m5\u001b[0m\n\u001b[0;31m    func(a=1, b=2,'x','y','z')\u001b[0m\n\u001b[0m                  ^\u001b[0m\n\u001b[0;31mSyntaxError\u001b[0m\u001b[0;31m:\u001b[0m positional argument follows keyword argument\n"
     ]
    }
   ],
   "source": [
    "def func(a,b,*args):\n",
    "    print(a,b)\n",
    "    print(args, type(args))\n",
    "\n",
    "func(a=1, b=2,'x','y','z')"
   ]
  },
  {
   "cell_type": "code",
   "execution_count": 7,
   "metadata": {},
   "outputs": [
    {
     "output_type": "stream",
     "name": "stdout",
     "text": [
      "1 2\n('x', 'y', 'z') <class 'tuple'>\n"
     ]
    }
   ],
   "source": [
    "def func(a,b=3,*args):\n",
    "    print(a,b)\n",
    "    print(args, type(args))\n",
    "\n",
    "func(1, 2,'x','y','z')"
   ]
  },
  {
   "cell_type": "code",
   "execution_count": null,
   "metadata": {},
   "outputs": [],
   "source": []
  }
 ]
}